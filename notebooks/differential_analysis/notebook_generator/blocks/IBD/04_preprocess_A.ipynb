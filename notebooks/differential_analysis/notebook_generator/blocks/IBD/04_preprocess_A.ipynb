{
  "cells": [
    {
      "cell_type": "markdown",
      "metadata": {},
      "source": [
        "# Preprocess"
      ]
    },
    {
      "cell_type": "markdown",
      "metadata": {},
      "source": [
        "## [ps] rename feature and sample coverage tables"
      ]
    },
    {
      "cell_type": "code",
      "execution_count": {},
      "metadata": {
        "vscode": {
          "languageId": "r"
        }
      },
      "outputs": [],
      "source": [
        "flapro = lapply(AVAILABLE_OMICS, function(x) {\n",
        "    flapro[[x]] %>% inner_join(meta_samples[[x]], by = \"Sample\") %>%         \n",
        "        mutate(Sample = Internal_BioSample_ID) %>% \n",
        "        select(FlaCluster_Rep, Sample, Abundance)    \n",
        "}) %>% setNames(AVAILABLE_OMICS)"
      ]
    },
    {
      "cell_type": "code",
      "execution_count": {},
      "metadata": {
        "vscode": {
          "languageId": "r"
        }
      },
      "outputs": [],
      "source": [
        "sample_coverage = lapply(AVAILABLE_OMICS, function(x) {\n",
        "    sample_coverage[[x]] %>% inner_join(meta_samples[[x]], by = \"Sample\") %>% \n",
        "        mutate(Sample = Internal_BioSample_ID) %>% \n",
        "        select(Sample, Reads1)    \n",
        "}) %>% setNames(AVAILABLE_OMICS)"
      ]
    },
    {
      "cell_type": "markdown",
      "metadata": {},
      "source": [
        "## [ps] metadata - samples"
      ]
    },
    {
      "cell_type": "code",
      "execution_count": {},
      "metadata": {
        "vscode": {
          "languageId": "r"
        }
      },
      "outputs": [],
      "source": [
        "# merge the 2 meta_samples into 1\n",
        "meta_samples = lapply(AVAILABLE_OMICS, function(x) {\n",
        "    meta_samples[[x]] %>% \n",
        "        mutate(Sample = Internal_BioSample_ID) %>% \n",
        "        select(Sample, Participant_ID, Group, week_num, visit_num)\n",
        "}) %>% setNames(AVAILABLE_OMICS)\n",
        "meta_samples"
      ]
    },
    {
      "cell_type": "code",
      "execution_count": {},
      "metadata": {
        "vscode": {
          "languageId": "r"
        }
      },
      "outputs": [],
      "source": [
        "meta_samples = do.call(rbind, meta_samples[AVAILABLE_OMICS]) %>% distinct() \n",
        "meta_samples"
      ]
    },
    {
      "cell_type": "code",
      "execution_count": {},
      "metadata": {
        "vscode": {
          "languageId": "r"
        }
      },
      "outputs": [],
      "source": [
        "# order Participant_ID by Group for viz purposes\n",
        "meta_samples = meta_samples %>% \n",
        "    mutate(Participant_ID = factor(Participant_ID, \n",
        "                                 levels = unique(Participant_ID[order(Group)])))\n",
        "meta_samples"
      ]
    },
    {
      "cell_type": "code",
      "execution_count": {},
      "metadata": {
        "vscode": {
          "languageId": "r"
        }
      },
      "outputs": [],
      "source": [
        "# meta_samples: plot lines for weeks_num per Participant_ID, arranged by diagnosis\n",
        "p.dims(15, 3)\n",
        "meta_samples %>% \n",
        "    ggplot(aes(x = Participant_ID, y = week_num, color = Group)) +\n",
        "    geom_point() +\n",
        "    geom_line() +\n",
        "    theme_minimal() +\n",
        "    theme(axis.text.x = element_text(angle = 90, vjust = 0.5, hjust=1)) +\n",
        "    scale_color_futurama()"
      ]
    },
    {
      "cell_type": "code",
      "execution_count": {},
      "metadata": {
        "block_path": "notebooks/differential_analysis/notebook_generator/blocks/IBD/04_preprocess_A.ipynb",
        "source_hash": "ee61bfeba96c54a2febe6f25a2e64b617a5ab3c9",
        "vscode": {
          "languageId": "r"
        }
      },
      "outputs": [],
      "source": [
        "meta_samples = meta_samples %>%    \n",
        "    select(Sample, Participant_ID, Group, week_num)\n",
        "meta_samples"
      ]
    },
    {
      "cell_type": "code",
      "execution_count": {},
      "metadata": {
        "vscode": {
          "languageId": "r"
        }
      },
      "outputs": [],
      "source": [
        "# add Sex and Age from the large meta table\n",
        "meta_samples = meta_samples %>% inner_join(hmp_metadata_original %>% select(Participant_ID, Age, Sex) %>% distinct(), by = \"Participant_ID\") "
      ]
    },
    {
      "cell_type": "code",
      "execution_count": {},
      "metadata": {
        "vscode": {
          "languageId": "r"
        }
      },
      "outputs": [],
      "source": [
        "# in meta_samples Group, replace values HC - with 0_HC, UC - with 1_UC, CD - with 2_CD\n",
        "meta_samples = meta_samples %>%     \n",
        "    mutate(Group = str_replace(Group, \"nonIBD\", \"HC\")) %>%\n",
        "    # make Diagnosis a factor, with levels ordered as HC, UC, CD\n",
        "    mutate(Group = factor(Group, levels = c(\"HC\", \"UC\", \"CD\")))\n",
        "meta_samples"
      ]
    },
    {
      "cell_type": "code",
      "execution_count": {},
      "metadata": {
        "vscode": {
          "languageId": "r"
        }
      },
      "outputs": [],
      "source": [
        "# leave only those who have sex\n",
        "nrow(meta_samples %>% filter(is.na(Sex)))\n",
        "meta_samples = meta_samples %>% filter(!is.na(Sex))\n",
        "\n",
        "# and age\n",
        "nrow(meta_samples %>% filter(is.na(Age)))\n",
        "meta_samples = meta_samples %>% filter(!is.na(Age))\n",
        "\n",
        "nrow(meta_samples)"
      ]
    },
    {
      "cell_type": "code",
      "execution_count": {},
      "metadata": {
        "block_path": "notebooks/differential_analysis/notebook_generator/blocks/IBD/04_preprocess_A.ipynb",
        "source_hash": "b7bfe3e228be68553c8436aca709b0ea50d75df5",
        "vscode": {
          "languageId": "r"
        }
      },
      "outputs": [],
      "source": [
        "meta_samples %>% select(Participant_ID) %>% distinct() %>% nrow()\n",
        "meta_samples %>% select(Participant_ID, Group) %>% distinct() %>% select(Group) %>% table()"
      ]
    },
    {
      "cell_type": "markdown",
      "metadata": {},
      "source": [
        "### [ps] Create derivative factor/s"
      ]
    },
    {
      "cell_type": "code",
      "execution_count": {},
      "metadata": {
        "block_path": "notebooks/differential_analysis/notebook_generator/blocks/IBD/04_preprocess_A.ipynb",
        "source_hash": "0baf57a03e786afffc314034810594591bfa474d",
        "vscode": {
          "languageId": "r"
        }
      },
      "outputs": [],
      "source": [
        "# DiseaseScore is a quantitative approximation for a severity of disease (considering UC is normally less severe than CD; with HC = 0)\n",
        "meta_samples = meta_samples %>% \t\t\t\n",
        "\tmutate(DiseaseScore = ifelse(Group == \"HC\", 0, ifelse(Group == \"UC\", 1, ifelse(Group == \"CD\", 2, NA))))\t\n",
        "meta_samples"
      ]
    }
  ]
}
