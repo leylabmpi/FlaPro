{
 "cells": [
  {
   "cell_type": "markdown",
   "id": "7c3b3085",
   "metadata": {},
   "source": [
    "## Compositional analysis (available for MTX or MGX, not their ratio)"
   ]
  },
  {
   "cell_type": "markdown",
   "id": "b1e07c1d",
   "metadata": {},
   "source": [
    "### Init normalized abundance and CLR "
   ]
  },
  {
   "cell_type": "code",
   "execution_count": null,
   "id": "028fd11c",
   "metadata": {
    "vscode": {
     "languageId": "r"
    }
   },
   "outputs": [],
   "source": [
    "# prepare abundance data\n",
    "abundance_my = cmultRepl2(t(countData))\n",
    "clr_my = log(abundance_my) - rowMeans(log(abundance_my)) # CLR transformation\n",
    "dim(abundance_my)"
   ]
  },
  {
   "cell_type": "code",
   "execution_count": null,
   "id": "458e1b24",
   "metadata": {
    "vscode": {
     "languageId": "r"
    }
   },
   "outputs": [],
   "source": [
    "clr_my_long = clr_my %>% rownames_to_column(\"Sample\") %>%\n",
    "    pivot_longer(cols = -c(\"Sample\"), names_to = \"feature\", values_to = \"value\") \n",
    "clr_my_long"
   ]
  },
  {
   "cell_type": "code",
   "execution_count": null,
   "id": "7265ea6e",
   "metadata": {
    "vscode": {
     "languageId": "r"
    }
   },
   "outputs": [],
   "source": [
    "# adjust compositional data for factor(s) - via residuals\n",
    "if(ADD_ADJUST_FOR_FACTORS_NB) {\n",
    "    clr_my_long = adjust_via_residuals(meta_samples, clr_my_long, ADD_ADJUST_FOR)\n",
    "    clr_my = clr_my_long %>% pivot_wider(names_from = \"feature\", values_from = \"value\") %>% \n",
    "        column_to_rownames(\"Sample\") %>% \n",
    "        as.data.frame()\n",
    "    # adjust abundance_my accordingly\n",
    "    abundance_my = inverse_clr(clr_my)\n",
    "}"
   ]
  },
  {
   "cell_type": "markdown",
   "id": "1dc00bd3",
   "metadata": {},
   "source": [
    "### PCoA (Aitchison)"
   ]
  },
  {
   "cell_type": "code",
   "execution_count": null,
   "id": "72bd5d9e",
   "metadata": {
    "vscode": {
     "languageId": "r"
    }
   },
   "outputs": [],
   "source": [
    "# compute an Euclidean distance matrix from clr_my\n",
    "dist_my = dist(clr_my, method = \"euclidean\")\n",
    "\n",
    "pcoa_res = ape::pcoa(dist_my)\n",
    "pve = round(pcoa_res$values$Relative_eig[1:3] * 100, 1) \n",
    "# concatenate those values to PC1 and PC2\n",
    "pve = paste0(\"PC\", 1:3, \" (\", pve, \"%)\")\n",
    "\n",
    "# plot a principal coordinate analysis\n",
    "pcoa_my = cmdscale(dist_my, k = 3)\n",
    "pcoa_my = as.data.frame(pcoa_my) %>% \n",
    "    rename(PCo1 = V1, PCo2 = V2, PCo3 = V3) #%>%\n",
    "\t#mutate(Sample = rownames(pcoa$points))\n",
    "pcoa_my = cbind(pcoa_my, meta_samples_NB)\n",
    "\n",
    "p.dims(9, 3)\n",
    "# plot PC1-2 and PC2-3 next to each other\n",
    "# PC1-2:\n",
    "p1 = ggplot(pcoa_my, aes(x = PCo1, y = PCo2, color = Group)) + \n",
    "  geom_point(size = 2) +  \n",
    "  xlab(pve[1]) +\n",
    "  ylab(pve[2]) +   \n",
    "  theme_classic() + \n",
    "  scale_color_manual(values = COHORT_COLORS) +\n",
    "  # increase bullets size in legend\n",
    "  guides(color = guide_legend(override.aes = list(size = 4)))\n",
    "#p1\n",
    "\n",
    "# PC1-3:\n",
    "p2 = ggplot(pcoa_my, aes(x = PCo1, y = PCo3, color = Group)) + \n",
    "  geom_point(size = 2) +  \n",
    "  xlab(pve[1]) +\n",
    "  ylab(pve[3]) +   \n",
    "  theme_classic() +  \n",
    "  scale_color_manual(values = COHORT_COLORS) +\n",
    "  # increase bullets size in legend\n",
    "  guides(color = guide_legend(override.aes = list(size = 4)))\n",
    "#p2\n",
    "# plot p1 and p2 next to each other\n",
    "gridExtra::grid.arrange(p1, p2, ncol=2)"
   ]
  },
  {
   "cell_type": "markdown",
   "id": "175ec543",
   "metadata": {},
   "source": [
    "### save a copy so that we can later compute the NB for the full set of samples"
   ]
  },
  {
   "cell_type": "code",
   "execution_count": null,
   "id": "9c172ca0",
   "metadata": {
    "vscode": {
     "languageId": "r"
    }
   },
   "outputs": [],
   "source": [
    "countData_full = countData\n",
    "meta_samples_full = meta_samples\n",
    "abundance_my_full = abundance_my\n",
    "clr_my_full = clr_my"
   ]
  },
  {
   "cell_type": "markdown",
   "id": "73a3ba99",
   "metadata": {},
   "source": [
    "### Create filter #2 for samples"
   ]
  },
  {
   "cell_type": "code",
   "execution_count": null,
   "id": "d6a42729",
   "metadata": {
    "vscode": {
     "languageId": "r"
    }
   },
   "outputs": [],
   "source": [
    "to_leave2 = meta_samples_NB %>% \t\n",
    "\n",
    "\tfilter(Group %in% GROUPS_TO_COMPARE) %>% \n",
    "\n",
    "\tselect(Sample) %>% pull\n",
    "\n",
    "length(to_leave2)"
   ]
  },
  {
   "cell_type": "markdown",
   "id": "cf3fdf27",
   "metadata": {},
   "source": [
    "### generate a filtering preview (might visualize pre- and post-filtering data here)"
   ]
  },
  {
   "cell_type": "code",
   "execution_count": null,
   "id": "af51386f",
   "metadata": {
    "vscode": {
     "languageId": "r"
    }
   },
   "outputs": [],
   "source": [
    "meta_samples_preview = meta_samples_NB %>% filter(Sample %in% to_leave2)\n",
    "nrow(meta_samples_preview)\n",
    "\n",
    "meta_samples_preview %>% select(Group) %>% table()"
   ]
  },
  {
   "cell_type": "code",
   "execution_count": null,
   "id": "e567b91b",
   "metadata": {
    "vscode": {
     "languageId": "r"
    }
   },
   "outputs": [],
   "source": [
    "length(to_leave2)\n",
    "#setdiff(to_leave2, colnames(countData))"
   ]
  },
  {
   "cell_type": "code",
   "execution_count": null,
   "id": "bc431aad",
   "metadata": {
    "vscode": {
     "languageId": "r"
    }
   },
   "outputs": [],
   "source": [
    "countData_preview = countData[, sort(to_leave2)]"
   ]
  },
  {
   "cell_type": "markdown",
   "id": "13ffa947",
   "metadata": {},
   "source": [
    "### apply the filter #2"
   ]
  },
  {
   "cell_type": "code",
   "execution_count": null,
   "id": "f903b78c",
   "metadata": {
    "vscode": {
     "languageId": "r"
    }
   },
   "outputs": [],
   "source": [
    "countData = countData_preview\n",
    "meta_samples = meta_samples_preview\n",
    "abundance_my = abundance_my[sort(colnames(countData)),] \n",
    "clr_my = clr_my[sort(colnames(countData_preview)),]\n",
    "\n",
    "\n",
    "# meta_samples: drop the non-presented factor levels\n",
    "meta_samples$Group = droplevels(meta_samples$Group)"
   ]
  },
  {
   "cell_type": "code",
   "execution_count": null,
   "id": "310f8b61",
   "metadata": {
    "vscode": {
     "languageId": "r"
    }
   },
   "outputs": [],
   "source": [
    "test_that(\"countData and meta match\", {\n",
    "\texpect_equal(sort(meta_samples %>% select(Sample) %>% pull), sort(colnames(countData)))\n",
    "})"
   ]
  },
  {
   "cell_type": "markdown",
   "id": "3e4c3316",
   "metadata": {},
   "source": [
    "### weiter"
   ]
  },
  {
   "cell_type": "code",
   "execution_count": null,
   "id": "c26af6c2",
   "metadata": {
    "vscode": {
     "languageId": "r"
    }
   },
   "outputs": [],
   "source": [
    "# prepare a dataframe version of meta_by_sample and sort it by Sample\n",
    "meta_df = data.frame(meta_samples %>% column_to_rownames(\"Sample\")) \n",
    "#meta_df = meta_df[order(rownames(meta_df)),]\n",
    "meta_df"
   ]
  },
  {
   "cell_type": "code",
   "execution_count": null,
   "id": "9d5a9290",
   "metadata": {
    "vscode": {
     "languageId": "r"
    }
   },
   "outputs": [],
   "source": [
    "test_that(\"meta_df and matrices have the same samples in the same order\", {\n",
    "\texpect_equal(rownames(meta_df), rownames(clr_my))\t\n",
    "})"
   ]
  },
  {
   "cell_type": "code",
   "execution_count": null,
   "id": "d9b18024",
   "metadata": {
    "vscode": {
     "languageId": "r"
    }
   },
   "outputs": [],
   "source": [
    "# though there was initial Fla filtering, some might have become zeroed out during the samples filtering\n",
    "# so we need to remove them.\n",
    "# get the names of the rows in countData with fewer than 5 non-zero values\n",
    "# and remove them from countData and bracken_perc\n",
    "low_features = names(which(rowSums(countData > 0) < 5))\n",
    "test_that(\"no low features\", {\n",
    "\texpect_equal(length(low_features), 0)\n",
    "})"
   ]
  },
  {
   "cell_type": "markdown",
   "id": "ef493b2e",
   "metadata": {},
   "source": [
    "### Nearest Balance:"
   ]
  },
  {
   "cell_type": "markdown",
   "id": "55ad79e8",
   "metadata": {},
   "source": [
    "### PERMANOVA"
   ]
  },
  {
   "cell_type": "code",
   "execution_count": null,
   "id": "84db0411",
   "metadata": {
    "vscode": {
     "languageId": "r"
    }
   },
   "outputs": [],
   "source": [
    "## check for heteroscedasticity across the factor of interest\n",
    "#anova(betadisper(dist(clr_my), meta_df$sel_factor))"
   ]
  },
  {
   "cell_type": "code",
   "execution_count": null,
   "id": "ae0a0a11",
   "metadata": {
    "vscode": {
     "languageId": "r"
    }
   },
   "outputs": [],
   "source": [
    "df.dims(8)\n",
    "adonis2(reformulate(init_permanova_formula, response = \"dist(clr_my)\"), meta_df, permutations = N_PERMANOVA, by = \"terms\")"
   ]
  },
  {
   "cell_type": "code",
   "execution_count": null,
   "id": "bbe7ee44",
   "metadata": {
    "vscode": {
     "languageId": "r"
    }
   },
   "outputs": [],
   "source": [
    "adonis2(reformulate(lm_nb_formula, response = \"dist(clr_my)\"), meta_df, permutations = N_PERMANOVA, by = \"terms\")"
   ]
  },
  {
   "cell_type": "code",
   "execution_count": null,
   "id": "ca206b55",
   "metadata": {
    "vscode": {
     "languageId": "r"
    }
   },
   "outputs": [],
   "source": [
    "coef_oa_bacs = do_clr_lm_get_fac_coeffs(lm_nb_formula, clr_my, meta_df, sel_factor_coef)\n",
    "coef_oa_bacs"
   ]
  },
  {
   "cell_type": "markdown",
   "id": "71f6c5fd",
   "metadata": {},
   "source": [
    "### Prepare splits for cross-validation"
   ]
  },
  {
   "cell_type": "code",
   "execution_count": null,
   "id": "4947e2a0",
   "metadata": {
    "vscode": {
     "languageId": "r"
    }
   },
   "outputs": [],
   "source": [
    "if(!REPEAT_MEAS_NB) {\n",
    "    # Option A: default way: balanced by the factor of interest\n",
    "    splits = caret::createDataPartition(times = n_sim, y = meta_df[[sel_factor]], p = train_prop)\n",
    "} else {\n",
    "    # Option B: custom way: in each split, select 1 random time point per participant (and the test set is the rest - hence multiple time points - but we don't use it, so it's fine)\n",
    "    splits = vector(mode = \"list\", n_sim)\n",
    "    tmp_hashes = list()\n",
    "    for(i in 1:n_sim) {    \n",
    "        # the way below produces a single random time point per participant\n",
    "        # different across the iterations\n",
    "        subset_meta_df = meta_df %>% \n",
    "            mutate(rownum = row_number()) %>%\n",
    "            dplyr::slice_sample(n = 1, by = !!sym(REPEAT_MEAS_FACTOR)) %>%\n",
    "            dplyr::ungroup()\n",
    "        cur_tmp_hash = digest::digest(subset_meta_df)\n",
    "        #print(cur_tmp_hash)    \n",
    "        tmp_hashes[[i]] = cur_tmp_hash\n",
    "        #print(subset_meta_df)\n",
    "        \n",
    "        one_subset_split = caret::createDataPartition(times = 1, y = subset_meta_df[[sel_factor]], p = 1)   \n",
    "        splits[[i]] = as.vector(unlist(subset_meta_df[unlist(one_subset_split), \"rownum\"]))\n",
    "    }\n",
    "    # test that the randomization really worked across the iterations\n",
    "    test_that(\"randomization across iterations\", {\n",
    "        expect_equal(length(unique(tmp_hashes)), n_sim)\n",
    "    })\n",
    "    names(splits) = paste(\"Resample\", 1:n_sim, sep = \"\")\n",
    "}"
   ]
  },
  {
   "cell_type": "markdown",
   "id": "4de94310",
   "metadata": {},
   "source": [
    "### Parallel NB generation via cross-validations"
   ]
  },
  {
   "cell_type": "code",
   "execution_count": null,
   "id": "a2a43cd5",
   "metadata": {
    "vscode": {
     "languageId": "r"
    }
   },
   "outputs": [],
   "source": [
    "nb_list = parallel_run_nb(lm_nb_formula, sel_factor_coef, clr_my, meta_df, splits, n_sim, num_rparallel_cores)"
   ]
  },
  {
   "cell_type": "code",
   "execution_count": null,
   "id": "c7800382",
   "metadata": {
    "vscode": {
     "languageId": "r"
    }
   },
   "outputs": [],
   "source": [
    "# in a repetitive measures case: PERMANOVA within a 1-sample-per-subject subsets \n",
    "# and then compare the generated p-values distribution to the significance threshold\n",
    "if(REPEAT_MEAS_NB) {\n",
    "    pvs_perm = c()\n",
    "    for(i in 1:n_sim) {\n",
    "        split = splits[[i]]    \n",
    "        cur_perm = adonis2(reformulate(init_permanova_formula, response = \"dist(clr_my[split,])\"), meta_df[split,,drop=F], permutations = N_PERMANOVA, by = \"terms\")\n",
    "        pvs_perm[i] = cur_perm[sel_factor, \"Pr(>F)\"]       \n",
    "    }\n",
    "    print(paste0(\"median p: \", median(pvs_perm)))\n",
    "    print(paste0(\"sd p: \", sd(pvs_perm)))\n",
    "    # compare the distribution with the significance threshold    \n",
    "    print(wilcox.test(pvs_perm, mu = 0.1, alternative = \"greater\"))\n",
    "}"
   ]
  },
  {
   "cell_type": "markdown",
   "id": "cb01ab82",
   "metadata": {},
   "source": [
    "### Process outputs of NB"
   ]
  },
  {
   "cell_type": "code",
   "execution_count": null,
   "id": "d38c14de",
   "metadata": {
    "vscode": {
     "languageId": "r"
    }
   },
   "outputs": [],
   "source": [
    "res = aggregate_balance_iterations(nb_list, reproducibility_threshold)\n",
    "#res\n",
    "sbp_iters = res$sbp_iters\n",
    "sbp_consensus  = res$sbp_consensus"
   ]
  },
  {
   "cell_type": "code",
   "execution_count": null,
   "id": "c236c45b",
   "metadata": {
    "vscode": {
     "languageId": "r"
    }
   },
   "outputs": [],
   "source": [
    "nb = format_consensus_balance(sbp_consensus)\n",
    "nb"
   ]
  },
  {
   "cell_type": "code",
   "execution_count": null,
   "id": "a3530343",
   "metadata": {
    "vscode": {
     "languageId": "r"
    }
   },
   "outputs": [],
   "source": [
    "balance_size(nb)"
   ]
  },
  {
   "cell_type": "code",
   "execution_count": null,
   "id": "1440e845",
   "metadata": {
    "vscode": {
     "languageId": "r"
    }
   },
   "outputs": [],
   "source": [
    "# compute the consensus balance values for each sample \n",
    "nb_vals = compute_balance(abundance_my, nb)\n",
    "#nb_vals\n",
    "\n",
    "# link metadata to the balance values\n",
    "nb_vals_meta = nb_vals %>% inner_join(meta_samples, by = \"Sample\")\n",
    "nb_vals_meta"
   ]
  },
  {
   "cell_type": "markdown",
   "id": "4ade074d",
   "metadata": {},
   "source": [
    "### Selected taxa within the balance: check out"
   ]
  },
  {
   "cell_type": "code",
   "execution_count": null,
   "id": "760730ed",
   "metadata": {
    "vscode": {
     "languageId": "r"
    }
   },
   "outputs": [],
   "source": [
    "df.dims(20)\n",
    "sbp_iters %>% filter(taxName %like% \"APC11219_1\")\n",
    "df.dims(5)"
   ]
  },
  {
   "cell_type": "markdown",
   "id": "f38361cf",
   "metadata": {},
   "source": [
    "### Plot the balance values against the factors"
   ]
  },
  {
   "cell_type": "code",
   "execution_count": null,
   "id": "741ce799",
   "metadata": {
    "vscode": {
     "languageId": "r"
    }
   },
   "outputs": [],
   "source": [
    "# Plot the relation between the balance values and continuous factor\n",
    "p.dims(4,3)\n",
    "ggplot(nb_vals_meta, aes(x = as.factor(!!sym(sel_factor)), y = NB_Value)) + \n",
    "\tgeom_violin() +\n",
    "\tgeom_boxplot(width = 0.2) +\n",
    "\tgeom_jitter(color=\"red\", alpha=0.2, size=3, width=0.2) +\n",
    "\t#geom_point(color=\"red\", alpha=0.2, size=3) +\n",
    "\t\n",
    "\t#geom_smooth(method = \"lm\", se = FALSE) +\n",
    "\t#geom_text(size = 1.5) +\n",
    "\tstat_smooth(method = \"loess\", se = FALSE) +\n",
    "\tlabs(x = sel_factor, y = \"Nearest balance\") + theme(legend.position = \"none\") +\t\n",
    "\ttheme_bw()"
   ]
  },
  {
   "cell_type": "code",
   "execution_count": null,
   "id": "8a913f62",
   "metadata": {
    "vscode": {
     "languageId": "r"
    }
   },
   "outputs": [],
   "source": [
    "# Plot the relation between the balance values and continuous factor\n",
    "p.dims(4,3)\n",
    "ggplot(nb_vals_meta, aes(x = Group, y = NB_Value)) + \n",
    "\t#geom_boxplot() +\n",
    "    geom_violin(color=\"grey\", alpha=0.7, size=0.5) +\n",
    "\tgeom_boxplot(color=\"black\", alpha=1, size=0.5, width = 0.3) +\n",
    "\tgeom_jitter(color=\"red\", alpha=0.3, size=2, width=0.2) +\n",
    "\t\n",
    "\t\n",
    "\t#geom_smooth(method = \"lm\", se = FALSE) +\n",
    "\t#geom_text(size = 1.5) +\n",
    "\tstat_smooth(method = \"loess\", se = FALSE) +\n",
    "\tlabs(x = \"Group\", y = \"Balance values\") + theme(legend.position = \"none\") +\t\n",
    "\ttheme_bw()"
   ]
  },
  {
   "cell_type": "code",
   "execution_count": null,
   "id": "e6566e7c",
   "metadata": {
    "vscode": {
     "languageId": "r"
    }
   },
   "outputs": [],
   "source": [
    "# do regression\n",
    "nb_vals_meta %>% dplyr::do(broom::tidy(lm(reformulate(sel_factor, response = \"NB_Value\"), .)))\n"
   ]
  },
  {
   "cell_type": "markdown",
   "id": "df1cc70e",
   "metadata": {},
   "source": [
    "### go on preparing the balance"
   ]
  },
  {
   "cell_type": "code",
   "execution_count": null,
   "id": "87a21399",
   "metadata": {
    "vscode": {
     "languageId": "r"
    }
   },
   "outputs": [],
   "source": [
    "# join sbp_consensus_reprod with coef_oa_bacs\n",
    "nb_reprod_coef = join_coefs_and_sbp_reprod(get_sbp_consensus_with_reprod(sbp_iters), coef_oa_bacs)\n",
    "\n",
    "df.dims(20)\n",
    "nb_reprod_coef %>% arrange(desc(reprod))\n",
    "df.dims(5)"
   ]
  },
  {
   "cell_type": "code",
   "execution_count": null,
   "id": "f48190f5",
   "metadata": {
    "vscode": {
     "languageId": "r"
    }
   },
   "outputs": [],
   "source": [
    "# add features info\n",
    "nb_reprod_coef = nb_reprod_coef %>% \t\n",
    "\tinner_join(meta_fla_clus, by = c(\"taxName\" = \"FlaCluster\")) %>% \n",
    "\tmutate(Cluster_Species_trimmed = ifelse(\t\t\n",
    "\t\t\tstr_detect(Cluster_Species, \";\"),\t\t\t\n",
    "\t\t\tpaste0(str_extract(Cluster_Species, \"^[^;]+\"), \"+\"),\n",
    "\t\t\tCluster_Species)\t\t\n",
    "\t) %>%\n",
    "\tmutate(taxName_ext = paste(taxName, Cluster_Species_trimmed, sep = \"; \"))\n",
    "nb_reprod_coef"
   ]
  },
  {
   "cell_type": "markdown",
   "id": "011748b8",
   "metadata": {},
   "source": [
    "### Coefficients for each taxon in NB: plot"
   ]
  },
  {
   "cell_type": "code",
   "execution_count": null,
   "id": "e4079633",
   "metadata": {
    "vscode": {
     "languageId": "r"
    }
   },
   "outputs": [],
   "source": [
    "p.dims(10,5)\n",
    "# draw horizontal barplots of the coefficient for each taxName\n",
    "pic = \n",
    "ggplot(nb_reprod_coef, aes(x = lm_coef, y = reorder(taxName_ext, lm_coef), fill = Cluster_Exp)) +\t\n",
    "\t#geom_bar(stat = \"identity\", linewidth = 0.2, position = \"dodge\") +\n",
    "\tgeom_bar(stat = \"identity\", linewidth = 0.2) +\n",
    "\ttheme_bw() +\n",
    "\tscale_alpha_continuous(range = c(0.1, 1)) +\t\n",
    "\ttheme(axis.text = element_text(size = 6)) +\t\n",
    "\tlabs(x = \"CLR LM coefficient\", y = \"\") + \t\n",
    "\t# rotate labels\n",
    "\ttheme(axis.text.x = element_text(angle = 60, hjust = 1), \n",
    "\t\tplot.margin = margin(l = 20)) +\n",
    "\t# rotate the plot 90 degrees\n",
    "\tcoord_flip() + \n",
    "\t# set a palette for the fill\n",
    "\tscale_fill_simpsons() +\t\n",
    "\t#scale_fill_ucscgb() +\n",
    "\t#scale_fill_igv() +\n",
    "\t\n",
    "\t#scale_fill_manual(values = all_fams_pal) +\n",
    "\n",
    "\t# legend text 10 \n",
    "\ttheme(legend.text = element_text(size = 8))\n",
    "pic"
   ]
  },
  {
   "cell_type": "code",
   "execution_count": null,
   "id": "6db17716",
   "metadata": {
    "vscode": {
     "languageId": "r"
    }
   },
   "outputs": [],
   "source": [
    "#p.dims(10,5)\n",
    "p.dims(8, 5)\n",
    "# draw horizontal barplots of the coefficient for each taxName\n",
    "pic = \n",
    "ggplot(nb_reprod_coef, aes(x = lm_coef, y = reorder(taxName_ext, lm_coef), fill = Cluster_Pred)) +\t\n",
    "#ggplot(nb_reprod_coef, aes(x = lm_coef, y = reorder(taxName, lm_coef), fill = Family)) +\t\n",
    "#ggplot(nb_reprod_coef, aes(x = lm_coef, y = reorder(taxName, lm_coef), fill = Experimental)) +\t# none?..\n",
    "\t#geom_bar(stat = \"identity\", linewidth = 0.2, position = \"dodge\") +\n",
    "\tgeom_bar(stat = \"identity\", linewidth = 0.2) +\n",
    "\ttheme_bw() +\n",
    "\tscale_alpha_continuous(range = c(0.1, 1)) +\t\n",
    "\ttheme(axis.text = element_text(size = 6)) +\t\n",
    "\tlabs(x = \"CLR LM coefficient\", y = \"\") + \t\n",
    "\t# rotate labels\n",
    "\ttheme(axis.text.x = element_text(angle = 60, hjust = 1), \n",
    "\t\tplot.margin = margin(l = 20)) +\n",
    "\t# rotate the plot 90 degrees\n",
    "\tcoord_flip() + \n",
    "\t# set a palette for the fill\n",
    "\t#scale_fill_simpsons() +\t\n",
    "\t#scale_fill_ucscgb() +\n",
    "\t#scale_fill_igv() +\n",
    "\tscale_fill_manual(values = FLA_CLASSES_COLORS) +\n",
    "\t\n",
    "\t#scale_fill_manual(values = all_fams_pal) +\n",
    "\n",
    "\t# legend text 10 \n",
    "\ttheme(legend.text = element_text(size = 8))\n",
    "pic\n"
   ]
  },
  {
   "cell_type": "code",
   "execution_count": null,
   "id": "b225045d",
   "metadata": {
    "vscode": {
     "languageId": "r"
    }
   },
   "outputs": [],
   "source": [
    "p.dims(9,5)\n",
    "# draw horizontal barplots of the coefficient for each taxName\n",
    "pic = \n",
    "ggplot(nb_reprod_coef, aes(x = lm_coef, y = reorder(taxName_ext, lm_coef), fill = Cluster_Family)) +\t\n",
    "\t#geom_bar(stat = \"identity\", linewidth = 0.2, position = \"dodge\") +\n",
    "\tgeom_bar(stat = \"identity\", linewidth = 0.2) +\n",
    "\ttheme_bw() +\t\n",
    "\tlabs(x = \"Taxon coefficient\", y = \"\") + \t\n",
    "\tcoord_flip() + \n",
    "\t\n",
    "\ttheme(\n",
    "\t\t\t## legend (text), OR\t\t\n",
    "\t\t\tlegend.text = element_text(size = 10), legend.position = \"right\",\n",
    "\t\t\t#legend.text = element_text(size = 10), legend.position = \"bottom\",\n",
    "\t\t\t# legend OFF\n",
    "\t\t\t#legend.position = \"none\",\n",
    "\n",
    "\t\t\t#panel.border = element_blank(),\n",
    "\t\t\tpanel.grid.major = element_blank(),\n",
    "\t\t\tpanel.grid.minor = element_blank(),\n",
    "\t\t\taxis.line = element_line(colour = \"black\", linewidth = 0),\n",
    "\t\t\taxis.ticks = element_line(colour = \"black\", linewidth = 0.1),\n",
    "\t\t\tplot.title = element_text(hjust = 0.5, face = \"bold\"),\n",
    "\n",
    "\t\t\tstrip.background = element_blank(),\n",
    "\t\t\tstrip.text.x = element_blank(),\n",
    "\t\t\tpanel.border = element_rect(colour = \"black\", linewidth = 1),\n",
    "\n",
    "\t\t\t#axis.text = element_text(size = 10),\n",
    "\n",
    "\t\t\taxis.text.x = element_text(size = 8, color = \"black\",\n",
    "\t\t\t\t## enable tilted labels\n",
    "\t\t\t\t# default:\n",
    "\t\t\t\tangle = 60, \n",
    "\t\t\t\t# for MAGs (labels are longer)\n",
    "\t\t\t\t#angle = 70, \n",
    "\t\t\t\thjust = 1), \n",
    "\t\t\tplot.margin = margin(r = 5, l = 40),\n",
    "\n",
    "\t\t\t# or disable labels\n",
    "\t\t\t#axis.text.x = element_blank(), \n",
    "\t\t\t#plot.margin = margin(l = 20)\t\t\t\n",
    "\n",
    "\t\t\taxis.text.y = element_text(size = 10, color = \"black\"),\n",
    "\t\t\taxis.title.x = element_text(size = 12, face = \"bold\", color = \"black\"),\n",
    "\t\t\taxis.title.y = element_text(size = 12, face = \"bold\", color = \"black\")\t\t\t\n",
    "\t\t) +\n",
    "\n",
    "\tscale_fill_igv()\t\n",
    "\t\n",
    "pic\n"
   ]
  },
  {
   "cell_type": "code",
   "execution_count": null,
   "id": "870cd922",
   "metadata": {
    "vscode": {
     "languageId": "r"
    }
   },
   "outputs": [],
   "source": [
    "fig_maker = function(fac, prof, tax_level) {\n",
    "\n",
    "\tpic = ggplot(list_nb_reprod_coef %>% filter(factor == fac, profiling == prof, taxonomic_level == tax_level), aes(x = lm_coef, y = reorder(taxName_ext, lm_coef), fill = Family)) +\t\t\t\n",
    "\t\t#geom_bar(stat = \"identity\", width = 1) +\n",
    "\t\tgeom_bar(stat = \"identity\") +\n",
    "\n",
    "\t\ttheme_bw() +\t\t\n",
    "\t\t\n",
    "\t\ttheme(axis.text = element_text(size = 10)) +\t\n",
    "\t\tlabs(x = \"Taxon coefficient\", y = \"\") + \t\n",
    "\t\t# rotate labels\n",
    "\t\ttheme(\n",
    "\t\t\t## enable tilted labels\n",
    "\t\t\taxis.text.x = element_text(size = 7, \n",
    "\n",
    "\t\t\t\t# default:\n",
    "\t\t\t\t#angle = 60, \n",
    "\t\t\t\t# for MAGs (labels are longer)\n",
    "\t\t\t\tangle = 70, \n",
    "\n",
    "\t\t\t\thjust = 1), \n",
    "\t\t\tplot.margin = margin(l = 40)\n",
    "\n",
    "\t\t\t# or disable labels\n",
    "\t\t\t#axis.text.x = element_blank(), \n",
    "\t\t\t#plot.margin = margin(l = 20)\n",
    "\t\t\t) +\n",
    "\n",
    "\t\t# This line can be toggled on/off:\t\t\t\n",
    "\t\tggtitle(qfactors_plots_n_tables_inv[[fac]]) +\t\t\t\t\n",
    "\n",
    "\t\t# rotate the plot 90 degrees\n",
    "\t\tcoord_flip() + \n",
    "\n",
    "\t\t# set a palette for the fill\t\t\n",
    "\t\t#scale_fill_manual(values = all_fams_pal) +\n",
    "\t\tscale_fill_manual(values = all_fams_pal, breaks = names(all_fams_pal)) +\n",
    "\n",
    "\t\t## legend (text), OR\t\t\n",
    "\t\t#theme(legend.text = element_text(size = 8), legend.position = \"right\") +\n",
    "\t\t#theme(legend.text = element_text(size = 8), legend.position = \"bottom\") +\n",
    "\t\t# legend OFF\n",
    "\t\ttheme(legend.position = \"none\") +\n",
    "\n",
    "\t\ttheme(\n",
    "\t\t\t#panel.border = element_blank(),\n",
    "\t\t\tpanel.grid.major = element_blank(),\n",
    "\t\t\tpanel.grid.minor = element_blank(),\n",
    "\t\t\taxis.line = element_line(colour = \"black\", linewidth = 0),\n",
    "\t\t\taxis.ticks = element_line(colour = \"black\", linewidth = 0.1),\n",
    "\t\t\tplot.title = element_text(hjust = 0.5, face = \"bold\"),\n",
    "\n",
    "\t\t\tstrip.background = element_blank(),\n",
    "\t\t\tstrip.text.x = element_blank(),\n",
    "\t\t\tpanel.border = element_rect(colour = \"black\", linewidth = 1),\n",
    "\n",
    "\t\t\taxis.text.x = element_text(size = 8, color = \"black\"),\n",
    "\t\t\taxis.text.y = element_text(size = 9, face = \"bold\", color = \"black\"),\n",
    "\t\t\taxis.title.x = element_text(size = 10, face = \"bold\", color = \"black\"),\n",
    "\t\t\taxis.title.y = element_text(size = 10, face = \"bold\", color = \"black\")\n",
    "\t\t\t\n",
    "\t\t\t)\n",
    "\t\n",
    "\t#pic\n",
    "}"
   ]
  },
  {
   "cell_type": "code",
   "execution_count": null,
   "id": "66d445c7",
   "metadata": {
    "vscode": {
     "languageId": "r"
    }
   },
   "outputs": [],
   "source": [
    "p.dims(10, 5)\n",
    "\n",
    "ttt = flapro_rel[[SCENARIO_NB]] %>% \n",
    "\tinner_join(nb_reprod_coef, by = c(\"feature\" = \"taxName\")) %>% \n",
    "\tselect(feature, Sample, value, b1, Cluster_Species, Cluster_Pred) %>%\n",
    "\tinner_join(meta_samples_NB, by = \"Sample\")  %>% \n",
    "\tmutate(Association = ifelse(b1 > 0, \"positive\", \"negative\")) %>% \n",
    "\n",
    "\tmutate(Cluster_Species_trimmed = ifelse(\t\t\n",
    "\t\t\tstr_detect(Cluster_Species, \";\"),\t\t\t\n",
    "\t\t\tpaste0(str_extract(Cluster_Species, \"^[^;]+\"), \"+\"),\n",
    "\t\t\tCluster_Species)\t\t\n",
    "\t) %>%\n",
    "\tmutate(FlaCluster_ext = paste(feature, \"\\n\", Cluster_Species_trimmed, \"\\n\", Cluster_Pred, sep = \"\"))\t\n",
    "\t#mutate(FlaCluster_ext = paste(FlaCluster, \"\\n\", Cluster_Species, \"\\n\", Cluster_Pred_v3, sep = \"\")) \n",
    "ttt\n",
    "\n",
    "ggplot(ttt, aes(y = value, x = Group, color = Association)) +\t\t\n",
    "\t# log scale y\n",
    "\t(if (!ADD_ADJUST_FOR_FACTORS_COMPON) scale_y_log10() else NULL) + \n",
    "\tlabs(y = \"Abundance (log10)\") +\t\n",
    "\tgeom_boxplot(width = 0.1) +\n",
    "\tgeom_violin(color=\"#888888\", alpha=0.1, size=0.5) +\n",
    "\tgeom_jitter(alpha=0.1, size=3, width=0.3) +\n",
    "\tfacet_wrap(~FlaCluster_ext, ncol = 4) +\t\n",
    "\tscale_color_manual(values = c(\"negative\" = \"blue\", \"positive\" = \"red\")) +\n",
    "\ttheme_bw()\t"
   ]
  },
  {
   "cell_type": "markdown",
   "id": "f55c24f6",
   "metadata": {},
   "source": [
    "### Compute the NB for the full dataset\n",
    "Meaningful if the above analysis was conducted for a subset of the samples."
   ]
  },
  {
   "cell_type": "code",
   "execution_count": null,
   "id": "718480c4",
   "metadata": {
    "vscode": {
     "languageId": "r"
    }
   },
   "outputs": [],
   "source": [
    "# compute the consensus balance values for each sample \n",
    "nb_vals_full = compute_balance(abundance_my_full, nb)\n",
    "dim(nb_vals_full)\n",
    "nb_vals_meta_full = nb_vals_full %>% inner_join(meta_samples_full, by = \"Sample\")\n",
    "nb_vals_meta_full"
   ]
  },
  {
   "cell_type": "code",
   "execution_count": null,
   "id": "bedaf09c",
   "metadata": {
    "vscode": {
     "languageId": "r"
    }
   },
   "outputs": [],
   "source": [
    "p.dims(8, 4)\n",
    "ggplot(nb_vals_meta_full, aes(x = as.factor(!!sym(sel_factor)), y = NB_Value)) + \n",
    "    geom_boxplot(width = 0.3) +\n",
    "    geom_jitter(aes(color = as.factor(!!sym(sel_factor))), alpha=0.7, size=2, width=0.3, height = 0) +\n",
    "    #facet_grid(. ~ !!sym(sel_factor)) +\n",
    "    #geom_point(color=\"red\", alpha=0.2, size=3) +\n",
    "    #geom_smooth(method = \"lm\", se = FALSE) +\t\n",
    "    #geom_text(size = 1.5) +\n",
    "    #stat_smooth(method = \"loess\", se = FALSE) +\n",
    "    labs(x = sel_factor, y = \"Nearest balance\") + theme(legend.position = \"none\") +\t\n",
    "    scale_color_futurama() +\t\n",
    "    \n",
    "    # y tick and y axis label every 1\n",
    "    scale_y_continuous(breaks = scales::pretty_breaks(n = 10)) +\t\n",
    "    theme_bw()"
   ]
  }
 ],
 "metadata": {
  "language_info": {
   "name": "python"
  }
 },
 "nbformat": 4,
 "nbformat_minor": 5
}
