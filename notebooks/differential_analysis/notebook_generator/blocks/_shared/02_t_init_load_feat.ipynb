{
  "cells": [
    {
      "cell_type": "markdown",
      "metadata": {
        "tags": [
          "template"
        ]
      },
      "source": [
        "# Init"
      ]
    },
    {
      "cell_type": "code",
      "execution_count": {},
      "metadata": {
        "tags": [
          "template"
        ],
        "vscode": {
          "languageId": "r"
        }
      },
      "outputs": [],
      "source": [
        "library(readxl)\n",
        "library(NearestBalance)\n",
        "library(zCompositions)\n",
        "library(reshape2)\n",
        "library(selbal)\n",
        "library(LeyLabRMisc)\n",
        "library(ggpubr)\n",
        "library(data.table)\n",
        "library(ggplot2)\n",
        "library(tibble)\n",
        "library(vegan)\n",
        "library(foreach)\n",
        "library(doParallel)\n",
        "library(lme4) \n",
        "library(textshape)\n",
        "library(mgcv)\n",
        "library(MASS)\n",
        "library(ggsci)\n",
        "library(cluster)\n",
        "library(tidyr)\n",
        "library(readr)\n",
        "library(broom)\n",
        "library(lmerTest)\n",
        "library(broom.mixed)\n",
        "library(furrr)\n",
        "library(testthat)\n",
        "library(ggrepel)\n",
        "library(pheatmap)\n",
        "library(dplyr)\n",
        "library(purrr)\n",
        "\n",
        "df.dims(5)"
      ]
    },
    {
      "cell_type": "code",
      "execution_count": {},
      "metadata": {
        "tags": [
          "template"
        ],
        "vscode": {
          "languageId": "r"
        }
      },
      "outputs": [],
      "source": [
        "# in furrr\n",
        "future::plan(multicore)"
      ]
    },
    {
      "cell_type": "code",
      "execution_count": {},
      "metadata": {
        "block_path": "notebooks/differential_analysis/notebook_generator/blocks/_shared/02_t_init_load_feat.ipynb",
        "source_hash": "19552b31350c3665e9174eedfdd8f329f8067a35",
        "tags": [
          "template"
        ],
        "vscode": {
          "languageId": "r"
        }
      },
      "outputs": [],
      "source": [
        "source(file.path(work_dir, \"../r_helper_lib\", \"nb_helpers.R\"))\n",
        "source(file.path(work_dir, \"../r_helper_lib\", \"functions_mb.R\"))"
      ]
    },
    {
      "cell_type": "code",
      "execution_count": {},
      "metadata": {
        "tags": [
          "template"
        ],
        "vscode": {
          "languageId": "r"
        }
      },
      "outputs": [],
      "source": [
        "set.seed(RANDOM_SEED)  # Set seed for reproducibility"
      ]
    },
    {
      "cell_type": "code",
      "execution_count": {},
      "metadata": {
        "block_path": "notebooks/differential_analysis/notebook_generator/blocks/_shared/02_t_init_load_feat.ipynb",
        "source_hash": "d000731f9ee1950625175deb5b9617d50158118c",
        "tags": [
          "template"
        ],
        "vscode": {
          "languageId": "r"
        }
      },
      "outputs": [],
      "source": [
        "# suffix for some output files\n",
        "GROUPS_SUFFIX = paste(GROUPS_TO_COMPARE, collapse = \"_\")\n",
        "\n",
        "# create project-specific output folder if not exists\n",
        "PROJ_OUTPUT_DIR = file.path(work_dir, \"out\", PROJECT_TAG)\n",
        "if (!dir.exists(PROJ_OUTPUT_DIR)) {\n",
        "  dir.create(PROJ_OUTPUT_DIR, recursive = TRUE)\n",
        "}\n",
        "\n",
        "# config-specific output subfolder\n",
        "tmp = file.path(PROJ_OUTPUT_DIR, paste0(GROUPS_SUFFIX))\n",
        "if (!dir.exists(tmp)) {\n",
        "  dir.create(tmp, recursive = TRUE)\n",
        "}\n",
        "CFG_OUTPUT_DIR = file.path(tmp, paste0(sel_factor_coef))\n",
        "if (!dir.exists(CFG_OUTPUT_DIR)) {\n",
        "  dir.create(CFG_OUTPUT_DIR, recursive = TRUE)\n",
        "}"
      ]
    },
    {
      "cell_type": "code",
      "execution_count": {},
      "id": "1c81e043",
      "metadata": {
        "block_path": "notebooks/differential_analysis/notebook_generator/blocks/_shared/02_t_init_load_feat.ipynb",
        "source_hash": "135a06976a84400f256e3949477f70f3685d7bd9",
        "vscode": {
          "languageId": "r"
        }
      },
      "outputs": [],
      "source": [
        "# output multisheet XLS file with the statistical tests results -- component-based approach\n",
        "out_stat_compon_xlsx_file = file.path(CFG_OUTPUT_DIR, paste0(\"stats_\", SCENARIO_COMPON, \".xlsx\"))"
      ]
    },
    {
      "cell_type": "markdown",
      "metadata": {
        "tags": [
          "template"
        ]
      },
      "source": [
        "# Load"
      ]
    },
    {
      "cell_type": "markdown",
      "metadata": {
        "tags": [
          "template"
        ]
      },
      "source": [
        "## features"
      ]
    },
    {
      "cell_type": "code",
      "execution_count": {},
      "metadata": {
        "tags": [
          "template"
        ],
        "vscode": {
          "languageId": "r"
        }
      },
      "outputs": [],
      "source": [
        "flapro = lapply(flapro_file, function(x) {\n",
        "    read_tsv(x, col_names = TRUE) %>% \n",
        "        pivot_longer(cols = -c(Family), names_to = \"Sample\", values_to = \"Abundance\") %>% \n",
        "        rename(FlaCluster_Rep = Family)\n",
        "})"
      ]
    },
    {
      "cell_type": "markdown",
      "metadata": {
        "tags": [
          "template"
        ]
      },
      "source": [
        "## meta - features"
      ]
    },
    {
      "cell_type": "code",
      "execution_count": {},
      "metadata": {
        "tags": [
          "template"
        ],
        "vscode": {
          "languageId": "r"
        }
      },
      "outputs": [],
      "source": [
        "meta_fla = read_tsv(meta_fla_file, col_names = TRUE)\n",
        "meta_fla\n",
        "\n",
        "meta_fla %>% select(Flagellin_ID) %>% distinct() %>% nrow()\n",
        "meta_fla %>% select(Cluster_c4_representative) %>% distinct() %>% nrow()\n",
        "\n",
        "meta_fla = meta_fla %>% \n",
        "    mutate(num_fla_per_cluster = n(), .by = Cluster_c4_representative) \n",
        "\n",
        "meta_fla %>% select(Cluster_c4_representative, num_fla_per_cluster) %>% \n",
        "    distinct() %>%\n",
        "    arrange(desc(num_fla_per_cluster))"
      ]
    },
    {
      "cell_type": "code",
      "execution_count": {},
      "metadata": {
        "tags": [
          "template"
        ],
        "vscode": {
          "languageId": "r"
        }
      },
      "outputs": [],
      "source": [
        "# replace NA with \"not_defined\", to obtain true table() output\n",
        "meta_fla = meta_fla %>%     \n",
        "    mutate(Predicted = ifelse(is.na(Predicted_v3) | Predicted_v3 == \"not_checked\", \"not_defined\", Predicted_v3)) %>%\n",
        "    select(-Predicted_v3) %>% \n",
        "    mutate(Experimental = ifelse(is.na(Experimental) | Experimental == \"not_checked\", \"not_defined\", Experimental))    "
      ]
    },
    {
      "cell_type": "code",
      "execution_count": {},
      "metadata": {
        "tags": [
          "template"
        ],
        "vscode": {
          "languageId": "r"
        }
      },
      "outputs": [],
      "source": [
        "# meta_fla: make Cluster_Pred_v which summarizes Predicted_v by Cluster_c4_representative in a way that if the value is the same, it's left; otherwise, it's assigned \"mixed\"\n",
        "meta_fla = meta_fla %>%     \n",
        "    mutate(Cluster_Pred = ifelse(n_distinct(Predicted) == 1, first(Predicted), \"mixed\"), .by = Cluster_c4_representative) %>% \n",
        "    mutate(Cluster_Exp = ifelse(n_distinct(Experimental) == 1, first(Experimental), \"mixed\"), .by = Cluster_c4_representative) %>% \n",
        "    # make Cluster_Species by concatenating all distinct Species , per Cluster_c4_representative\n",
        "    mutate(Cluster_Species = paste(unique(Species), collapse = \";\"), .by = Cluster_c4_representative) %>% \n",
        "    mutate(Cluster_Genus = paste(unique(Genus), collapse = \";\"), .by = Cluster_c4_representative) %>%\n",
        "    mutate(Cluster_Family = paste(unique(Family), collapse = \";\"), .by = Cluster_c4_representative)"
      ]
    },
    {
      "cell_type": "code",
      "execution_count": {},
      "metadata": {
        "tags": [
          "template"
        ],
        "vscode": {
          "languageId": "r"
        }
      },
      "outputs": [],
      "source": [
        "meta_fla %>% select(Cluster_Pred) %>% table()\n",
        "meta_fla %>% select(Cluster_Exp) %>% table()"
      ]
    },
    {
      "cell_type": "markdown",
      "metadata": {
        "tags": [
          "template"
        ]
      },
      "source": [
        "## sample coverage"
      ]
    },
    {
      "cell_type": "code",
      "execution_count": {},
      "metadata": {
        "tags": [
          "template"
        ],
        "vscode": {
          "languageId": "r"
        }
      },
      "outputs": [],
      "source": [
        "sample_coverage = lapply(coverage_file, function(x) {\n",
        "    read_tsv(x, col_names = FALSE) %>% \n",
        "        rename(Sample = \"X1\", Reads1 = \"X2\") %>% \n",
        "        distinct()\n",
        "})"
      ]
    }
  ]
}
