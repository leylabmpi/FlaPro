{
  "cells": [
    {
      "cell_type": "code",
      "execution_count": {},
      "id": "00026e72",
      "metadata": {
        "tags": [
          "template"
        ],
        "vscode": {
          "languageId": "r"
        }
      },
      "outputs": [],
      "source": [
        "1 + 1"
      ]
    },
    {
      "cell_type": "code",
      "execution_count": {},
      "id": "90d6abff",
      "metadata": {
        "block_path": "notebooks/differential_analysis/notebook_generator/blocks/_shared/00_tester.ipynb",
        "source_hash": "648f59c191bed9eb1a0f64367e9083af5b2185b3",
        "tags": [
          "template"
        ],
        "vscode": {
          "languageId": "r"
        }
      },
      "outputs": [],
      "source": [
        "2 + 2"
      ]
    },
    {
      "cell_type": "code",
      "execution_count": {},
      "id": "98270417",
      "metadata": {
        "block_path": "notebooks/differential_analysis/notebook_generator/blocks/_shared/00_tester.ipynb",
        "source_hash": "a462b8bbd0dac566570ab8671cc87e1b355f976c",
        "tags": [
          "template"
        ],
        "vscode": {
          "languageId": "r"
        }
      },
      "outputs": [],
      "source": [
        "print(\"block tester\")"
      ]
    }
  ]
}
