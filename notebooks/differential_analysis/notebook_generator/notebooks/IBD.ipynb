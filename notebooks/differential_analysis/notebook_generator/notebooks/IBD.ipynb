{
  "cells": [
    {
      "cell_type": "markdown",
      "metadata": {
        "block_path": "notebooks/differential_analysis/notebook_generator/blocks/IBD/01_head.ipynb",
        "source_hash": "f2d53d3819b1f40bfa7b35216279e87f904b080e"
      },
      "source": [
        "# Goal\n",
        "\n",
        "* Flagellome analysis based on FlaPro results: HMP2 IBD dataset.\n"
      ]
    },
    {
      "cell_type": "markdown",
      "metadata": {
        "block_path": "notebooks/differential_analysis/notebook_generator/blocks/IBD/01_head.ipynb",
        "source_hash": "a34404a7b23862d5bc1aa899487f0a6e02580a4e"
      },
      "source": [
        "# Var"
      ]
    },
    {
      "cell_type": "code",
      "execution_count": null,
      "metadata": {
        "block_path": "notebooks/differential_analysis/notebook_generator/blocks/IBD/01_head.ipynb",
        "source_hash": "c6422fbc5a8329aa1d8139f0aef5a75b7058eeab",
        "vscode": {
          "languageId": "r"
        }
      },
      "outputs": [],
      "source": [
        "work_dir = '/ebio/abt3_projects2/human_fla_profiling/atyakht/human-fla-profiling/'\n",
        "PROJECT_TAG = \"IBD\"\n",
        "\n",
        "AVAILABLE_OMICS = c(\"MGX\", \"MTX\")\n",
        "#AVAILABLE_OMICS = c(\"MTX\")\n",
        "\n",
        "DO_MTX_MGX_ratio = TRUE\n",
        "\n",
        "# - scenario for the Component-base analysis, 3 options:\n",
        "#SCENARIO_COMPON = \"MGX\" # - metagenomics (MGX, meta-DNA); OR\n",
        "#SCENARIO_COMPON = \"MTX\" # - metatranscriptomics (MTX, meta-RNA)\n",
        "SCENARIO_COMPON = \"MTX_MGX_ratio\" # - metatranscriptomics (MTX, meta-RNA) / metagenomics (MGX, meta-DNA) ratio\n",
        "\n",
        "# - scenario for the Compositional analysis (Nearest Balance), 2 options:\n",
        "#SCENARIO_NB = \"MGX\"\n",
        "SCENARIO_NB = \"MTX\"\n",
        "\n",
        "# flagellome profiles data and meta-data files\n",
        "flapro_file = list()\n",
        "coverage_file = list()\n",
        "\n",
        "# DB v. C4 (Feb 2025):\n",
        "flapro_file[[\"MGX\"]] = file.path(work_dir, \"data/IBD/merged_realcounts_MGX.txt\")\n",
        "coverage_file[[\"MGX\"]] = file.path(work_dir, \"data/IBD/full_hmp_mgx_readcount.txt\")\n",
        "\n",
        "flapro_file[[\"MTX\"]] = file.path(work_dir, \"data/IBD/merged_realcounts_MTX.txt\")\n",
        "coverage_file[[\"MTX\"]] = file.path(work_dir, \"data/IBD/full_hmp_mtx_readcount.txt\")\n",
        "\n",
        "# meta-data\n",
        "meta_samples_file = list()\n",
        "meta_samples_file[[\"MGX\"]] = file.path(work_dir, \"data/IBD/final_metadata_mgx-24-09-24.txt\")\n",
        "meta_samples_file[[\"MTX\"]] = file.path(work_dir, \"data/IBD/final_metadata_mtx-24-09-24.txt\")\n",
        "hmp_metadata_original_file = file.path(work_dir, \"data/IBD/hmp2_metadata_2018-08-20.csv\")\n",
        "\n",
        "# meta-data\n",
        "meta_fla_file = file.path(work_dir, \"data/taxonomy_cluster_repr_c4-pred3.tsv\")"
      ]
    },
    {
      "cell_type": "code",
      "execution_count": null,
      "metadata": {
        "block_path": "notebooks/differential_analysis/notebook_generator/blocks/IBD/01_head.ipynb",
        "source_hash": "db5be9c48e7d214baf6e587bfa8130ca1814753c",
        "vscode": {
          "languageId": "r"
        }
      },
      "outputs": [],
      "source": [
        "# sample filtering params\n",
        "MIN_FLA_READS_PER_SAMPLE = 100 #50 #30 # pre-prevalence filtering\n",
        "MIN_FLA_READS_PER_SAMPLE_ROUND_2 = 30 # post-prevalence filtering\n",
        "\n",
        "# filtering params for the relative abundance (flapro_rel)\n",
        "REL_AB_PREVALENCE_CUTOFF = 25 #30\n",
        "REL_AB_ABUND_CUTOFF = 0 #0.0001\n",
        "\n",
        "# filtering params for NB (flapro), as well as its normalized version (flapro_perc)\n",
        "PREVALENCE_CUTOFF = 30 #10\n",
        "ABUND_CUTOFF_PERC = 0 #0.0001 #0.01 #0.005\n",
        "\n",
        "# flapro_rel: coefficient of sigma for outlier detection\n",
        "# (set it to some high value like 1E6 to disable outlier filtering)\n",
        "REL_N_SIGMA_REL_OUTLIERS = 3 #0.5\n",
        "# number of features (Fla) to show in the biplot\n",
        "REL_N_FEATURES_BIPLOT = 5 #10\n",
        "\n",
        "# colors used\n",
        "FLA_CLASSES_COLORS = c(\"not_defined\" = \"#888888\", \"active\" = \"#5050ff\", \"silent\" = \"#ce3d32\", \"evader\" = \"cyan\", \"mixed\" = \"black\")\n",
        "FLA_CLASSES_SHAPES = c(\"not_defined\" = 4, \"active\" = 1, \"silent\" = 3, \"evader\" = 4, \"mixed\" = 10)\n",
        "\n",
        "# option: dedicated analysis of the Fla experimentally profiled\n",
        "EXPLORE_EXPERIMENTAL_FLA = FALSE\n",
        "\n",
        "# additionally adjust features for factors (by collecting the residuals) - \n",
        "# - for the Component-based analysis (SCENARIO_COMPON) - for the viz purposes, does not affect the LM:\n",
        "ADD_ADJUST_FOR_FACTORS_COMPON = FALSE\n",
        "# - for the Compositional analysis (SCENARIO_NB) - for the viz purposes as well the produced NB values:\n",
        "ADD_ADJUST_FOR_FACTORS_NB = TRUE\n",
        "# adjust for what:\n",
        "ADD_ADJUST_FOR = \"Age + Sex\"\n",
        "\n",
        "# Adjust this factor as needed\n",
        "BIPLOT_ARROW_SCALING = c(\"MGX\" = 5e3, \"MTX\" = 5e4, \"MTX_MGX_ratio\" = 2e3)\n",
        "# add text labels to the biplot samples?\n",
        "BIPLOT_LABELS_SAMPLES = FALSE\n",
        "\n",
        "# repeated measures present? (e.g. multiple time points per subject)\n",
        "# - for the Component-based analysis (_COMPON), to use lmer instead of lm:\n",
        "REPEAT_MEAS_COMPON = TRUE\n",
        "# - for the Compositional analysis (_NB), to generate 1-sample-per subject splits instead of common splits:\n",
        "REPEAT_MEAS_NB = TRUE\n",
        "# name of the repeated measures factor (used if flags above enabled)\n",
        "REPEAT_MEAS_FACTOR = \"Participant_ID\""
      ]
    },
    {
      "cell_type": "code",
      "execution_count": null,
      "metadata": {
        "block_path": "notebooks/differential_analysis/notebook_generator/blocks/IBD/01_head.ipynb",
        "source_hash": "9604f80a00a258ea318f35b977b03a1f623d5187",
        "vscode": {
          "languageId": "r"
        }
      },
      "outputs": [],
      "source": [
        "# Nearest Balance parameters\n",
        "# cross-validation parameters:\n",
        "# threshold for reproducibility of Nearest Balance\n",
        "reproducibility_threshold = 0.8 #0.9\n",
        "\n",
        "# setting for leave-1-out\n",
        "n_sim = 100  # number of cross-validation simulations\n",
        "train_prop = 0.67 # proportion of samples to use for training (except for the case of repeated measures where it's defined customly)\n",
        "\n",
        "RANDOM_SEED = 123 # for reproducibility"
      ]
    },
    {
      "cell_type": "code",
      "execution_count": null,
      "metadata": {
        "block_path": "notebooks/differential_analysis/notebook_generator/blocks/IBD/01_head.ipynb",
        "source_hash": "41d617fd21ac80d5468551a791d55158acbc165a",
        "vscode": {
          "languageId": "r"
        }
      },
      "outputs": [],
      "source": [
        "# clin. groups to be included in comparisons\n",
        "GROUPS_TO_COMPARE = c(\"HC\", \"UC\", \"CD\")\n",
        "#GROUPS_TO_COMPARE = c(\"HC\", \"UC\")\n",
        "#GROUPS_TO_COMPARE = c(\"HC\", \"CD\")\n",
        "\n",
        "#sel_factor = \"Group\"\n",
        "sel_factor = \"DiseaseScore\"\n",
        "\n",
        "STAT_PLOT_CMP = list(c(\"HC\", \"UC\"), c(\"HC\", \"CD\"), c(\"UC\", \"CD\"))\n",
        "COHORT_COLORS = c(\"HC\" = \"#008ea0\", \"UC\" = \"#ff6f00\", \"CD\" = \"#c71000\")"
      ]
    },
    {
      "cell_type": "code",
      "execution_count": null,
      "metadata": {
        "block_path": "notebooks/differential_analysis/notebook_generator/blocks/IBD/01_head.ipynb",
        "source_hash": "63cceda7b4e19246faa1266a009b9de28fa7a6cd",
        "vscode": {
          "languageId": "r"
        }
      },
      "outputs": [],
      "source": [
        "rel_model_formula = paste0(sel_factor, \" + Age + (1|Participant_ID)\")\n",
        "\n",
        "# initial formula for PERMANOVA (many factors)\n",
        "init_permanova_formula = paste0(sel_factor, \" + Age + Sex\")\n",
        "\n",
        "# LM formula for Nearest Balance - factors selected based on adonis2 above\n",
        "lm_nb_formula = paste0(sel_factor, \" + Age\")\n",
        "\n",
        "# select 1 factor for which we seek Nearest Balance - \n",
        "# along with the name of coef that LM give to it (might be different for categorical factors).\n",
        "if(sel_factor == \"Group\") {\n",
        "    testthat::test_that(\"two cohorts are selected\", {\n",
        "        testthat::expect_equal(length(GROUPS_TO_COMPARE), 2)\n",
        "    })\n",
        "    #sel_factor_coef = paste0(\"Group\", sort(GROUPS_TO_COMPARE, decreasing = TRUE)[1])\n",
        "    sel_factor_coef = paste0(\"Group\", GROUPS_TO_COMPARE[length(GROUPS_TO_COMPARE)])\n",
        "} else {\n",
        "    sel_factor_coef = \"DiseaseScore\"\n",
        "}\n",
        "\n",
        "#sel_factor = \"Age\"\n",
        "#sel_factor_coef = \"Age\""
      ]
    },
    {
      "cell_type": "code",
      "execution_count": null,
      "metadata": {
        "block_path": "notebooks/differential_analysis/notebook_generator/blocks/IBD/01_head.ipynb",
        "source_hash": "dfc46dfdf3d007ad398a44e4960e575e2ec7dc07",
        "vscode": {
          "languageId": "r"
        }
      },
      "outputs": [],
      "source": [
        "# number of permutations for PERMANOVA\n",
        "N_PERMANOVA = 999 # for testing only\n",
        "#N_PERMANOVA = 9999"
      ]
    },
    {
      "cell_type": "code",
      "execution_count": null,
      "metadata": {
        "block_path": "notebooks/differential_analysis/notebook_generator/blocks/IBD/01_head.ipynb",
        "source_hash": "826132c31dcbf011b04258a5bc6fd1b4f38cd8ee",
        "vscode": {
          "languageId": "r"
        }
      },
      "outputs": [],
      "source": [
        "# Set the number of CPU cores to use:\n",
        "# in the \"parallel\" lib\n",
        "num_rparallel_cores = 40"
      ]
    },
    {
      "cell_type": "markdown",
      "metadata": {
        "block_path": "notebooks/differential_analysis/notebook_generator/blocks/_shared/02_t_init_load_feat.ipynb",
        "source_hash": "c5db75907cefca8a892db317fa93c7c95d612633",
        "tags": [
          "template"
        ]
      },
      "source": [
        "# Init"
      ]
    },
    {
      "cell_type": "code",
      "execution_count": null,
      "metadata": {
        "block_path": "notebooks/differential_analysis/notebook_generator/blocks/_shared/02_t_init_load_feat.ipynb",
        "source_hash": "4fdb6eb2caf07d742ba2c494dde3f543c6f03752",
        "tags": [
          "template"
        ],
        "vscode": {
          "languageId": "r"
        }
      },
      "outputs": [],
      "source": [
        "library(readxl)\n",
        "library(NearestBalance)\n",
        "library(zCompositions)\n",
        "library(reshape2)\n",
        "library(selbal)\n",
        "library(LeyLabRMisc)\n",
        "library(ggpubr)\n",
        "library(data.table)\n",
        "library(ggplot2)\n",
        "library(tibble)\n",
        "library(vegan)\n",
        "library(foreach)\n",
        "library(doParallel)\n",
        "library(lme4) \n",
        "library(textshape)\n",
        "library(mgcv)\n",
        "library(MASS)\n",
        "library(ggsci)\n",
        "library(cluster)\n",
        "library(tidyr)\n",
        "library(readr)\n",
        "library(broom)\n",
        "library(lmerTest)\n",
        "library(broom.mixed)\n",
        "library(furrr)\n",
        "library(testthat)\n",
        "library(ggrepel)\n",
        "library(pheatmap)\n",
        "library(dplyr)\n",
        "library(purrr)\n",
        "\n",
        "df.dims(5)"
      ]
    },
    {
      "cell_type": "code",
      "execution_count": null,
      "metadata": {
        "block_path": "notebooks/differential_analysis/notebook_generator/blocks/_shared/02_t_init_load_feat.ipynb",
        "source_hash": "20df15ebc8b0874d5a32b8509e53620bc3e2ad96",
        "tags": [
          "template"
        ],
        "vscode": {
          "languageId": "r"
        }
      },
      "outputs": [],
      "source": [
        "# in furrr\n",
        "future::plan(multicore)"
      ]
    },
    {
      "cell_type": "code",
      "execution_count": null,
      "metadata": {
        "block_path": "notebooks/differential_analysis/notebook_generator/blocks/_shared/02_t_init_load_feat.ipynb",
        "source_hash": "dd40eeb4132ba6964636faebde4d71c0b7efbb37",
        "tags": [
          "template"
        ],
        "vscode": {
          "languageId": "r"
        }
      },
      "outputs": [],
      "source": [
        "source(file.path(work_dir, \"../r_helper_lib\", \"nb_helpers.R\"))\n",
        "source(file.path(work_dir, \"../r_helper_lib\", \"functions_mb.R\"))"
      ]
    },
    {
      "cell_type": "code",
      "execution_count": null,
      "metadata": {
        "block_path": "notebooks/differential_analysis/notebook_generator/blocks/_shared/02_t_init_load_feat.ipynb",
        "source_hash": "8e3e8a4542b4609c4a0faadf8aae73f593ee3100",
        "tags": [
          "template"
        ],
        "vscode": {
          "languageId": "r"
        }
      },
      "outputs": [],
      "source": [
        "set.seed(RANDOM_SEED)  # Set seed for reproducibility"
      ]
    },
    {
      "cell_type": "code",
      "execution_count": null,
      "metadata": {
        "block_path": "notebooks/differential_analysis/notebook_generator/blocks/_shared/02_t_init_load_feat.ipynb",
        "source_hash": "f1ee27e6a432d96494f9078fdd10f2b125948a64",
        "tags": [
          "template"
        ],
        "vscode": {
          "languageId": "r"
        }
      },
      "outputs": [],
      "source": [
        "# suffix for some output files\n",
        "GROUPS_SUFFIX = paste(GROUPS_TO_COMPARE, collapse = \"_\")\n",
        "\n",
        "# create project-specific output folder if not exists\n",
        "PROJ_OUTPUT_DIR = file.path(work_dir, \"out\", PROJECT_TAG)\n",
        "if (!dir.exists(PROJ_OUTPUT_DIR)) {\n",
        "  dir.create(PROJ_OUTPUT_DIR, recursive = TRUE)\n",
        "}\n",
        "\n",
        "# config-specific output subfolder\n",
        "tmp = file.path(PROJ_OUTPUT_DIR, paste0(GROUPS_SUFFIX))\n",
        "if (!dir.exists(tmp)) {\n",
        "  dir.create(tmp, recursive = TRUE)\n",
        "}\n",
        "CFG_OUTPUT_DIR = file.path(tmp, paste0(sel_factor_coef))\n",
        "if (!dir.exists(CFG_OUTPUT_DIR)) {\n",
        "  dir.create(CFG_OUTPUT_DIR, recursive = TRUE)\n",
        "}"
      ]
    },
    {
      "cell_type": "code",
      "execution_count": null,
      "id": "1c81e043",
      "metadata": {
        "block_path": "notebooks/differential_analysis/notebook_generator/blocks/_shared/02_t_init_load_feat.ipynb",
        "source_hash": "db42b68f4a576a1f28b01eac082a2c0097d5787e",
        "vscode": {
          "languageId": "r"
        }
      },
      "outputs": [],
      "source": [
        "# output multisheet XLS file with the statistical tests results -- component-based approach\n",
        "out_stat_compon_xlsx_file = file.path(CFG_OUTPUT_DIR, paste0(\"stats_\", SCENARIO_COMPON, \".xlsx\"))"
      ]
    },
    {
      "cell_type": "markdown",
      "metadata": {
        "block_path": "notebooks/differential_analysis/notebook_generator/blocks/_shared/02_t_init_load_feat.ipynb",
        "source_hash": "31e205550507475488bc556725999b35401ac394",
        "tags": [
          "template"
        ]
      },
      "source": [
        "# Load"
      ]
    },
    {
      "cell_type": "markdown",
      "metadata": {
        "block_path": "notebooks/differential_analysis/notebook_generator/blocks/_shared/02_t_init_load_feat.ipynb",
        "source_hash": "dadc5a11cc5cd6f32dbe4ff9842a5df5aeea6546",
        "tags": [
          "template"
        ]
      },
      "source": [
        "## features"
      ]
    },
    {
      "cell_type": "code",
      "execution_count": null,
      "metadata": {
        "block_path": "notebooks/differential_analysis/notebook_generator/blocks/_shared/02_t_init_load_feat.ipynb",
        "source_hash": "72e7335d73f0a2747426f5b2a040af5d2d4f1329",
        "tags": [
          "template"
        ],
        "vscode": {
          "languageId": "r"
        }
      },
      "outputs": [],
      "source": [
        "flapro = lapply(flapro_file, function(x) {\n",
        "    read_tsv(x, col_names = TRUE) %>% \n",
        "        pivot_longer(cols = -c(Family), names_to = \"Sample\", values_to = \"Abundance\") %>% \n",
        "        rename(FlaCluster_Rep = Family)\n",
        "})"
      ]
    },
    {
      "cell_type": "markdown",
      "metadata": {
        "block_path": "notebooks/differential_analysis/notebook_generator/blocks/_shared/02_t_init_load_feat.ipynb",
        "source_hash": "2ebe34f77da6993564cf54b74f0e8d7ef846ec7c",
        "tags": [
          "template"
        ]
      },
      "source": [
        "## meta - features"
      ]
    },
    {
      "cell_type": "code",
      "execution_count": null,
      "metadata": {
        "block_path": "notebooks/differential_analysis/notebook_generator/blocks/_shared/02_t_init_load_feat.ipynb",
        "source_hash": "501685283152be6f35aaa35f66a1138aea03d659",
        "tags": [
          "template"
        ],
        "vscode": {
          "languageId": "r"
        }
      },
      "outputs": [],
      "source": [
        "meta_fla = read_tsv(meta_fla_file, col_names = TRUE)\n",
        "meta_fla\n",
        "\n",
        "meta_fla %>% select(Flagellin_ID) %>% distinct() %>% nrow()\n",
        "meta_fla %>% select(Cluster_c4_representative) %>% distinct() %>% nrow()\n",
        "\n",
        "meta_fla = meta_fla %>% \n",
        "    mutate(num_fla_per_cluster = n(), .by = Cluster_c4_representative) \n",
        "\n",
        "meta_fla %>% select(Cluster_c4_representative, num_fla_per_cluster) %>% \n",
        "    distinct() %>%\n",
        "    arrange(desc(num_fla_per_cluster))"
      ]
    },
    {
      "cell_type": "code",
      "execution_count": null,
      "metadata": {
        "block_path": "notebooks/differential_analysis/notebook_generator/blocks/_shared/02_t_init_load_feat.ipynb",
        "source_hash": "34e4b4d6fe4567324a5167631d65dc37217a1560",
        "tags": [
          "template"
        ],
        "vscode": {
          "languageId": "r"
        }
      },
      "outputs": [],
      "source": [
        "# replace NA with \"not_defined\", to obtain true table() output\n",
        "meta_fla = meta_fla %>%     \n",
        "    mutate(Predicted = ifelse(is.na(Predicted_v3) | Predicted_v3 == \"not_checked\", \"not_defined\", Predicted_v3)) %>%\n",
        "    select(-Predicted_v3) %>% \n",
        "    mutate(Experimental = ifelse(is.na(Experimental) | Experimental == \"not_checked\", \"not_defined\", Experimental))    "
      ]
    },
    {
      "cell_type": "code",
      "execution_count": null,
      "metadata": {
        "block_path": "notebooks/differential_analysis/notebook_generator/blocks/_shared/02_t_init_load_feat.ipynb",
        "source_hash": "1a3b28e92b54941b45b2e67f2bc3756ba46fdb4b",
        "tags": [
          "template"
        ],
        "vscode": {
          "languageId": "r"
        }
      },
      "outputs": [],
      "source": [
        "# meta_fla: make Cluster_Pred_v which summarizes Predicted_v by Cluster_c4_representative in a way that if the value is the same, it's left; otherwise, it's assigned \"mixed\"\n",
        "meta_fla = meta_fla %>%     \n",
        "    mutate(Cluster_Pred = ifelse(n_distinct(Predicted) == 1, first(Predicted), \"mixed\"), .by = Cluster_c4_representative) %>% \n",
        "    mutate(Cluster_Exp = ifelse(n_distinct(Experimental) == 1, first(Experimental), \"mixed\"), .by = Cluster_c4_representative) %>% \n",
        "    # make Cluster_Species by concatenating all distinct Species , per Cluster_c4_representative\n",
        "    mutate(Cluster_Species = paste(unique(Species), collapse = \";\"), .by = Cluster_c4_representative) %>% \n",
        "    mutate(Cluster_Genus = paste(unique(Genus), collapse = \";\"), .by = Cluster_c4_representative) %>%\n",
        "    mutate(Cluster_Family = paste(unique(Family), collapse = \";\"), .by = Cluster_c4_representative)"
      ]
    },
    {
      "cell_type": "code",
      "execution_count": null,
      "metadata": {
        "block_path": "notebooks/differential_analysis/notebook_generator/blocks/_shared/02_t_init_load_feat.ipynb",
        "source_hash": "40b23a7521e586e5239ef6a84a5ed686f5afba41",
        "tags": [
          "template"
        ],
        "vscode": {
          "languageId": "r"
        }
      },
      "outputs": [],
      "source": [
        "meta_fla %>% select(Cluster_Pred) %>% table()\n",
        "meta_fla %>% select(Cluster_Exp) %>% table()"
      ]
    },
    {
      "cell_type": "markdown",
      "metadata": {
        "block_path": "notebooks/differential_analysis/notebook_generator/blocks/_shared/02_t_init_load_feat.ipynb",
        "source_hash": "38e07c382d9f1216778ea0945b3026f9c33e03f2",
        "tags": [
          "template"
        ]
      },
      "source": [
        "## sample coverage"
      ]
    },
    {
      "cell_type": "code",
      "execution_count": null,
      "metadata": {
        "block_path": "notebooks/differential_analysis/notebook_generator/blocks/_shared/02_t_init_load_feat.ipynb",
        "source_hash": "fc8dd7b440a4ca1e227e8d87fed01bc06a4caa6c",
        "tags": [
          "template"
        ],
        "vscode": {
          "languageId": "r"
        }
      },
      "outputs": [],
      "source": [
        "sample_coverage = lapply(coverage_file, function(x) {\n",
        "    read_tsv(x, col_names = FALSE) %>% \n",
        "        rename(Sample = \"X1\", Reads1 = \"X2\") %>% \n",
        "        distinct()\n",
        "})"
      ]
    },
    {
      "cell_type": "markdown",
      "metadata": {
        "block_path": "notebooks/differential_analysis/notebook_generator/blocks/IBD/03_load_meta_samples.ipynb",
        "source_hash": "bf7eab44cfdf0d767ea491daf010b2aeeafe7a71"
      },
      "source": [
        "## [ps] meta - samples"
      ]
    },
    {
      "cell_type": "code",
      "execution_count": null,
      "metadata": {
        "block_path": "notebooks/differential_analysis/notebook_generator/blocks/IBD/03_load_meta_samples.ipynb",
        "source_hash": "9bbb1f2019d7206ef1c579aa7d4f4c4ca5205445",
        "vscode": {
          "languageId": "r"
        }
      },
      "outputs": [],
      "source": [
        "meta_samples = lapply(AVAILABLE_OMICS, function(x) {\n",
        "    read_tsv(meta_samples_file[[x]], col_names = TRUE) %>%     \n",
        "        rename(Participant_ID = \"Participant.ID\", Internal_BioSample_ID = \"sample_alias_nodif\", Sample = \"run_accession\", Group = \"diagnosis\")\n",
        "}) %>% setNames(AVAILABLE_OMICS)"
      ]
    },
    {
      "cell_type": "code",
      "execution_count": null,
      "metadata": {
        "block_path": "notebooks/differential_analysis/notebook_generator/blocks/IBD/03_load_meta_samples.ipynb",
        "source_hash": "5eb938462d7594d88e5762dc8132c7b1db3cf25e",
        "vscode": {
          "languageId": "r"
        }
      },
      "outputs": [],
      "source": [
        "hmp_metadata_original = read_csv(hmp_metadata_original_file, col_names = TRUE) %>% \n",
        "    rename(Participant_ID = \"Participant ID\", Age = \"consent_age\", Sex = \"sex\")        \n",
        "hmp_metadata_original"
      ]
    },
    {
      "cell_type": "markdown",
      "metadata": {
        "block_path": "notebooks/differential_analysis/notebook_generator/blocks/IBD/04_preprocess_A.ipynb",
        "source_hash": "991b2feb0829161de0fe0ea64f7b2a37cd4c7ead"
      },
      "source": [
        "# Preprocess"
      ]
    },
    {
      "cell_type": "markdown",
      "metadata": {
        "block_path": "notebooks/differential_analysis/notebook_generator/blocks/IBD/04_preprocess_A.ipynb",
        "source_hash": "72c399eb400f9d205b681be2ecf93171b720916b"
      },
      "source": [
        "## [ps] rename feature and sample coverage tables"
      ]
    },
    {
      "cell_type": "code",
      "execution_count": null,
      "metadata": {
        "block_path": "notebooks/differential_analysis/notebook_generator/blocks/IBD/04_preprocess_A.ipynb",
        "source_hash": "bf1c9dcf87df72bd042b9be1a8e82ad417d9f811",
        "vscode": {
          "languageId": "r"
        }
      },
      "outputs": [],
      "source": [
        "flapro = lapply(AVAILABLE_OMICS, function(x) {\n",
        "    flapro[[x]] %>% inner_join(meta_samples[[x]], by = \"Sample\") %>%         \n",
        "        mutate(Sample = Internal_BioSample_ID) %>% \n",
        "        select(FlaCluster_Rep, Sample, Abundance)    \n",
        "}) %>% setNames(AVAILABLE_OMICS)"
      ]
    },
    {
      "cell_type": "code",
      "execution_count": null,
      "metadata": {
        "block_path": "notebooks/differential_analysis/notebook_generator/blocks/IBD/04_preprocess_A.ipynb",
        "source_hash": "794c1181d7d0659caafb559aade816b286166de6",
        "vscode": {
          "languageId": "r"
        }
      },
      "outputs": [],
      "source": [
        "sample_coverage = lapply(AVAILABLE_OMICS, function(x) {\n",
        "    sample_coverage[[x]] %>% inner_join(meta_samples[[x]], by = \"Sample\") %>% \n",
        "        mutate(Sample = Internal_BioSample_ID) %>% \n",
        "        select(Sample, Reads1)    \n",
        "}) %>% setNames(AVAILABLE_OMICS)"
      ]
    },
    {
      "cell_type": "markdown",
      "metadata": {
        "block_path": "notebooks/differential_analysis/notebook_generator/blocks/IBD/04_preprocess_A.ipynb",
        "source_hash": "33e5f22b0c550d6af92129a0c379c6d85335acf0"
      },
      "source": [
        "## [ps] metadata - samples"
      ]
    },
    {
      "cell_type": "code",
      "execution_count": null,
      "metadata": {
        "block_path": "notebooks/differential_analysis/notebook_generator/blocks/IBD/04_preprocess_A.ipynb",
        "source_hash": "0ad636bad1675218238715a953d6d68079a274ef",
        "vscode": {
          "languageId": "r"
        }
      },
      "outputs": [],
      "source": [
        "# merge the 2 meta_samples into 1\n",
        "meta_samples = lapply(AVAILABLE_OMICS, function(x) {\n",
        "    meta_samples[[x]] %>% \n",
        "        mutate(Sample = Internal_BioSample_ID) %>% \n",
        "        select(Sample, Participant_ID, Group, week_num, visit_num)\n",
        "}) %>% setNames(AVAILABLE_OMICS)\n",
        "meta_samples"
      ]
    },
    {
      "cell_type": "code",
      "execution_count": null,
      "metadata": {
        "block_path": "notebooks/differential_analysis/notebook_generator/blocks/IBD/04_preprocess_A.ipynb",
        "source_hash": "00c0cf526101f3f6171fd41de2fb55025b732a2b",
        "vscode": {
          "languageId": "r"
        }
      },
      "outputs": [],
      "source": [
        "meta_samples = do.call(rbind, meta_samples[AVAILABLE_OMICS]) %>% distinct() \n",
        "meta_samples"
      ]
    },
    {
      "cell_type": "code",
      "execution_count": null,
      "metadata": {
        "block_path": "notebooks/differential_analysis/notebook_generator/blocks/IBD/04_preprocess_A.ipynb",
        "source_hash": "d8caf17603ae10cf3b2023306b363263bc393a37",
        "vscode": {
          "languageId": "r"
        }
      },
      "outputs": [],
      "source": [
        "# order Participant_ID by Group for viz purposes\n",
        "meta_samples = meta_samples %>% \n",
        "    mutate(Participant_ID = factor(Participant_ID, \n",
        "                                 levels = unique(Participant_ID[order(Group)])))\n",
        "meta_samples"
      ]
    },
    {
      "cell_type": "code",
      "execution_count": null,
      "metadata": {
        "block_path": "notebooks/differential_analysis/notebook_generator/blocks/IBD/04_preprocess_A.ipynb",
        "source_hash": "a73e4b81a7574c181e01c6273cdb7dedad1bce45",
        "vscode": {
          "languageId": "r"
        }
      },
      "outputs": [],
      "source": [
        "# meta_samples: plot lines for weeks_num per Participant_ID, arranged by diagnosis\n",
        "p.dims(15, 3)\n",
        "meta_samples %>% \n",
        "    ggplot(aes(x = Participant_ID, y = week_num, color = Group)) +\n",
        "    geom_point() +\n",
        "    geom_line() +\n",
        "    theme_minimal() +\n",
        "    theme(axis.text.x = element_text(angle = 90, vjust = 0.5, hjust=1)) +\n",
        "    scale_color_futurama()"
      ]
    },
    {
      "cell_type": "code",
      "execution_count": null,
      "metadata": {
        "block_path": "notebooks/differential_analysis/notebook_generator/blocks/IBD/04_preprocess_A.ipynb",
        "source_hash": "c6a8efc41cd0598c2cc7b520ca79e6291aa3ee21",
        "vscode": {
          "languageId": "r"
        }
      },
      "outputs": [],
      "source": [
        "meta_samples = meta_samples %>%    \n",
        "    select(Sample, Participant_ID, Group, week_num)\n",
        "meta_samples"
      ]
    },
    {
      "cell_type": "code",
      "execution_count": null,
      "metadata": {
        "block_path": "notebooks/differential_analysis/notebook_generator/blocks/IBD/04_preprocess_A.ipynb",
        "source_hash": "ed9ca11d6b34df48a7db65f5fc868b001f8252a3",
        "vscode": {
          "languageId": "r"
        }
      },
      "outputs": [],
      "source": [
        "# add Sex and Age from the large meta table\n",
        "meta_samples = meta_samples %>% inner_join(hmp_metadata_original %>% select(Participant_ID, Age, Sex) %>% distinct(), by = \"Participant_ID\") "
      ]
    },
    {
      "cell_type": "code",
      "execution_count": null,
      "metadata": {
        "block_path": "notebooks/differential_analysis/notebook_generator/blocks/IBD/04_preprocess_A.ipynb",
        "source_hash": "798e77eea3aeb6676e6ad2b7a8c5d8f102ca69ed",
        "vscode": {
          "languageId": "r"
        }
      },
      "outputs": [],
      "source": [
        "# in meta_samples Group, replace values HC - with 0_HC, UC - with 1_UC, CD - with 2_CD\n",
        "meta_samples = meta_samples %>%     \n",
        "    mutate(Group = str_replace(Group, \"nonIBD\", \"HC\")) %>%\n",
        "    # make Diagnosis a factor, with levels ordered as HC, UC, CD\n",
        "    mutate(Group = factor(Group, levels = c(\"HC\", \"UC\", \"CD\")))\n",
        "meta_samples"
      ]
    },
    {
      "cell_type": "code",
      "execution_count": null,
      "metadata": {
        "block_path": "notebooks/differential_analysis/notebook_generator/blocks/IBD/04_preprocess_A.ipynb",
        "source_hash": "5629b9dce24396125fcffe8df7b14678d821991d",
        "vscode": {
          "languageId": "r"
        }
      },
      "outputs": [],
      "source": [
        "# leave only those who have sex\n",
        "nrow(meta_samples %>% filter(is.na(Sex)))\n",
        "meta_samples = meta_samples %>% filter(!is.na(Sex))\n",
        "\n",
        "# and age\n",
        "nrow(meta_samples %>% filter(is.na(Age)))\n",
        "meta_samples = meta_samples %>% filter(!is.na(Age))\n",
        "\n",
        "nrow(meta_samples)"
      ]
    },
    {
      "cell_type": "code",
      "execution_count": null,
      "metadata": {
        "block_path": "notebooks/differential_analysis/notebook_generator/blocks/IBD/04_preprocess_A.ipynb",
        "source_hash": "52f59f2ac996f6000dd36de7102af1e662e3253a",
        "vscode": {
          "languageId": "r"
        }
      },
      "outputs": [],
      "source": [
        "meta_samples %>% select(Participant_ID) %>% distinct() %>% nrow()\n",
        "meta_samples %>% select(Participant_ID, Group) %>% distinct() %>% select(Group) %>% table()"
      ]
    },
    {
      "cell_type": "markdown",
      "metadata": {
        "block_path": "notebooks/differential_analysis/notebook_generator/blocks/IBD/04_preprocess_A.ipynb",
        "source_hash": "ca3702f2828cce0c032296a9ce7e611e4a9ee9bb"
      },
      "source": [
        "### [ps] Create derivative factor/s"
      ]
    },
    {
      "cell_type": "code",
      "execution_count": null,
      "metadata": {
        "block_path": "notebooks/differential_analysis/notebook_generator/blocks/IBD/04_preprocess_A.ipynb",
        "source_hash": "ffb3b9fb8c06253faa9aef30a40220de60410dba",
        "vscode": {
          "languageId": "r"
        }
      },
      "outputs": [],
      "source": [
        "# DiseaseScore is a quantitative approximation for a severity of disease (considering UC is normally less severe than CD; with HC = 0)\n",
        "meta_samples = meta_samples %>% \t\t\t\n",
        "\tmutate(DiseaseScore = ifelse(Group == \"HC\", 0, ifelse(Group == \"UC\", 1, ifelse(Group == \"CD\", 2, NA))))\t\n",
        "meta_samples"
      ]
    },
    {
      "cell_type": "markdown",
      "metadata": {
        "block_path": "notebooks/differential_analysis/notebook_generator/blocks/_shared/05_t_preprocess_B.ipynb",
        "source_hash": "fa100651124f566f3e391b728d1d71d100eeda95",
        "tags": [
          "template"
        ]
      },
      "source": [
        "## metadata - flagellins"
      ]
    },
    {
      "cell_type": "code",
      "execution_count": null,
      "metadata": {
        "block_path": "notebooks/differential_analysis/notebook_generator/blocks/_shared/05_t_preprocess_B.ipynb",
        "source_hash": "ae2ac0538ab28c90bf0ff0e929af25d210ad5821",
        "tags": [
          "template"
        ],
        "vscode": {
          "languageId": "r"
        }
      },
      "outputs": [],
      "source": [
        "# for those species that are not defined, we will use the genus\n",
        "# (and before - the same for genus & family)\n",
        "meta_fla = meta_fla %>% \n",
        "    mutate(Genus = ifelse(is.na(Genus), paste0(\"uncl. \", Family), Genus))\n",
        "\n",
        "meta_fla = meta_fla %>% \n",
        "    mutate(Genus = ifelse(Genus == \"-\", paste0(Family, \" gen.\"), Genus)) %>% \n",
        "    mutate(Species = ifelse(Species == \"-\", paste0(Genus, \" spp.\"), Species))"
      ]
    },
    {
      "cell_type": "code",
      "execution_count": null,
      "metadata": {
        "block_path": "notebooks/differential_analysis/notebook_generator/blocks/_shared/05_t_preprocess_B.ipynb",
        "source_hash": "3d25d1b6e32820ac98778e670ed80942c2cd5cc5",
        "tags": [
          "template"
        ],
        "vscode": {
          "languageId": "r"
        }
      },
      "outputs": [],
      "source": [
        "# add a letter prefix to the Cluster\n",
        "meta_fla = meta_fla %>% mutate(FlaCluster = paste0(\"FC_\", Cluster_c4_representative)) %>% \n",
        "    select(-Cluster_c4_representative)\n",
        "meta_fla"
      ]
    },
    {
      "cell_type": "code",
      "execution_count": null,
      "metadata": {
        "block_path": "notebooks/differential_analysis/notebook_generator/blocks/_shared/05_t_preprocess_B.ipynb",
        "source_hash": "49ea1d193d609957bd948ef03193c4c612474733",
        "tags": [
          "template"
        ],
        "vscode": {
          "languageId": "r"
        }
      },
      "outputs": [],
      "source": [
        "meta_fla %>% select(Flagellin_ID) %>% distinct() %>% nrow()\n",
        "meta_fla %>% select(FlaCluster) %>% distinct() %>% nrow()"
      ]
    },
    {
      "cell_type": "code",
      "execution_count": null,
      "metadata": {
        "block_path": "notebooks/differential_analysis/notebook_generator/blocks/_shared/05_t_preprocess_B.ipynb",
        "source_hash": "920f89fedc0a9b700f638f64c7a3de4f6f21304f",
        "tags": [
          "template"
        ],
        "vscode": {
          "languageId": "r"
        }
      },
      "outputs": [],
      "source": [
        "# prepare a per-FlaCluster version of meta_fla (with distinct())\n",
        "meta_fla_clus = meta_fla %>%  \n",
        "    #Content_of_the_cluster\tnum_fla_per_cluster\tCluster_Pred\tCluster_Exp\tCluster_Species\tCluster_Genus\tCluster_Family\tFlaCluster\n",
        "    select(FlaCluster, Cluster_Pred, Cluster_Exp, Cluster_Family, Cluster_Genus, Cluster_Species) %>%     \n",
        "    distinct()\n",
        "meta_fla_clus"
      ]
    },
    {
      "cell_type": "markdown",
      "metadata": {
        "block_path": "notebooks/differential_analysis/notebook_generator/blocks/_shared/05_t_preprocess_B.ipynb",
        "source_hash": "38e07c382d9f1216778ea0945b3026f9c33e03f2",
        "tags": [
          "template"
        ]
      },
      "source": [
        "## sample coverage"
      ]
    },
    {
      "cell_type": "markdown",
      "metadata": {
        "block_path": "notebooks/differential_analysis/notebook_generator/blocks/_shared/05_t_preprocess_B.ipynb",
        "source_hash": "f3a810642eed5cd7d29fa2a0545c1fcb031eb350",
        "tags": [
          "template"
        ]
      },
      "source": [
        "## feature matrices"
      ]
    },
    {
      "cell_type": "code",
      "execution_count": null,
      "metadata": {
        "block_path": "notebooks/differential_analysis/notebook_generator/blocks/_shared/05_t_preprocess_B.ipynb",
        "source_hash": "50e499e199aaa876a4a71129883c4c4029eee875",
        "tags": [
          "template"
        ],
        "vscode": {
          "languageId": "r"
        }
      },
      "outputs": [],
      "source": [
        "flapro = lapply(flapro, function(x) {\n",
        "    x %>% mutate(FlaCluster = paste0(\"FC_\", FlaCluster_Rep)) %>%\n",
        "        select(-FlaCluster_Rep)\n",
        "})"
      ]
    },
    {
      "cell_type": "code",
      "execution_count": null,
      "metadata": {
        "block_path": "notebooks/differential_analysis/notebook_generator/blocks/_shared/05_t_preprocess_B.ipynb",
        "source_hash": "5d5661e77d5b6e81e4da0d972921e76f35a3b500",
        "tags": [
          "template"
        ],
        "vscode": {
          "languageId": "r"
        }
      },
      "outputs": [],
      "source": [
        "# leave FlaProfiles only for those samples who have meta-data        \n",
        "flapro = lapply(AVAILABLE_OMICS, function(x) {\n",
        "    print(x)\n",
        "    y = flapro[[x]]    \n",
        "    print(y %>% unique_n('samples', Sample))\n",
        "    print(y %>% unique_n('features', FlaCluster))\n",
        "    res = y %>% filter(Sample %in% meta_samples$Sample)\n",
        "    print(y %>% unique_n('samples present in meta', Sample))\n",
        "    print(y %>% unique_n('features', FlaCluster))\n",
        "    res\n",
        "}) %>% setNames(AVAILABLE_OMICS)"
      ]
    },
    {
      "cell_type": "code",
      "execution_count": null,
      "id": "85fdfee5",
      "metadata": {
        "block_path": "notebooks/differential_analysis/notebook_generator/blocks/_shared/05_t_preprocess_B.ipynb",
        "source_hash": "9c3100978b5136675fc785d14c9a6a2ddf28edef",
        "tags": [
          "template"
        ],
        "vscode": {
          "languageId": "r"
        }
      },
      "outputs": [],
      "source": [
        "### for saving: remove zero Fla and make a filtered meta_fla accordingly"
      ]
    },
    {
      "cell_type": "code",
      "execution_count": null,
      "id": "97dd1843",
      "metadata": {
        "block_path": "notebooks/differential_analysis/notebook_generator/blocks/_shared/05_t_preprocess_B.ipynb",
        "source_hash": "9e83df5715263fa55e7db3860d20b24e9591e103",
        "tags": [
          "template"
        ],
        "vscode": {
          "languageId": "r"
        }
      },
      "outputs": [],
      "source": [
        "flapro_no_zeros = lapply(AVAILABLE_OMICS, function(x) {\n",
        "    flapro[[x]] %>% filter(Abundance > 0)\n",
        "}) %>% setNames(AVAILABLE_OMICS)\n",
        "flapro_no_zeros\n",
        "\n",
        "flapro_no_zeros_mat = lapply(AVAILABLE_OMICS, function(x) {\n",
        "    flapro_no_zeros[[x]] %>% \n",
        "        pivot_wider(names_from = Sample, values_from = Abundance, values_fill = 0) %>% \n",
        "        column_to_rownames(\"FlaCluster\") %>% \n",
        "        as.matrix()\n",
        "}) %>% setNames(AVAILABLE_OMICS)\n",
        "flapro_no_zeros_mat"
      ]
    },
    {
      "cell_type": "code",
      "execution_count": null,
      "id": "0c7113cd",
      "metadata": {
        "block_path": "notebooks/differential_analysis/notebook_generator/blocks/_shared/05_t_preprocess_B.ipynb",
        "source_hash": "c7edecd358d3c6d7267c565fd3940073998ad6e4",
        "tags": [
          "template"
        ],
        "vscode": {
          "languageId": "r"
        }
      },
      "outputs": [],
      "source": [
        "meta_fla_no_zeros = lapply(AVAILABLE_OMICS, function(x) {\n",
        "    meta_fla %>% \n",
        "    select(FlaCluster, Cluster_Family, Cluster_Genus, Cluster_Species, Cluster_Pred, Cluster_Exp, Content_of_the_cluster) %>% \n",
        "    distinct() %>% \n",
        "    inner_join(flapro_no_zeros[[x]] %>% select(FlaCluster) %>% distinct(), by = \"FlaCluster\")\n",
        "}) %>% setNames(AVAILABLE_OMICS)\n",
        "meta_fla_no_zeros"
      ]
    },
    {
      "cell_type": "markdown",
      "metadata": {
        "block_path": "notebooks/differential_analysis/notebook_generator/blocks/_shared/05_t_preprocess_B.ipynb",
        "source_hash": "86eed5a13a0394fc07da61d367bbe6910a4f5ba9",
        "tags": [
          "template"
        ]
      },
      "source": [
        "### identify the samples with 0 or very low Fla counts"
      ]
    },
    {
      "cell_type": "code",
      "execution_count": null,
      "metadata": {
        "block_path": "notebooks/differential_analysis/notebook_generator/blocks/_shared/05_t_preprocess_B.ipynb",
        "source_hash": "87c6c433b861d1f1b432b5b17ad783def179b880",
        "tags": [
          "template"
        ],
        "vscode": {
          "languageId": "r"
        }
      },
      "outputs": [],
      "source": [
        "flapro_stats = lapply(AVAILABLE_OMICS, function(x) {\n",
        "    y = flapro[[x]]\n",
        "    res = y %>% \n",
        "\t    mutate(counts_per_sample = as.double(sum(Abundance)), .by = \"Sample\") %>%     \n",
        "        select(Sample, counts_per_sample) %>% distinct() %>% arrange(desc(counts_per_sample))\n",
        "\n",
        "    # histogram\n",
        "    p.dims(20,3)\n",
        "    plot(res %>% ggplot(aes(counts_per_sample)) + geom_histogram(bins = 150) + \n",
        "        ylab(\"Number of samples\") +\n",
        "        xlab(\"Number of reads per sample\") +\n",
        "        ggtitle(x) +\n",
        "        theme_minimal())\n",
        "    res\n",
        "}) %>% setNames(AVAILABLE_OMICS)"
      ]
    },
    {
      "cell_type": "code",
      "execution_count": null,
      "metadata": {
        "block_path": "notebooks/differential_analysis/notebook_generator/blocks/_shared/05_t_preprocess_B.ipynb",
        "source_hash": "521e554e1091aa4a68734af19da97564cf46a8bd",
        "tags": [
          "template"
        ],
        "vscode": {
          "languageId": "r"
        }
      },
      "outputs": [],
      "source": [
        "flapro_stats = lapply(flapro_stats, function(x) {\n",
        "    x %>% inner_join(meta_samples, by = \"Sample\")\n",
        "})"
      ]
    },
    {
      "cell_type": "code",
      "execution_count": null,
      "metadata": {
        "block_path": "notebooks/differential_analysis/notebook_generator/blocks/_shared/05_t_preprocess_B.ipynb",
        "source_hash": "6fe3d1686aac17687e08d1ef8599148f5816c64e",
        "tags": [
          "template"
        ],
        "vscode": {
          "languageId": "r"
        }
      },
      "outputs": [],
      "source": [
        "flapro = lapply(flapro, function(x) {\n",
        "\tres = x %>% \n",
        "\t\tgroup_by(Sample) %>% \n",
        "\t\tmutate(counts_per_sample = as.double(sum(Abundance))) %>% \n",
        "\t\t# for component-based branch, do NOT drop the samples with 0 or very low Fla counts (that would affect case-control!)\n",
        "\t\t###filter(counts_per_sample >= MIN_FLA_READS_PER_SAMPLE) %>% \n",
        "\t\tungroup() %>% \n",
        "\t\tarrange(desc(counts_per_sample)) %>% \n",
        "\t\trename(feature = \"FlaCluster\", value = \"Abundance\")\n",
        "\tprint(x %>% unique_n('samples', Sample))\n",
        "\tres\n",
        "})\n",
        "flapro"
      ]
    },
    {
      "cell_type": "code",
      "execution_count": null,
      "metadata": {
        "block_path": "notebooks/differential_analysis/notebook_generator/blocks/_shared/05_t_preprocess_B.ipynb",
        "source_hash": "d087e813a714be4332a2824edb6e2dba9de66ae9",
        "tags": [
          "template"
        ],
        "vscode": {
          "languageId": "r"
        }
      },
      "outputs": [],
      "source": [
        "lapply(flapro_stats, function(x) {\t\n",
        "    x %>% select(Sample) %>% distinct() %>% nrow()\n",
        "})"
      ]
    },
    {
      "cell_type": "code",
      "execution_count": null,
      "metadata": {
        "block_path": "notebooks/differential_analysis/notebook_generator/blocks/_shared/05_t_preprocess_B.ipynb",
        "source_hash": "b481cfd2ea84c74c8bdaa8edf5d5e17d4352bf9e",
        "tags": [
          "template"
        ],
        "vscode": {
          "languageId": "r"
        }
      },
      "outputs": [],
      "source": [
        "# save the list of samples with 0 or very low Fla counts\n",
        "samples_with_low_fla = lapply(flapro_stats, function(x) {\t\n",
        "\tx %>% filter(counts_per_sample < MIN_FLA_READS_PER_SAMPLE) %>% select(Sample)\n",
        "})\n",
        "samples_with_low_fla"
      ]
    },
    {
      "cell_type": "code",
      "execution_count": null,
      "metadata": {
        "block_path": "notebooks/differential_analysis/notebook_generator/blocks/_shared/05_t_preprocess_B.ipynb",
        "source_hash": "b40714b998bb3c647456c8ddead3b96fff86d718",
        "tags": [
          "template"
        ],
        "vscode": {
          "languageId": "r"
        }
      },
      "outputs": [],
      "source": [
        "# 1: percentage of Fla calculated to the total Fla reads (a helper for NB branch)\n",
        "flapro_perc = lapply(flapro, function(x) {\n",
        "    x %>% \n",
        "        group_by(Sample) %>%     \n",
        "        # for null-flagellome samples, assign 0 to Abundance_perc\n",
        "        mutate(value = ifelse(value == 0, 0, 100.0*value/counts_per_sample)) %>%         \n",
        "        select(-counts_per_sample) %>% \n",
        "        ungroup()        \n",
        "})\n",
        "flapro_perc"
      ]
    },
    {
      "cell_type": "code",
      "execution_count": null,
      "metadata": {
        "block_path": "notebooks/differential_analysis/notebook_generator/blocks/_shared/05_t_preprocess_B.ipynb",
        "source_hash": "7c333fcfed1baee15612a22730f0c63a4d47f87c",
        "tags": [
          "template"
        ],
        "vscode": {
          "languageId": "r"
        }
      },
      "outputs": [],
      "source": [
        "# 2: relative abundance of Fla calculated relative to the metagenome coverage, not total Fla reads (used in component-based branch)\n",
        "# Its sum per sample - not 100%!\n",
        "flapro_rel = lapply(AVAILABLE_OMICS, function(x) {\n",
        "    y = flapro[[x]]\n",
        "    y %>% \n",
        "        inner_join(sample_coverage[[x]], by = \"Sample\") %>% \n",
        "        mutate(value = 1e8 * value/Reads1) %>% \n",
        "        arrange(feature, desc(value)) %>% \n",
        "        select(-counts_per_sample, -Reads1)\n",
        "        \n",
        "}) %>% setNames(AVAILABLE_OMICS)\n",
        "flapro_rel"
      ]
    },
    {
      "cell_type": "code",
      "execution_count": null,
      "id": "8c6d2b9b",
      "metadata": {
        "block_path": "notebooks/differential_analysis/notebook_generator/blocks/_shared/05_t_preprocess_B.ipynb",
        "source_hash": "015f9280b7b1938bfaefa8f6cbdd1811252fdb4e",
        "tags": [
          "template"
        ],
        "vscode": {
          "languageId": "r"
        }
      },
      "outputs": [],
      "source": [
        "flapro = lapply(flapro, function(x) {\n",
        "    x %>% select(-counts_per_sample) %>% ungroup()\n",
        "})\n",
        "#flapro"
      ]
    },
    {
      "cell_type": "markdown",
      "id": "d62450d6",
      "metadata": {
        "block_path": "notebooks/differential_analysis/notebook_generator/blocks/_shared/05_t_preprocess_B.ipynb",
        "source_hash": "582832314cbd6c96cd76795622b93444371cd607",
        "tags": [
          "template"
        ]
      },
      "source": [
        "#### heatmap of the major Fla (as per flapro_rel)"
      ]
    },
    {
      "cell_type": "code",
      "execution_count": null,
      "id": "11bb40fe",
      "metadata": {
        "block_path": "notebooks/differential_analysis/notebook_generator/blocks/_shared/05_t_preprocess_B.ipynb",
        "source_hash": "fbb678c4845c0a61979bd10c804fd5466c2576e8",
        "tags": [
          "template"
        ],
        "vscode": {
          "languageId": "r"
        }
      },
      "outputs": [],
      "source": [
        "flapro_rel_no_zeros_mat = lapply(AVAILABLE_OMICS, function(x) {\n",
        "    flapro_rel[[x]] %>% inner_join(meta_fla_no_zeros[[x]] %>% select(FlaCluster), by = c(\"feature\" = \"FlaCluster\")) %>% \n",
        "        pivot_wider(names_from = Sample, values_from = value) %>% \n",
        "        column_to_rownames(\"feature\") %>% \n",
        "        as.matrix()\n",
        "}) %>% setNames(AVAILABLE_OMICS)\n",
        "flapro_rel_no_zeros_mat"
      ]
    },
    {
      "cell_type": "code",
      "execution_count": null,
      "id": "5eb39f0c",
      "metadata": {
        "block_path": "notebooks/differential_analysis/notebook_generator/blocks/_shared/05_t_preprocess_B.ipynb",
        "source_hash": "b5d9e5fb6dbd9b35bad0cd8052a98e411afc9242",
        "tags": [
          "template"
        ],
        "vscode": {
          "languageId": "r"
        }
      },
      "outputs": [],
      "source": [
        "for(x in AVAILABLE_OMICS) {\n",
        "    y = flapro_rel_no_zeros_mat[[x]]   \n",
        "    p.dims(9, 5)\n",
        "    pheatmap(t(y),\n",
        "        #cluster_rows = FALSE, cluster_cols = FALSE, \n",
        "        cluster_rows = TRUE, cluster_cols = TRUE, \n",
        "        show_rownames = TRUE, show_colnames = TRUE, fontsize = 8, \n",
        "        fontsize_number = 10, fontsize_row = 7, fontsize_col = 7, number_color = \"black\",        \n",
        "        #angle_col = 45,\n",
        "        # margin around the heatmap 20\n",
        "        margins = c(20, 20),        \n",
        "        #color = colorRampPalette(c(\"blue\", \"white\", \"#ff9090\", \"red\"))(4),\n",
        "    #   legend = FALSE,\n",
        "    #   annotation_row = feature_subclasses,  # Add column annotation\n",
        "    #   annotation_names_row = FALSE,        \n",
        "    #   annotation_colors = ann_colors,  # Assign colors to subclasses\n",
        "        border_color = \"white\", \n",
        "        main = x\n",
        "    )\n",
        "}"
      ]
    },
    {
      "cell_type": "markdown",
      "id": "09d2fd85",
      "metadata": {
        "block_path": "notebooks/differential_analysis/notebook_generator/blocks/_shared/05_t_preprocess_B.ipynb",
        "source_hash": "dbda1ec29d5cd920cef9984cf096f5b30ac4723a",
        "tags": [
          "template"
        ]
      },
      "source": [
        "#### save intermediate results to files"
      ]
    },
    {
      "cell_type": "code",
      "execution_count": null,
      "id": "f993254c",
      "metadata": {
        "block_path": "notebooks/differential_analysis/notebook_generator/blocks/_shared/05_t_preprocess_B.ipynb",
        "source_hash": "4270a8e46838b10a3838e4cc3b6b602b5fb468b2",
        "tags": [
          "template"
        ],
        "vscode": {
          "languageId": "r"
        }
      },
      "outputs": [],
      "source": [
        "for(x in AVAILABLE_OMICS) {\n",
        "    flapro_rel_no_zeros_dump = \n",
        "        meta_fla_no_zeros[[x]] %>% inner_join(flapro_rel[[x]] %>%\n",
        "            arrange(Sample) %>% \n",
        "            pivot_wider(names_from = Sample, values_from = value), by = c(\"FlaCluster\" = \"feature\"))\n",
        "    flapro_rel_no_zeros_dump\n",
        "\n",
        "    flapro_no_zeros_dump = \n",
        "        meta_fla_no_zeros[[x]] %>% inner_join(flapro[[x]] %>%\n",
        "            arrange(Sample) %>% \n",
        "            pivot_wider(names_from = Sample, values_from = value), by = c(\"FlaCluster\" = \"feature\"))\n",
        "    flapro_no_zeros_dump\n",
        "\n",
        "    # save \n",
        "    write_tsv(flapro_rel_no_zeros_dump, file.path(PROJ_OUTPUT_DIR, paste0(\"flapro_rel_no_zeros_\", x, \".tsv\")))\n",
        "    write_tsv(flapro_no_zeros_dump, file.path(PROJ_OUTPUT_DIR, paste0(\"flapro_counts_no_zeros_\", x, \".tsv\")))\n",
        "}"
      ]
    },
    {
      "cell_type": "markdown",
      "metadata": {
        "block_path": "notebooks/differential_analysis/notebook_generator/blocks/_shared/05_t_preprocess_B.ipynb",
        "source_hash": "288124ef3416da832db0e5248db87b5a8203024d",
        "tags": [
          "template"
        ]
      },
      "source": [
        "### flapro_rel: derive the MTX/MGX ratio and add it to this list"
      ]
    },
    {
      "cell_type": "code",
      "execution_count": null,
      "metadata": {
        "block_path": "notebooks/differential_analysis/notebook_generator/blocks/_shared/05_t_preprocess_B.ipynb",
        "source_hash": "4474360d1d5b254397fb8b55f78d596b66bedfa8",
        "tags": [
          "template"
        ],
        "vscode": {
          "languageId": "r"
        }
      },
      "outputs": [],
      "source": [
        "if(DO_MTX_MGX_ratio) {   \n",
        "    flapro_rel[[\"MTX_MGX_ratio\"]] = flapro_rel[[\"MGX\"]] %>% rename(Abundance_rel_MGX = value) %>% \n",
        "        inner_join(flapro_rel[[\"MTX\"]] %>% rename(Abundance_rel_MTX = value), by = c(\"Sample\", \"feature\")) %>% \n",
        "        # below are filtering steps that have a large effect:    \n",
        "        # 1: remove the features encoded in a few taxa\n",
        "\n",
        "        filter(Abundance_rel_MGX > 0) %>% \n",
        "\n",
        "        ## (don't need this, as the step 1 will do) 2: remove the features with very low MGX or MTX levels\n",
        "        #filter(Abundance_rel_MTX + Abundance_rel_MGX > 1e-10) %>% \n",
        "        mutate(Abundance_rel = Abundance_rel_MTX/Abundance_rel_MGX) %>% \n",
        "        select(Sample, feature, Abundance_rel) %>% \n",
        "        rename(value = \"Abundance_rel\")     \n",
        "    \n",
        "    # make the table full - for correct calculation of feature prevalence\n",
        "    flapro_rel[[\"MTX_MGX_ratio\"]] = flapro_rel[[\"MTX_MGX_ratio\"]] %>% \n",
        "        pivot_wider(names_from = \"feature\", values_from = \"value\", values_fill = 0) %>%\n",
        "        pivot_longer(cols = -Sample, names_to = \"feature\", values_to = \"value\") \n",
        "\n",
        "    print(flapro_rel[[\"MTX_MGX_ratio\"]])\n",
        "}"
      ]
    },
    {
      "cell_type": "markdown",
      "id": "99ba31fe",
      "metadata": {
        "block_path": "notebooks/differential_analysis/notebook_generator/blocks/_shared/05_t_preprocess_B.ipynb",
        "source_hash": "155dfcc147ea9bc3ad70a38a775f5dc63f4fd91d"
      },
      "source": [
        "### Fla alpha diversity"
      ]
    },
    {
      "cell_type": "code",
      "execution_count": null,
      "id": "17684f3e",
      "metadata": {
        "block_path": "notebooks/differential_analysis/notebook_generator/blocks/_shared/05_t_preprocess_B.ipynb",
        "source_hash": "69c718916686afcb4a3436468dc02528bdb26d3f",
        "vscode": {
          "languageId": "r"
        }
      },
      "outputs": [],
      "source": [
        "if(SCENARIO_COMPON != \"MTX_MGX_ratio\") {\n",
        "    # split flapro by Cluster_Pred\n",
        "    list_flapro_by_Cluster_Pred = flapro[[SCENARIO_COMPON]] %>%\n",
        "        inner_join(meta_fla_clus, by = c(\"feature\" = \"FlaCluster\")) %>%         \n",
        "        group_split(Cluster_Pred)\n",
        "    names(list_flapro_by_Cluster_Pred) = lapply(list_flapro_by_Cluster_Pred, function(x) {\n",
        "        x %>% select(Cluster_Pred) %>% distinct() %>% pull()\n",
        "    })\n",
        "    list_flapro_by_Cluster_Pred = lapply(list_flapro_by_Cluster_Pred, function(x) { \n",
        "        x %>% select(Sample, value, feature)\n",
        "    })\n",
        "    #list_flapro_by_Cluster_Pred\n",
        "\n",
        "    # add flapro_alpha to the list under the name \"all\"\n",
        "    list_flapro_by_Cluster_Pred_and_all = c(list_flapro_by_Cluster_Pred, list(\"all\" = flapro[[SCENARIO_COMPON]]))\n",
        "    #list_flapro_by_Cluster_Pred_and_all\n",
        "}"
      ]
    },
    {
      "cell_type": "code",
      "execution_count": null,
      "id": "fc78149d",
      "metadata": {
        "block_path": "notebooks/differential_analysis/notebook_generator/blocks/_shared/05_t_preprocess_B.ipynb",
        "source_hash": "f0a5aaf24dd3578887b654a59a952bfe3bdc4be2",
        "vscode": {
          "languageId": "r"
        }
      },
      "outputs": [],
      "source": [
        "if(SCENARIO_COMPON != \"MTX_MGX_ratio\") {\n",
        "    list_flapro_alpha = lapply(names(list_flapro_by_Cluster_Pred_and_all), function(x) {\n",
        "        y = list_flapro_by_Cluster_Pred_and_all[[x]]\n",
        "\n",
        "        for_psq_otu_table = y %>% \n",
        "            pivot_wider(names_from = Sample, values_from = value) %>%\n",
        "            column_to_rownames(\"feature\") %>% \n",
        "            as.matrix() %>% \n",
        "            phyloseq::otu_table(taxa_are_rows = TRUE)\n",
        "        #for_psq_otu_table\n",
        "\n",
        "        for_psq_tax_table = meta_fla_clus %>% \n",
        "            column_to_rownames(\"FlaCluster\") %>% \n",
        "            as.matrix() %>% \n",
        "            phyloseq::tax_table()\n",
        "        #for_psq_tax_table\n",
        "\n",
        "        for_psq_sample_table = meta_samples %>% \n",
        "            column_to_rownames(\"Sample\") %>% \n",
        "            phyloseq::sample_data()\n",
        "        #for_psq_sample_table\n",
        "\n",
        "        # create phyloseq object\n",
        "        psq = phyloseq::phyloseq(for_psq_otu_table, for_psq_tax_table, for_psq_sample_table)\n",
        "        #psq\n",
        "\n",
        "        # compute the Fla alpha diversity\n",
        "        flapro_alpha = phyloseq::estimate_richness(psq, split = TRUE, measures = c(\"Observed\", \"Chao1\", \"Shannon\")) %>% \n",
        "            rownames_to_column(\"Sample\") %>% \n",
        "            select(-se.chao1) %>% \n",
        "            pivot_longer(cols = -Sample, names_to = \"feature\", values_to = \"value\")\n",
        "        #print(flapro_alpha)\n",
        "\n",
        "        ## save to file\n",
        "        #write_tsv(flapro_alpha %>% pivot_wider(names_from = feature, values_from = value), file.path(PROJ_OUTPUT_DIR, paste0(\"flapro_alpha_\", SCENARIO_COMPON, \".tsv\")))\n",
        "\n",
        "        flapro_alpha\n",
        "    }) %>% setNames(names(list_flapro_by_Cluster_Pred_and_all))\n",
        "}"
      ]
    },
    {
      "cell_type": "code",
      "execution_count": null,
      "id": "4347aeb4",
      "metadata": {
        "block_path": "notebooks/differential_analysis/notebook_generator/blocks/_shared/05_t_preprocess_B.ipynb",
        "source_hash": "344684b9a3c8287affd956668bb40f55802875b6",
        "vscode": {
          "languageId": "r"
        }
      },
      "outputs": [],
      "source": [
        "if(SCENARIO_COMPON != \"MTX_MGX_ratio\") {\n",
        "    list_flapro_alpha = lapply(names(list_flapro_by_Cluster_Pred_and_all), function(x) {\n",
        "        y = list_flapro_alpha[[x]]\n",
        "        y %>% mutate(feature = paste0(feature, \"_F_\", x)) \n",
        "    }) %>% setNames(names(list_flapro_by_Cluster_Pred_and_all))\n",
        "    #list_flapro_alpha\n",
        "    # rbind the list into one tibble\n",
        "    flapro_alpha = bind_rows(list_flapro_alpha)\n",
        "    print(flapro_alpha)\n",
        "}"
      ]
    },
    {
      "cell_type": "code",
      "execution_count": null,
      "id": "43a43d01",
      "metadata": {
        "block_path": "notebooks/differential_analysis/notebook_generator/blocks/_shared/05_t_preprocess_B.ipynb",
        "source_hash": "c40bccc2d2a75eae74f59a6825467a3c9652d761",
        "vscode": {
          "languageId": "r"
        }
      },
      "outputs": [],
      "source": [
        "if(SCENARIO_COMPON != \"MTX_MGX_ratio\") {\n",
        "    #  TODO thuink of what to save and under which name\n",
        "    ## save to file\n",
        "    ##write_tsv(flapro_alpha %>% pivot_wider(names_from = feature, values_from = value), file.path(PROJ_OUTPUT_DIR, paste0(\"flapro_alpha_\", SCENARIO_COMPON, \".tsv\")))\n",
        "}"
      ]
    },
    {
      "cell_type": "markdown",
      "id": "62953d93",
      "metadata": {
        "block_path": "notebooks/differential_analysis/notebook_generator/blocks/_shared/05_t_preprocess_B.ipynb",
        "source_hash": "062cb9799bc119bde933813a5db01d972fa1be39"
      },
      "source": [
        "### next thing"
      ]
    },
    {
      "cell_type": "code",
      "execution_count": null,
      "id": "b5fa9719",
      "metadata": {
        "block_path": "notebooks/differential_analysis/notebook_generator/blocks/_shared/05_t_preprocess_B.ipynb",
        "source_hash": "7246b4b90b5b636e7599d47937e3c5d5755d18c6",
        "vscode": {
          "languageId": "r"
        }
      },
      "outputs": [],
      "source": [
        "# for flapro and flapro_perc, but not for flapro_rel - filter out the samples with low total Fla\n",
        "flapro = lapply(AVAILABLE_OMICS, function(x) {\n",
        "    y = flapro[[x]]\n",
        "    res = y %>% filter(!(Sample %in% samples_with_low_fla[[x]]$Sample))\n",
        "    print(res %>% select(Sample) %>% distinct() %>% nrow())\n",
        "    res\n",
        "}) %>% setNames(AVAILABLE_OMICS)\n",
        "\n",
        "flapro_perc = lapply(AVAILABLE_OMICS, function(x) {\n",
        "    y = flapro_perc[[x]]\n",
        "    y %>% filter(!(Sample %in% samples_with_low_fla[[x]]$Sample))\n",
        "}) %>% setNames(AVAILABLE_OMICS)"
      ]
    },
    {
      "cell_type": "markdown",
      "metadata": {
        "block_path": "notebooks/differential_analysis/notebook_generator/blocks/_shared/05_t_preprocess_B.ipynb",
        "source_hash": "001c53d20c9ed805e7d255aa4340f704c29a887d",
        "tags": [
          "template"
        ]
      },
      "source": [
        "### prevalence filtering (flapro & flapro_perc - one way, flapro_rel -> flapro_rel_MAJ - another!)"
      ]
    },
    {
      "cell_type": "markdown",
      "metadata": {
        "block_path": "notebooks/differential_analysis/notebook_generator/blocks/_shared/05_t_preprocess_B.ipynb",
        "source_hash": "330b004beabf3af4442baf03a9fb25f6231cd3a1",
        "tags": [
          "template"
        ]
      },
      "source": [
        "#### - flapro & flapro_perc"
      ]
    },
    {
      "cell_type": "code",
      "execution_count": null,
      "metadata": {
        "block_path": "notebooks/differential_analysis/notebook_generator/blocks/_shared/05_t_preprocess_B.ipynb",
        "source_hash": "3ee032924429bb20653c0c05255a015a09aee546",
        "tags": [
          "template"
        ],
        "vscode": {
          "languageId": "r"
        }
      },
      "outputs": [],
      "source": [
        "# check the long tables are full (includes the same numbers of zeros as if it were wide) before computing the prevalence\n",
        "lapply(flapro_perc, check_full, arg_feature_col = \"feature\")"
      ]
    },
    {
      "cell_type": "code",
      "execution_count": null,
      "metadata": {
        "block_path": "notebooks/differential_analysis/notebook_generator/blocks/_shared/05_t_preprocess_B.ipynb",
        "source_hash": "18e4231114da47f7ffadd4cf19eed4f60a295771",
        "tags": [
          "template"
        ],
        "vscode": {
          "languageId": "r"
        }
      },
      "outputs": [],
      "source": [
        "flapro_perc_w_prev = lapply(flapro_perc, function(x) {\n",
        "\tx %>%\n",
        "\t\tmutate(prev = sum(value > ABUND_CUTOFF_PERC) / length(value) * 100, \n",
        "\t\t\t\t.by=c(feature)) %>% \n",
        "\t\tselect(-value, -Sample) %>%\n",
        "\t\tdistinct() %>% \n",
        "\t\tarrange(desc(prev))\n",
        "})\n",
        "flapro_perc_w_prev"
      ]
    },
    {
      "cell_type": "code",
      "execution_count": null,
      "metadata": {
        "block_path": "notebooks/differential_analysis/notebook_generator/blocks/_shared/05_t_preprocess_B.ipynb",
        "source_hash": "99398b511fd56c9fadcedee9521902a72a3acd8f",
        "tags": [
          "template"
        ],
        "vscode": {
          "languageId": "r"
        }
      },
      "outputs": [],
      "source": [
        "# plot a barplot of the flagellins prevalence arranged by the prevalence desc\n",
        "#p.dims(15, 10)\n",
        "p.dims(5, 8)\n",
        "tt = flapro_perc_w_prev[[SCENARIO_NB]] %>% filter(prev > PREVALENCE_CUTOFF)\n",
        "tt %>% \n",
        "    #ggplot(aes(x = reorder(FlaCluster, prev), y = prev, fill = FlaCluster)) + #Family)) + \n",
        "    \n",
        "    inner_join(meta_fla_clus, by = c(\"feature\" = \"FlaCluster\")) %>% \n",
        "        ggplot(aes(x = reorder(feature, prev), y = prev, fill = Cluster_Pred)) +     \n",
        "\n",
        "        geom_bar(stat = \"identity\") + #, color = \"black\", size = 0.1) + \n",
        "        #scale_fill_igv() +\n",
        "        scale_fill_manual(values = FLA_CLASSES_COLORS) +    \n",
        "\n",
        "        # ! The below commented line does NOT work properly    \n",
        "        ## label y axis by Family    \n",
        "        #scale_x_discrete(labels = tt$Family) +     \n",
        "\n",
        "        theme_bw() + theme(axis.text.x = element_text(angle = 90, hjust = 1)) +\n",
        "        coord_flip() +\n",
        "        labs(x = \"Flagellin cluster\", y = \"Prevalence (%)\") +\n",
        "        # smaller axis text\n",
        "        theme(axis.text.x = element_text(size = 6), axis.text.y = element_text(size = 6)) +\n",
        "        # legend - top\n",
        "        theme(legend.position = \"top\") +\n",
        "        # smaller legend\n",
        "        theme(legend.text = element_text(size = 7), legend.title = element_text(size = 7)) +\n",
        "        theme(legend.key.size = unit(0.5, \"cm\")) + \n",
        "        ggtitle(paste0(\"flapro_perc: \", SCENARIO_NB))\n",
        "\n",
        "    #flapro_perc_w_prev %>% ggplot(aes(prev)) + geom_histogram(bins = 150) + theme_minimal()"
      ]
    },
    {
      "cell_type": "code",
      "execution_count": null,
      "metadata": {
        "block_path": "notebooks/differential_analysis/notebook_generator/blocks/_shared/05_t_preprocess_B.ipynb",
        "source_hash": "d92a41cdc67e072d0c5dbdedd8e89dd6815730ed",
        "tags": [
          "template"
        ],
        "vscode": {
          "languageId": "r"
        }
      },
      "outputs": [],
      "source": [
        "# FLAPRO_PERC: filtering low prevalence\n",
        "flapro_perc = lapply(flapro_perc, function(x) {  \n",
        "    print(x %>% unique_n('features before filtering', feature))\n",
        "    res = x %>% \n",
        "        mutate(prev = sum(value > ABUND_CUTOFF_PERC) / length(value) * 100, \n",
        "                .by=c(feature)) %>%\n",
        "        filter(prev > PREVALENCE_CUTOFF) %>%\n",
        "        select(-prev)\n",
        "    print(res %>% unique_n('features after filtering', feature))\n",
        "    res\n",
        "})"
      ]
    },
    {
      "cell_type": "code",
      "execution_count": null,
      "metadata": {
        "block_path": "notebooks/differential_analysis/notebook_generator/blocks/_shared/05_t_preprocess_B.ipynb",
        "source_hash": "83ef767e943a60cfa91db78d858c05b543257380",
        "tags": [
          "template"
        ],
        "vscode": {
          "languageId": "r"
        }
      },
      "outputs": [],
      "source": [
        "# filter FLAPRO the same way as FLAPRO_PERC\n",
        "flapro = lapply(AVAILABLE_OMICS, function(x) {  \t\n",
        "\tflapro[[x]] %>% semi_join(flapro_perc[[x]], by = \"feature\")\n",
        "}) %>% setNames(AVAILABLE_OMICS)"
      ]
    },
    {
      "cell_type": "markdown",
      "metadata": {
        "block_path": "notebooks/differential_analysis/notebook_generator/blocks/_shared/05_t_preprocess_B.ipynb",
        "source_hash": "9a19e4138335de91def21116f7141959f1bb888a",
        "tags": [
          "template"
        ]
      },
      "source": [
        "#### extra round of filtering: drop zero samples that might have appeared after the prevalence filtering"
      ]
    },
    {
      "cell_type": "code",
      "execution_count": null,
      "metadata": {
        "block_path": "notebooks/differential_analysis/notebook_generator/blocks/_shared/05_t_preprocess_B.ipynb",
        "source_hash": "d2d233f1d152d867145ffbae8665f2b112600d23",
        "tags": [
          "template"
        ],
        "vscode": {
          "languageId": "r"
        }
      },
      "outputs": [],
      "source": [
        "flapro_stats2 = lapply(AVAILABLE_OMICS, function(x) {\n",
        "    flapro[[x]] %>% \n",
        "\t    mutate(counts_per_sample = as.double(sum(value)), .by = \"Sample\") %>%     \n",
        "        select(Sample, counts_per_sample) %>% distinct() %>% arrange(desc(counts_per_sample))\n",
        "}) %>% setNames(AVAILABLE_OMICS)"
      ]
    },
    {
      "cell_type": "code",
      "execution_count": null,
      "metadata": {
        "block_path": "notebooks/differential_analysis/notebook_generator/blocks/_shared/05_t_preprocess_B.ipynb",
        "source_hash": "e1282e2b142ca66cba3ab0db64a50fee66a023f4",
        "tags": [
          "template"
        ],
        "vscode": {
          "languageId": "r"
        }
      },
      "outputs": [],
      "source": [
        "samples_with_0_fla2 = lapply(flapro_stats2, function(x) {\t\n",
        "\tx %>% filter(counts_per_sample < MIN_FLA_READS_PER_SAMPLE_ROUND_2) %>% select(Sample)\n",
        "})\n",
        "samples_with_0_fla2"
      ]
    },
    {
      "cell_type": "code",
      "execution_count": null,
      "metadata": {
        "block_path": "notebooks/differential_analysis/notebook_generator/blocks/_shared/05_t_preprocess_B.ipynb",
        "source_hash": "026dee1dd114c0f11c874655a0f28dbcdc384f4c",
        "tags": [
          "template"
        ],
        "vscode": {
          "languageId": "r"
        }
      },
      "outputs": [],
      "source": [
        "# flapro and flapro_perc: round 2 filter out the samples with low total Fla\n",
        "flapro = lapply(AVAILABLE_OMICS, function(x) {\n",
        "    flapro[[x]] %>% filter(!(Sample %in% samples_with_0_fla2[[x]]$Sample))    \n",
        "}) %>% setNames(AVAILABLE_OMICS)\n",
        "\n",
        "flapro_perc = lapply(AVAILABLE_OMICS, function(x) {\n",
        "    flapro_perc[[x]] %>% filter(!(Sample %in% samples_with_0_fla2[[x]]$Sample))\n",
        "}) %>% setNames(AVAILABLE_OMICS)"
      ]
    },
    {
      "cell_type": "markdown",
      "metadata": {
        "block_path": "notebooks/differential_analysis/notebook_generator/blocks/_shared/05_t_preprocess_B.ipynb",
        "source_hash": "90bf55613f423aac9e46c20328a24ab6aa540c21",
        "tags": [
          "template"
        ]
      },
      "source": [
        "#### - flapro_rel ---> flapro_rel_maj"
      ]
    },
    {
      "cell_type": "code",
      "execution_count": null,
      "metadata": {
        "block_path": "notebooks/differential_analysis/notebook_generator/blocks/_shared/05_t_preprocess_B.ipynb",
        "source_hash": "a2980ff98d6a844e2754d803a40b282850b569fc",
        "tags": [
          "template"
        ],
        "vscode": {
          "languageId": "r"
        }
      },
      "outputs": [],
      "source": [
        "flapro_rel[[SCENARIO_COMPON]] %>% select(feature) %>% distinct() %>% nrow()"
      ]
    },
    {
      "cell_type": "code",
      "execution_count": null,
      "metadata": {
        "block_path": "notebooks/differential_analysis/notebook_generator/blocks/_shared/05_t_preprocess_B.ipynb",
        "source_hash": "03ffa057bddd766ea29d8b7c3b0a5c2aa37175ef",
        "tags": [
          "template"
        ],
        "vscode": {
          "languageId": "r"
        }
      },
      "outputs": [],
      "source": [
        "flapro_rel_w_prev = \n",
        "\tflapro_rel[[SCENARIO_COMPON]] %>%\t\t\n",
        "\t\tmutate(prev = sum(value > REL_AB_ABUND_CUTOFF) / length(value) * 100, \t\t\n",
        "\t\t\t\t.by=c(feature)) %>% \n",
        "\t\tselect(-value, -Sample) %>%\n",
        "\t\tdistinct() %>% \n",
        "\t\tarrange(desc(prev))\n",
        "flapro_rel_w_prev"
      ]
    },
    {
      "cell_type": "code",
      "execution_count": null,
      "metadata": {
        "block_path": "notebooks/differential_analysis/notebook_generator/blocks/_shared/05_t_preprocess_B.ipynb",
        "source_hash": "d4a8b2535e4848221d72b055269726be513fc0d4",
        "tags": [
          "template"
        ],
        "vscode": {
          "languageId": "r"
        }
      },
      "outputs": [],
      "source": [
        "# plot hist of flapro_rel_w_prev\n",
        "p.dims(8, 2)\n",
        "flapro_rel_w_prev %>% \n",
        "    ggplot(aes(prev)) + geom_histogram(bins = 150) + theme_minimal() +\n",
        "    xlab(\"Prevalence (%)\") +\n",
        "    ylab(\"Number of features\") +\n",
        "    ggtitle(SCENARIO_COMPON) +\n",
        "    # smaller axis text\n",
        "    theme(axis.text.x = element_text(size = 6), axis.text.y = element_text(size = 6)) +\n",
        "    # legend - top\n",
        "    theme(legend.position = \"top\") +\n",
        "    # smaller legend\n",
        "    theme(legend.text = element_text(size = 7), legend.title = element_text(size = 7)) +\n",
        "    theme(legend.key.size = unit(0.5, \"cm\")) + \n",
        "    scale_x_continuous(limits=c(0,100)) +\n",
        "    scale_y_continuous(limits=c(0,50))"
      ]
    },
    {
      "cell_type": "code",
      "execution_count": null,
      "metadata": {
        "block_path": "notebooks/differential_analysis/notebook_generator/blocks/_shared/05_t_preprocess_B.ipynb",
        "source_hash": "ac3cf5f64f9172aefcf4d358f532e7313a9c8c0e",
        "tags": [
          "template"
        ],
        "vscode": {
          "languageId": "r"
        }
      },
      "outputs": [],
      "source": [
        "# (OFF) for the ratio - additionally require high prevalence by MTX\n",
        "if(FALSE) {\n",
        "\tif(SCENARIO_COMPON == \"MTX_MGX_ratio\") {\n",
        "\t\tprev_by_mtx = flapro_rel[[\"MTX\"]] %>%\n",
        "\t\t\tmutate(prev_mtx = sum(value > REL_AB_ABUND_CUTOFF) / length(value) * 100, \n",
        "\t\t\t\t\t.by=c(feature)) %>% \n",
        "\t\t\tselect(-value, -Sample) %>%\n",
        "\t\t\tdistinct() %>% \n",
        "\n",
        "\t\t\tfilter(prev_mtx > REL_AB_PREVALENCE_CUTOFF) %>%\n",
        "\n",
        "\t\t\tarrange(desc(prev_mtx))\n",
        "\t\t\n",
        "\t\tprint(prev_by_mtx)\n",
        "\t\t\n",
        "\t\tflapro_rel_w_prev = flapro_rel_w_prev %>% semi_join(prev_by_mtx, by = \"feature\")\n",
        "\t}\n",
        "\n",
        "\tflapro_rel_w_prev\n",
        "}"
      ]
    },
    {
      "cell_type": "code",
      "execution_count": null,
      "metadata": {
        "block_path": "notebooks/differential_analysis/notebook_generator/blocks/_shared/05_t_preprocess_B.ipynb",
        "source_hash": "9ee03afac860988b4f85089eda37ad6834b6d817",
        "tags": [
          "template"
        ],
        "vscode": {
          "languageId": "r"
        }
      },
      "outputs": [],
      "source": [
        "p.dims(5, 8)\n",
        "tt = flapro_rel_w_prev %>% filter(prev > REL_AB_PREVALENCE_CUTOFF)\n",
        "tt %>% \n",
        "    inner_join(meta_fla_clus, by = c(\"feature\" = \"FlaCluster\")) %>% \n",
        "    ggplot(aes(x = reorder(feature, prev), y = prev, fill = Cluster_Pred)) +     \n",
        "\n",
        "    geom_bar(stat = \"identity\") + #, color = \"black\", size = 0.1) + \n",
        "    scale_fill_manual(values = FLA_CLASSES_COLORS) +    \n",
        "    theme_bw() + theme(axis.text.x = element_text(angle = 90, hjust = 1)) +\n",
        "    coord_flip() +\n",
        "    labs(x = \"Flagellin cluster\", y = \"Prevalence (%)\") +\n",
        "    # smaller axis text\n",
        "    theme(axis.text.x = element_text(size = 6), axis.text.y = element_text(size = 6)) +\n",
        "    # legend - top\n",
        "    theme(legend.position = \"top\") +\n",
        "    # smaller legend\n",
        "    theme(legend.text = element_text(size = 7), legend.title = element_text(size = 7)) +\n",
        "    theme(legend.key.size = unit(0.5, \"cm\")) + \n",
        "    ggtitle(paste0(\"flapro_rel: \", SCENARIO_COMPON))    "
      ]
    },
    {
      "cell_type": "code",
      "execution_count": null,
      "metadata": {
        "block_path": "notebooks/differential_analysis/notebook_generator/blocks/_shared/05_t_preprocess_B.ipynb",
        "source_hash": "dbb520f9553d6e51245756792e0508a4d7163ba3",
        "tags": [
          "template"
        ],
        "vscode": {
          "languageId": "r"
        }
      },
      "outputs": [],
      "source": [
        "# Filter flapro_rel using its own prevalence and abundance cutoffs, save the filtered as flapro_rel_maj\n",
        "flapro_rel_maj = \n",
        "    flapro_rel_w_prev %>%     \n",
        "    filter(prev > REL_AB_PREVALENCE_CUTOFF) %>%    \n",
        "    select(-prev)\n",
        "flapro_rel_maj %>% unique_n('features after filtering', feature)"
      ]
    },
    {
      "cell_type": "code",
      "execution_count": null,
      "metadata": {
        "block_path": "notebooks/differential_analysis/notebook_generator/blocks/_shared/05_t_preprocess_B.ipynb",
        "source_hash": "e35c5aafa33b3b02a2058e38f6d60cdb46c6c643",
        "tags": [
          "template"
        ],
        "vscode": {
          "languageId": "r"
        }
      },
      "outputs": [],
      "source": [
        "flapro_rel_maj = flapro_rel_maj %>% inner_join(flapro_rel[[SCENARIO_COMPON]], by = \"feature\")\n",
        "flapro_rel_maj"
      ]
    },
    {
      "cell_type": "code",
      "execution_count": null,
      "metadata": {
        "block_path": "notebooks/differential_analysis/notebook_generator/blocks/_shared/05_t_preprocess_B.ipynb",
        "source_hash": "7cf4b2c1f11e42f32ade4f2f85b3e5473b327516",
        "tags": [
          "template"
        ],
        "vscode": {
          "languageId": "r"
        }
      },
      "outputs": [],
      "source": [
        "flapro_rel_maj %>% inner_join(meta_fla_clus, by = c(\"feature\" = \"FlaCluster\")) %>% \n",
        "    select(feature, Cluster_Pred) %>% \n",
        "    distinct() %>% \n",
        "    select(Cluster_Pred) %>% \n",
        "    table()"
      ]
    },
    {
      "cell_type": "code",
      "execution_count": null,
      "metadata": {
        "block_path": "notebooks/differential_analysis/notebook_generator/blocks/_shared/05_t_preprocess_B.ipynb",
        "source_hash": "1ce1dc743981e1e5a0f05faa7a81e2df6134de94",
        "tags": [
          "template"
        ],
        "vscode": {
          "languageId": "r"
        }
      },
      "outputs": [],
      "source": [
        "# do log transformation of the fla profiles\n",
        "flapro_rel_maj_log = flapro_rel_maj %>% \n",
        "    mutate(value = log10(value + 1))\n",
        "flapro_rel_maj_log"
      ]
    },
    {
      "cell_type": "markdown",
      "metadata": {
        "block_path": "notebooks/differential_analysis/notebook_generator/blocks/_shared/05_t_preprocess_B.ipynb",
        "source_hash": "483e87e575670d318e9be3c53796a10ab07b98f4",
        "tags": [
          "template"
        ]
      },
      "source": [
        "### prep-s for NB: init countData, for the selected omic (in line with flapro and flapro_perc)"
      ]
    },
    {
      "cell_type": "code",
      "execution_count": null,
      "metadata": {
        "block_path": "notebooks/differential_analysis/notebook_generator/blocks/_shared/05_t_preprocess_B.ipynb",
        "source_hash": "a9c82a7de9df3e5283fbac386f4c23129490fd0c",
        "tags": [
          "template"
        ],
        "vscode": {
          "languageId": "r"
        }
      },
      "outputs": [],
      "source": [
        "# creating count table\n",
        "countData = \n",
        "    flapro[[SCENARIO_NB]] %>%\n",
        "    rename('sample' = Sample) %>%\n",
        "    select(sample, feature, value) %>%\n",
        "    # only leave the samples that are in the meta\n",
        "    semi_join(meta_samples, by = c(\"sample\" = \"Sample\")) %>%\n",
        "    pivot_wider(names_from = \"sample\", values_from = \"value\", values_fill=0) %>%\n",
        "    # convert countData to a data frame with name moved to rownames\n",
        "    column_to_rownames(\"feature\") %>%\n",
        "    as.data.frame\n",
        "\n",
        "# sort columns and rows alphabetically\n",
        "countData = countData[sort(rownames(countData)), sort(colnames(countData))]\n",
        "countData"
      ]
    },
    {
      "cell_type": "code",
      "execution_count": null,
      "metadata": {
        "block_path": "notebooks/differential_analysis/notebook_generator/blocks/_shared/05_t_preprocess_B.ipynb",
        "source_hash": "423c864c9ae555cd2710cde97ac7d6763810d85d",
        "tags": [
          "template"
        ],
        "vscode": {
          "languageId": "r"
        }
      },
      "outputs": [],
      "source": [
        "lapply(AVAILABLE_OMICS, function(x) {\n",
        "    y = flapro[[x]]\n",
        "    res = y %>% \n",
        "\t    mutate(counts_per_sample = as.double(sum(value)), .by = \"Sample\") %>%     \n",
        "        select(Sample, counts_per_sample) %>% distinct() %>% arrange(desc(counts_per_sample))\n",
        "    \n",
        "    res %>% filter(counts_per_sample == 0)\n",
        "}) %>% setNames(AVAILABLE_OMICS)"
      ]
    },
    {
      "cell_type": "code",
      "execution_count": null,
      "metadata": {
        "block_path": "notebooks/differential_analysis/notebook_generator/blocks/_shared/05_t_preprocess_B.ipynb",
        "source_hash": "c51e664932ede02c1bac674c6d50b94a4584013e",
        "tags": [
          "template"
        ],
        "vscode": {
          "languageId": "r"
        }
      },
      "outputs": [],
      "source": [
        "# version of meta data table for the Compositional analysis\n",
        "meta_samples_NB = meta_samples %>% semi_join(flapro[[SCENARIO_NB]], by = \"Sample\") %>% arrange(Sample)\n",
        "meta_samples_NB"
      ]
    },
    {
      "cell_type": "code",
      "execution_count": null,
      "metadata": {
        "block_path": "notebooks/differential_analysis/notebook_generator/blocks/_shared/05_t_preprocess_B.ipynb",
        "source_hash": "41d151b4f7d9ef084d5f5491a85adb35bd39eca9",
        "tags": [
          "template"
        ],
        "vscode": {
          "languageId": "r"
        }
      },
      "outputs": [],
      "source": [
        "test_that(\"flapro and meta fit\", {\n",
        "    expect_equal(colnames(countData), meta_samples_NB %>% select(Sample) %>% pull())    \n",
        "})"
      ]
    },
    {
      "cell_type": "markdown",
      "metadata": {
        "block_path": "notebooks/differential_analysis/notebook_generator/blocks/_shared/05_t_preprocess_B.ipynb",
        "source_hash": "fce4b7d9ddab1ff340bac975a098d6511da31dc7",
        "tags": [
          "template"
        ]
      },
      "source": [
        "# Analysis"
      ]
    },
    {
      "cell_type": "markdown",
      "id": "98ae35ca",
      "metadata": {
        "block_path": "notebooks/differential_analysis/notebook_generator/blocks/IBD/06_non_microbiome.ipynb",
        "source_hash": "1a35e55c01446b0edab9e06c68c42040897ee3c8",
        "vscode": {
          "languageId": "r"
        }
      },
      "source": [
        "## [ps] Non-microbiome basics"
      ]
    },
    {
      "cell_type": "code",
      "execution_count": null,
      "id": "6bf02c27",
      "metadata": {
        "block_path": "notebooks/differential_analysis/notebook_generator/blocks/IBD/06_non_microbiome.ipynb",
        "source_hash": "aa33150536f32ff5fa473f6e674f195ad16b560f",
        "vscode": {
          "languageId": "r"
        }
      },
      "outputs": [],
      "source": [
        "# NONE"
      ]
    },
    {
      "cell_type": "markdown",
      "id": "4bb83801",
      "metadata": {
        "block_path": "notebooks/differential_analysis/notebook_generator/blocks/_shared/07_t_component_based.ipynb",
        "source_hash": "357e4a8cb390edd9a6540aed0fccfc3498ad885a",
        "tags": [
          "template"
        ]
      },
      "source": [
        "## Component-wise (flapro_REL)\n",
        "over metagenome-coverage normalized relative abundance "
      ]
    },
    {
      "cell_type": "code",
      "execution_count": null,
      "id": "56a266d8",
      "metadata": {
        "block_path": "notebooks/differential_analysis/notebook_generator/blocks/_shared/07_t_component_based.ipynb",
        "source_hash": "696268ddf6806b1777ddc288cf1416584130e537",
        "tags": [
          "template"
        ],
        "vscode": {
          "languageId": "r"
        }
      },
      "outputs": [],
      "source": [
        "flapro_rel[[SCENARIO_COMPON]] %>% inner_join(meta_samples, by = \"Sample\") %>% \n",
        "    select(Sample, Group) %>%\n",
        "    distinct() %>%\n",
        "    select(Group) %>%\n",
        "    table()"
      ]
    },
    {
      "cell_type": "markdown",
      "id": "70c9e3b9",
      "metadata": {
        "block_path": "notebooks/differential_analysis/notebook_generator/blocks/_shared/07_t_component_based.ipynb",
        "source_hash": "611afe6a62a043680fd23bec8cad2732cd79f91b",
        "tags": [
          "template"
        ]
      },
      "source": [
        "### summarized Fla measures per sample"
      ]
    },
    {
      "cell_type": "code",
      "execution_count": null,
      "id": "79250bc8",
      "metadata": {
        "block_path": "notebooks/differential_analysis/notebook_generator/blocks/_shared/07_t_component_based.ipynb",
        "source_hash": "29bd21294fd78393e88741856dd156dce877ae65",
        "vscode": {
          "languageId": "r"
        }
      },
      "outputs": [],
      "source": [
        "# compute total *relative* fla counts per sample\n",
        "flapro_rel_total_all = flapro_rel[[SCENARIO_COMPON]] %>% \n",
        "        group_by(Sample) %>% \n",
        "        summarise(sum_rel_abund = sum(value)) %>% \n",
        "        ungroup() %>%        \n",
        "        rename(value = \"sum_rel_abund\") %>% \n",
        "        mutate(feature = \"sum_rel_abund_F_all\") %>%         \n",
        "        #inner_join(meta_samples, by = \"Sample\") %>%      \n",
        "        arrange(Sample)\n",
        "flapro_rel_total_all\n",
        "\n",
        "# save to file\n",
        "write_tsv(flapro_rel_total_all %>% pivot_wider(names_from = feature, values_from = value), file.path(PROJ_OUTPUT_DIR, paste0(\"flapro_rel_total_all_\", SCENARIO_COMPON, \".tsv\")))"
      ]
    },
    {
      "cell_type": "code",
      "execution_count": null,
      "id": "f4ad270c",
      "metadata": {
        "block_path": "notebooks/differential_analysis/notebook_generator/blocks/_shared/07_t_component_based.ipynb",
        "source_hash": "88eb3e7355b92f8271104d752d3eaf198176979a",
        "tags": [
          "template"
        ],
        "vscode": {
          "languageId": "r"
        }
      },
      "outputs": [],
      "source": [
        "flapro_rel[[SCENARIO_COMPON]] %>% \n",
        "    inner_join(meta_fla_clus, by = c(\"feature\" = \"FlaCluster\")) %>%\n",
        "    select(feature, Cluster_Pred) %>% \n",
        "    distinct() %>% \n",
        "    select(Cluster_Pred) %>% \n",
        "    table()"
      ]
    },
    {
      "cell_type": "code",
      "execution_count": null,
      "id": "a1fd0cfa",
      "metadata": {
        "block_path": "notebooks/differential_analysis/notebook_generator/blocks/_shared/07_t_component_based.ipynb",
        "source_hash": "454a2aeeb8fed45cb288586bbba3d4054da4dce9",
        "tags": [
          "template"
        ],
        "vscode": {
          "languageId": "r"
        }
      },
      "outputs": [],
      "source": [
        "# compute total *relative* fla counts per sample, stratified by Cluster_Pred\n",
        "flapro_rel_total_by_Cluster_Pred = \n",
        "    flapro_rel[[SCENARIO_COMPON]] %>% \n",
        "    inner_join(meta_fla_clus, by = c(\"feature\" = \"FlaCluster\")) %>%     \n",
        "    group_by(Sample, Cluster_Pred) %>% \n",
        "    summarise(value = sum(value)) %>%    \n",
        "    #mutate(feature = \"sum_rel_abund\") %>%\n",
        "    mutate(feature = paste0(\"sum_rel_abund\", \"_F_\", Cluster_Pred)) %>%    \n",
        "    ungroup() %>%     \n",
        "    select(-Cluster_Pred) %>%\n",
        "    #inner_join(meta_samples, by = \"Sample\") %>% \n",
        "    arrange(Sample)    \n",
        "flapro_rel_total_by_Cluster_Pred \n",
        "\n",
        "# save to file\n",
        "write_tsv(flapro_rel_total_by_Cluster_Pred %>% pivot_wider(names_from = feature, values_from = value), file.path(PROJ_OUTPUT_DIR, paste0(\"flapro_rel_total_by_Cluster_Pred_\", SCENARIO_COMPON, \".tsv\")))"
      ]
    },
    {
      "cell_type": "code",
      "execution_count": null,
      "id": "cd592a49",
      "metadata": {
        "block_path": "notebooks/differential_analysis/notebook_generator/blocks/_shared/07_t_component_based.ipynb",
        "source_hash": "451c1ddb6ab6dea8190c7c1ff01642b101f88f14",
        "vscode": {
          "languageId": "r"
        }
      },
      "outputs": [],
      "source": [
        "flapro_rel_total_by_Cluster_Pred  %>% filter(value > 0)\n",
        "\n",
        "flapro_rel_total_by_Cluster_Pred %>% inner_join(meta_samples, by = \"Sample\") %>% \n",
        "    select(Sample, Group) %>%\n",
        "    distinct() %>%\n",
        "    select(Group) %>%\n",
        "    table()"
      ]
    },
    {
      "cell_type": "code",
      "execution_count": null,
      "id": "bcc485e5",
      "metadata": {
        "block_path": "notebooks/differential_analysis/notebook_generator/blocks/_shared/07_t_component_based.ipynb",
        "source_hash": "60a10f750f99037f27b6131cf9e09431a7d72400",
        "vscode": {
          "languageId": "r"
        }
      },
      "outputs": [],
      "source": [
        "flapro_rel_total = rbind(flapro_rel_total_all, flapro_rel_total_by_Cluster_Pred)\n",
        "flapro_rel_total"
      ]
    },
    {
      "cell_type": "code",
      "execution_count": null,
      "id": "4c15a18d",
      "metadata": {
        "block_path": "notebooks/differential_analysis/notebook_generator/blocks/_shared/07_t_component_based.ipynb",
        "source_hash": "ebe72f2189b3a7c2367cb61716b9330cb55e8864",
        "tags": [
          "template"
        ],
        "vscode": {
          "languageId": "r"
        }
      },
      "outputs": [],
      "source": [
        "samples_with_zero_Active = flapro_rel_total_by_Cluster_Pred %>% \n",
        "    filter(value == 0 & feature == \"sum_rel_abund_F_active\") %>%\n",
        "    select(Sample)\n",
        "samples_with_zero_Active"
      ]
    },
    {
      "cell_type": "code",
      "execution_count": null,
      "id": "9f4290e7",
      "metadata": {
        "block_path": "notebooks/differential_analysis/notebook_generator/blocks/_shared/07_t_component_based.ipynb",
        "source_hash": "c4550ea4a66e5a59957f8dadebc3e7330e32e978",
        "tags": [
          "template"
        ],
        "vscode": {
          "languageId": "r"
        }
      },
      "outputs": [],
      "source": [
        "# for each Sample, compute the ratio of Abundance_rel between Silent and Active\n",
        "flapro_rel_Silent_Active_ratio = \n",
        "    flapro_rel_total_by_Cluster_Pred %>% \n",
        "    separate(feature, into = c(\"feature\", \"Cluster_Pred\"), sep = \"_F_\") %>%\n",
        "    # there are not more than a few samples with 0 Active rel abund, so just remove them\n",
        "    anti_join(samples_with_zero_Active, by = \"Sample\") %>%\n",
        "    group_by(Sample) %>%    \n",
        "    mutate(ratio_silent_active = value[Cluster_Pred == \"silent\"] / value[Cluster_Pred == \"active\"]) %>%\n",
        "    ungroup() %>%\n",
        "    arrange(desc(ratio_silent_active)) %>% \n",
        "    select(-value, -Cluster_Pred) %>% \n",
        "    distinct() %>% \n",
        "    mutate(feature = \"ratio_silent_active\") %>% \n",
        "    rename(value = \"ratio_silent_active\")\n",
        "flapro_rel_Silent_Active_ratio\n",
        "\n",
        "# save to file\n",
        "write_tsv(flapro_rel_Silent_Active_ratio %>% pivot_wider(names_from = feature, values_from = value), file.path(PROJ_OUTPUT_DIR, paste0(\"flapro_rel_Silent_Active_ratio_\", SCENARIO_COMPON, \".tsv\")))"
      ]
    },
    {
      "cell_type": "code",
      "execution_count": null,
      "id": "cde32c22",
      "metadata": {
        "block_path": "notebooks/differential_analysis/notebook_generator/blocks/_shared/07_t_component_based.ipynb",
        "source_hash": "36c9b041a00da15af4462331dbcb48d533fe2ea0",
        "tags": [
          "template"
        ],
        "vscode": {
          "languageId": "r"
        }
      },
      "outputs": [],
      "source": [
        "## for modeling, merge 2 columns into 1 to form a feature name\n",
        "##flapro_rel_total_by_Cluster_Pred_for_lm = \n",
        "#flapro_rel_total_by_Cluster_Pred = flapro_rel_total_by_Cluster_Pred %>%\n",
        "#    mutate(feature = paste0(feature, \"_F_\", Cluster_Pred)) %>% \n",
        "#    select(-Cluster_Pred)"
      ]
    },
    {
      "cell_type": "markdown",
      "id": "02e1a9a7",
      "metadata": {
        "block_path": "notebooks/differential_analysis/notebook_generator/blocks/_shared/07_t_component_based.ipynb",
        "source_hash": "094703527ad25fcac656f903609ed17bcaf51fd5",
        "tags": [
          "template"
        ]
      },
      "source": [
        "### adjust features for Age - via residuals"
      ]
    },
    {
      "cell_type": "code",
      "execution_count": null,
      "id": "fa46f32a",
      "metadata": {
        "block_path": "notebooks/differential_analysis/notebook_generator/blocks/_shared/07_t_component_based.ipynb",
        "source_hash": "a8487d450eb05b8122f311f49beea644067d11f0",
        "tags": [
          "template"
        ],
        "vscode": {
          "languageId": "r"
        }
      },
      "outputs": [],
      "source": [
        "if(ADD_ADJUST_FOR_FACTORS_COMPON) {\n",
        "    flapro_rel[[SCENARIO_COMPON]] = adjust_via_residuals(meta_samples, flapro_rel[[SCENARIO_COMPON]], ADD_ADJUST_FOR)\n",
        "    flapro_rel_maj = adjust_via_residuals(meta_samples, flapro_rel_maj, ADD_ADJUST_FOR)\n",
        "    flapro_rel_maj_log = adjust_via_residuals(meta_samples, flapro_rel_maj_log, ADD_ADJUST_FOR)\n",
        "    flapro_rel_total = adjust_via_residuals(meta_samples, flapro_rel_total, ADD_ADJUST_FOR)\n",
        "    if(SCENARIO_COMPON != \"MTX_MGX_ratio\") {\n",
        "        flapro_alpha = adjust_via_residuals(meta_samples, flapro_alpha, ADD_ADJUST_FOR)\n",
        "    }    \n",
        "    flapro_rel_Silent_Active_ratio = adjust_via_residuals(meta_samples, flapro_rel_Silent_Active_ratio, ADD_ADJUST_FOR)    \n",
        "}"
      ]
    },
    {
      "cell_type": "code",
      "execution_count": null,
      "id": "592ad174",
      "metadata": {
        "block_path": "notebooks/differential_analysis/notebook_generator/blocks/_shared/07_t_component_based.ipynb",
        "source_hash": "eda73d563a42de7ae9d148781de8aebc3d1bfaa3",
        "tags": [
          "template"
        ],
        "vscode": {
          "languageId": "r"
        }
      },
      "outputs": [],
      "source": [
        "#flapro_rel_total_by_Cluster_Pred = flapro_rel_total_by_Cluster_Pred_for_lm %>%\n",
        "#    separate(feature, into = c(\"feature\", \"Cluster_Pred\"), sep = \"_F_\")"
      ]
    },
    {
      "cell_type": "markdown",
      "id": "ebeec6a9",
      "metadata": {
        "block_path": "notebooks/differential_analysis/notebook_generator/blocks/_shared/07_t_component_based.ipynb",
        "source_hash": "1e596fad070a43b683187b80b3888829c88a9948",
        "tags": [
          "template"
        ]
      },
      "source": [
        "### viz summarized measures"
      ]
    },
    {
      "cell_type": "code",
      "execution_count": null,
      "id": "cece0837",
      "metadata": {
        "block_path": "notebooks/differential_analysis/notebook_generator/blocks/_shared/07_t_component_based.ipynb",
        "source_hash": "53f45a57233b981a6e57ae994db2bf044311a186",
        "vscode": {
          "languageId": "r"
        }
      },
      "outputs": [],
      "source": [
        "if(SCENARIO_COMPON != \"MTX_MGX_ratio\") {\n",
        "    flapro_alpha_to_plot = flapro_alpha %>% separate(feature, into = c(\"feature\", \"Cluster_Pred\"), sep = \"_F_\")\n",
        "    #flapro_alpha_to_plot\n",
        "}"
      ]
    },
    {
      "cell_type": "code",
      "execution_count": null,
      "id": "fa355894",
      "metadata": {
        "block_path": "notebooks/differential_analysis/notebook_generator/blocks/_shared/07_t_component_based.ipynb",
        "source_hash": "e910bb6a16cfab2b97414518d37fa725c58d5aa0",
        "vscode": {
          "languageId": "r"
        }
      },
      "outputs": [],
      "source": [
        "if(SCENARIO_COMPON != \"MTX_MGX_ratio\") {\n",
        "    p1a = flapro_alpha_to_plot %>% \n",
        "        inner_join(meta_samples, by = \"Sample\") %>%\n",
        "        filter(Cluster_Pred %in% c(\"all\")) %>% \n",
        "        mutate(Cluster_Pred = factor(Cluster_Pred, levels = c(\"all\", \"active\", \"silent\", \"mixed\", \"not_defined\"))) %>%\n",
        "        ggplot(aes(x = Group, y = value, fill = Group)) +    \n",
        "        ## log10 scale\n",
        "        (if (!ADD_ADJUST_FOR_FACTORS_COMPON) scale_y_log10() else NULL) + \n",
        "        geom_violin() +\n",
        "        geom_boxplot(width = 0.2, fill = \"white\") +\n",
        "        geom_jitter(width = 0.3, height = 0, alpha = 0.2, size = 0.9, color = \"#000000\") + \n",
        "        theme_bw() +    \n",
        "        facet_wrap( ~ feature, scales = \"free_y\") +\n",
        "        scale_fill_manual(values = COHORT_COLORS) +\n",
        "        # no grid\n",
        "        theme(panel.grid.major = element_blank(), panel.grid.minor = element_blank()) +        \n",
        "        ylab(\"Flagellome alpha diversity\") +\n",
        "        # legend off\n",
        "        theme(legend.position = \"none\") +\n",
        "        (if (!REPEAT_MEAS_COMPON) \n",
        "        # Pairwise Wilcoxon test with significance annotations\n",
        "        stat_compare_means(comparisons = STAT_PLOT_CMP,                        \n",
        "                                    method = \"wilcox.test\", label = \"p.format\", \n",
        "                                    vjust = 0.1, size = 2, step.increase = 0.09)\n",
        "        else NULL)\n",
        "\n",
        "    p1b = flapro_alpha_to_plot %>% \n",
        "        inner_join(meta_samples, by = \"Sample\") %>%\n",
        "        mutate(Cluster_Pred = factor(Cluster_Pred, levels = c(\"all\", \"active\", \"silent\", \"mixed\", \"not_defined\"))) %>%\n",
        "        ggplot(aes(x = Group, y = value, fill = Group)) +    \n",
        "        ## log10 scale\n",
        "        (if (!ADD_ADJUST_FOR_FACTORS_COMPON) scale_y_log10() else NULL) + \n",
        "        geom_violin() +\n",
        "        geom_boxplot(width = 0.2, fill = \"white\") +\n",
        "        geom_jitter(width = 0.3, height = 0, alpha = 0.2, size = 0.9, color = \"#000000\") + \n",
        "        theme_bw() +    \n",
        "        facet_grid(Cluster_Pred ~ feature, scales = \"free_y\") +\n",
        "        scale_fill_manual(values = COHORT_COLORS) +\n",
        "        # no grid\n",
        "        theme(panel.grid.major = element_blank(), panel.grid.minor = element_blank()) +        \n",
        "        ylab(\"Flagellome alpha diversity\") +\n",
        "        # legend off\n",
        "        theme(legend.position = \"none\") +\n",
        "        (if (!REPEAT_MEAS_COMPON) \n",
        "        # Pairwise Wilcoxon test with significance annotations\n",
        "        stat_compare_means(comparisons = STAT_PLOT_CMP,                        \n",
        "                                    method = \"wilcox.test\", label = \"p.format\", \n",
        "                                    vjust = 0.1, size = 2, step.increase = 0.09)\n",
        "        else NULL)\n",
        "\n",
        "    p1c = flapro_alpha_to_plot %>% \n",
        "        inner_join(meta_samples, by = \"Sample\") %>%\n",
        "        filter(Cluster_Pred %in% c(\"all\", \"active\", \"silent\")) %>% \n",
        "        mutate(Cluster_Pred = factor(Cluster_Pred, levels = c(\"all\", \"active\", \"silent\", \"mixed\", \"not_defined\"))) %>%\n",
        "        ggplot(aes(x = Group, y = value, fill = Group)) +    \n",
        "        ## log10 scale\n",
        "        (if (!ADD_ADJUST_FOR_FACTORS_COMPON) scale_y_log10() else NULL) + \n",
        "        geom_violin() +\n",
        "        geom_boxplot(width = 0.2, fill = \"white\") +\n",
        "        geom_jitter(width = 0.3, height = 0, alpha = 0.2, size = 0.9, color = \"#000000\") + \n",
        "        theme_bw() +    \n",
        "        facet_grid(Cluster_Pred ~ feature, scales = \"free_y\") +\n",
        "        scale_fill_manual(values = COHORT_COLORS) +\n",
        "        # no grid\n",
        "        theme(panel.grid.major = element_blank(), panel.grid.minor = element_blank()) +        \n",
        "        ylab(\"Flagellome alpha diversity\") +\n",
        "        # legend off\n",
        "        theme(legend.position = \"none\") +\n",
        "        (if (!REPEAT_MEAS_COMPON) \n",
        "        # Pairwise Wilcoxon test with significance annotations\n",
        "        stat_compare_means(comparisons = STAT_PLOT_CMP,                        \n",
        "                                    method = \"wilcox.test\", label = \"p.format\", \n",
        "                                    vjust = 0.1, size = 2, step.increase = 0.09)\n",
        "        else NULL)        \n",
        "}"
      ]
    },
    {
      "cell_type": "code",
      "execution_count": null,
      "id": "93023d1c",
      "metadata": {
        "block_path": "notebooks/differential_analysis/notebook_generator/blocks/_shared/07_t_component_based.ipynb",
        "source_hash": "2682219839cfcd4f69e02dbabe0cde9777a34fba",
        "vscode": {
          "languageId": "r"
        }
      },
      "outputs": [],
      "source": [
        "if(SCENARIO_COMPON != \"MTX_MGX_ratio\") {\n",
        "    p.dims(8, 3)\n",
        "    p = ggarrange(p1a, ncol = 1)\n",
        "    plot(annotate_figure(p, top = text_grob(SCENARIO_COMPON)))\n",
        "}"
      ]
    },
    {
      "cell_type": "code",
      "execution_count": null,
      "id": "65a1d39e",
      "metadata": {
        "block_path": "notebooks/differential_analysis/notebook_generator/blocks/_shared/07_t_component_based.ipynb",
        "source_hash": "dbdf74c68bc02176e0194faac536a67bec3143be",
        "vscode": {
          "languageId": "r"
        }
      },
      "outputs": [],
      "source": [
        "if(SCENARIO_COMPON != \"MTX_MGX_ratio\") {\n",
        "    p.dims(8, 15)\n",
        "    p = ggarrange(p1b, ncol = 1)\n",
        "    plot(annotate_figure(p, top = text_grob(SCENARIO_COMPON)))\n",
        "}"
      ]
    },
    {
      "cell_type": "code",
      "execution_count": null,
      "id": "de562406",
      "metadata": {
        "block_path": "notebooks/differential_analysis/notebook_generator/blocks/_shared/07_t_component_based.ipynb",
        "source_hash": "a3c7082ccd1b37839154b6dc208e37d94e26c95b",
        "vscode": {
          "languageId": "r"
        }
      },
      "outputs": [],
      "source": [
        "if(SCENARIO_COMPON != \"MTX_MGX_ratio\") {\n",
        "    p.dims(8, 7.5)\n",
        "    p = ggarrange(p1c, ncol = 1)\n",
        "    plot(annotate_figure(p, top = text_grob(SCENARIO_COMPON)))\n",
        "}"
      ]
    },
    {
      "cell_type": "code",
      "execution_count": null,
      "id": "dabe07b0",
      "metadata": {
        "block_path": "notebooks/differential_analysis/notebook_generator/blocks/_shared/07_t_component_based.ipynb",
        "source_hash": "1352057107afcaafd856e1b0683350b32e2efd51",
        "vscode": {
          "languageId": "r"
        }
      },
      "outputs": [],
      "source": [
        "flapro_rel_total_to_plot = flapro_rel_total %>% separate(feature, into = c(\"feature\", \"Cluster_Pred\"), sep = \"_F_\")"
      ]
    },
    {
      "cell_type": "code",
      "execution_count": null,
      "id": "96754d6c",
      "metadata": {
        "block_path": "notebooks/differential_analysis/notebook_generator/blocks/_shared/07_t_component_based.ipynb",
        "source_hash": "0c3bb3bf636028f63a9c4f3b39358500941f225c",
        "tags": [
          "template"
        ],
        "vscode": {
          "languageId": "r"
        }
      },
      "outputs": [],
      "source": [
        "# compare total relative fla counts across the groups\n",
        "p1 = flapro_rel_total_to_plot %>% inner_join(meta_samples, by = \"Sample\") %>%\n",
        "    mutate(Cluster_Pred = factor(Cluster_Pred, levels = c(\"all\", \"active\", \"silent\", \"mixed\", \"not_defined\"))) %>%\n",
        "    ggplot(aes(x = Group, y = value, fill = Group)) +\n",
        "    # log10 scale\n",
        "    (if (!ADD_ADJUST_FOR_FACTORS_COMPON) scale_y_log10() else NULL) + \n",
        "    geom_violin() +\n",
        "    geom_boxplot(width = 0.3, fill = \"white\") +\n",
        "    geom_jitter(width = 0.3, height = 0, alpha = 0.2, size = 0.9, color = \"#000000\") +    \n",
        "    theme_bw() +\n",
        "    facet_wrap(~Cluster_Pred, ncol = 5) +\n",
        "    scale_fill_manual(values = COHORT_COLORS) +\n",
        "    # no grid\n",
        "\ttheme(panel.grid.major = element_blank(), panel.grid.minor = element_blank()) +\n",
        "    # y axis title: Abundance\n",
        "\tylab(\"Flagellome rel. abundance\") +\n",
        "    # legend off\n",
        "    theme(legend.position = \"none\") +\n",
        "    (if (!REPEAT_MEAS_COMPON) \n",
        "    # Pairwise Wilcoxon test with significance annotations\n",
        "    stat_compare_means(comparisons = STAT_PLOT_CMP,                        \n",
        "                                method = \"wilcox.test\", label = \"p.format\", \n",
        "                                vjust = 0.1, size = 2, step.increase = 0.07)\n",
        "    else NULL)\n",
        "\n",
        "p1b = flapro_rel_total_to_plot %>% inner_join(meta_samples, by = \"Sample\") %>%\n",
        "    mutate(Cluster_Pred = factor(Cluster_Pred, levels = c(\"_all\", \"active\", \"silent\", \"mixed\", \"not_defined\"))) %>%\n",
        "    filter(Cluster_Pred %in% c(\"active\", \"silent\")) %>% \n",
        "    ggplot(aes(x = Group, y = value, fill = Group)) +\n",
        "    # log10 scale\n",
        "    (if (!ADD_ADJUST_FOR_FACTORS_COMPON) scale_y_log10() else NULL) + \n",
        "    geom_violin() +\n",
        "    geom_boxplot(width = 0.3, fill = \"white\") +\n",
        "    geom_jitter(width = 0.3, height = 0, alpha = 0.2, size = 0.9, color = \"#000000\") +    \n",
        "    theme_bw() +\n",
        "    facet_wrap(~Cluster_Pred, ncol = 2) +\n",
        "    scale_fill_manual(values = COHORT_COLORS) +\n",
        "    # no grid\n",
        "\ttheme(panel.grid.major = element_blank(), panel.grid.minor = element_blank()) +\n",
        "    # y axis title: Abundance\n",
        "\tylab(\"Flagellome rel. abundance\") +\n",
        "    # legend off\n",
        "    theme(legend.position = \"none\") +\n",
        "    (if (!REPEAT_MEAS_COMPON) \n",
        "    # Pairwise Wilcoxon test with significance annotations\n",
        "    stat_compare_means(comparisons = STAT_PLOT_CMP,                        \n",
        "                                method = \"wilcox.test\", label = \"p.format\", \n",
        "                                vjust = 0.1, size = 2, step.increase = 0.07)\n",
        "    else NULL)\n"
      ]
    },
    {
      "cell_type": "code",
      "execution_count": null,
      "id": "b8f7e922",
      "metadata": {
        "block_path": "notebooks/differential_analysis/notebook_generator/blocks/_shared/07_t_component_based.ipynb",
        "source_hash": "72793b8026603f7ba841a90626efe4483ffe0d67",
        "vscode": {
          "languageId": "r"
        }
      },
      "outputs": [],
      "source": [
        "p.dims(5.2, 3)\n",
        "p = ggarrange(p1b, ncol = 1)\n",
        "annotate_figure(p, top = text_grob(SCENARIO_COMPON))\n",
        "\n",
        "p.dims(12, 3)\n",
        "p = ggarrange(p1, ncol = 1)\n",
        "annotate_figure(p, top = text_grob(SCENARIO_COMPON))"
      ]
    },
    {
      "cell_type": "code",
      "execution_count": null,
      "id": "3c57cd45",
      "metadata": {
        "block_path": "notebooks/differential_analysis/notebook_generator/blocks/_shared/07_t_component_based.ipynb",
        "source_hash": "4c01b31a25b0380cd7ad558e3f425b0c348d63e0",
        "tags": [
          "template"
        ],
        "vscode": {
          "languageId": "r"
        }
      },
      "outputs": [],
      "source": [
        "p1 = flapro_rel_Silent_Active_ratio %>% inner_join(meta_samples, by = \"Sample\") %>%\n",
        "    ggplot(aes(x = Group, y = value, fill = Group)) +\n",
        "    ## log10 scale\n",
        "    (if (!ADD_ADJUST_FOR_FACTORS_COMPON) scale_y_log10() else NULL) + \n",
        "    geom_violin() +\n",
        "    geom_boxplot(width = 0.2, fill = \"white\") +\n",
        "    geom_jitter(width = 0.3, height = 0, alpha = 0.2, size = 0.9, color = \"#000000\") +    \n",
        "    theme_bw() +    \n",
        "    scale_fill_manual(values = COHORT_COLORS) +\n",
        "    # no grid\n",
        "\ttheme(panel.grid.major = element_blank(), panel.grid.minor = element_blank()) +\n",
        "\tylab(\"Silent/Active abundance ratio\") +    \n",
        "    # legend off\n",
        "    theme(legend.position = \"none\") +\n",
        "    (if (!REPEAT_MEAS_COMPON) \n",
        "    # Pairwise Wilcoxon test with significance annotations\n",
        "    stat_compare_means(comparisons = STAT_PLOT_CMP,                        \n",
        "                                method = \"wilcox.test\", label = \"p.format\", \n",
        "                                vjust = 0.1, size = 2, step.increase = 0.07)\n",
        "    else NULL)\n"
      ]
    },
    {
      "cell_type": "code",
      "execution_count": null,
      "id": "2b49eb62",
      "metadata": {
        "block_path": "notebooks/differential_analysis/notebook_generator/blocks/_shared/07_t_component_based.ipynb",
        "source_hash": "1d959782506fced4b5ea7fb4e07ffd7d7d3500a5",
        "tags": [
          "template"
        ],
        "vscode": {
          "languageId": "r"
        }
      },
      "outputs": [],
      "source": [
        "p.dims(3.5, 3.5)\n",
        "p = ggarrange(p1, ncol = 1)\n",
        "annotate_figure(p, top = text_grob(SCENARIO_COMPON))"
      ]
    },
    {
      "cell_type": "markdown",
      "id": "7d24f574",
      "metadata": {
        "block_path": "notebooks/differential_analysis/notebook_generator/blocks/_shared/07_t_component_based.ipynb",
        "source_hash": "e8fbacb18df0b723783a0036bf3fe6243e1d3dd4",
        "tags": [
          "template"
        ]
      },
      "source": [
        "### Top Fla"
      ]
    },
    {
      "cell_type": "code",
      "execution_count": null,
      "id": "f11cae76",
      "metadata": {
        "block_path": "notebooks/differential_analysis/notebook_generator/blocks/_shared/07_t_component_based.ipynb",
        "source_hash": "6e98ba0f296dd854c86c80e76bc662c963f043e4",
        "tags": [
          "template"
        ],
        "vscode": {
          "languageId": "r"
        }
      },
      "outputs": [],
      "source": [
        "check_full(flapro_rel[[SCENARIO_COMPON]], \"feature\")"
      ]
    },
    {
      "cell_type": "code",
      "execution_count": null,
      "id": "d5aea674",
      "metadata": {
        "block_path": "notebooks/differential_analysis/notebook_generator/blocks/_shared/07_t_component_based.ipynb",
        "source_hash": "aef8b202bc4b17b83245643553101e157150c80f",
        "tags": [
          "template"
        ],
        "vscode": {
          "languageId": "r"
        }
      },
      "outputs": [],
      "source": [
        "# flapro_rel: boxplot the abundance per Fla in the order of median decreasing\n",
        "top_n_fla = \n",
        "    flapro_rel[[SCENARIO_COMPON]] %>%\n",
        "    mutate(mean_Abundance_rel = mean(value), .by = \"feature\") %>%    \n",
        "    select(feature, mean_Abundance_rel) %>% \n",
        "    distinct() %>%         \n",
        "    inner_join(meta_fla_clus, by = c(\"feature\" = \"FlaCluster\")) %>%    \n",
        "    arrange(desc(mean_Abundance_rel)) %>%\n",
        "    filter(mean_Abundance_rel > 0) %>%\n",
        "    head(200) \n",
        "top_n_fla"
      ]
    },
    {
      "cell_type": "code",
      "execution_count": null,
      "id": "683429e5",
      "metadata": {
        "block_path": "notebooks/differential_analysis/notebook_generator/blocks/_shared/07_t_component_based.ipynb",
        "source_hash": "4696575b4a46a4d2521ffd798ec0bf5c64e9f958",
        "tags": [
          "template"
        ],
        "vscode": {
          "languageId": "r"
        }
      },
      "outputs": [],
      "source": [
        "p.dims(8, 12)\n",
        "flapro_rel[[SCENARIO_COMPON]] %>% \n",
        "    inner_join(top_n_fla, by = \"feature\") %>%\n",
        "    \n",
        "    #ggplot(aes(x = reorder(feature, mean_Abundance_rel), y = value, color = Cluster_Exp)) +    \n",
        "    #geom_jitter(aes(color = Cluster_Exp), size = 0.5, alpha = 0.4, width = 0.05) +    \n",
        "    #scale_color_manual(values = FLA_CLASSES_COLORS) +    \n",
        "\n",
        "    #ggplot(aes(x = reorder(feature, mean_Abundance_rel), y = value, shape = Cluster_Exp)) +    \n",
        "    #geom_jitter(aes(shape = Cluster_Exp), size = 1, alpha = 0.4, width = 0.05, height = 0) +    \n",
        "    #scale_shape_manual(values = FLA_CLASSES_SHAPES) +    \n",
        "\n",
        "    ggplot(aes(x = reorder(feature, mean_Abundance_rel), y = value, shape = Cluster_Exp, color = Cluster_Exp)) +    \n",
        "    geom_jitter(aes(shape = Cluster_Exp), size = 1, alpha = 0.4, width = 0.05, height = 0) +    \n",
        "    scale_shape_manual(values = FLA_CLASSES_SHAPES) + \n",
        "    scale_color_manual(values = FLA_CLASSES_COLORS) +   \n",
        "\n",
        "    theme_bw() +    \n",
        "    theme(panel.border = element_rect(size = 0.1, colour = \"black\")) +\n",
        "    # disable grid\n",
        "    theme(panel.grid.major = element_blank(), panel.grid.minor = element_blank()) +\n",
        "    # disable x axis text    \n",
        "    theme(axis.text.y = element_blank()) + \n",
        "    # disable y ticks\n",
        "    theme(axis.ticks.y = element_blank()) +\n",
        "    coord_flip() +\n",
        "    labs(x = \"Flagellin cluster\", y = \"Relative abundance\") +\n",
        "    # increase size of dot in legend\n",
        "    guides(color = guide_legend(override.aes = list(size = 5))) +\n",
        "    # log scale for y\n",
        "    (if (!ADD_ADJUST_FOR_FACTORS_COMPON) scale_y_log10() else NULL)"
      ]
    },
    {
      "cell_type": "code",
      "execution_count": null,
      "id": "d68a4422",
      "metadata": {
        "block_path": "notebooks/differential_analysis/notebook_generator/blocks/_shared/07_t_component_based.ipynb",
        "source_hash": "6e6b7c82e36e73ab0400959f7f14eed2a5b42275",
        "tags": [
          "template"
        ],
        "vscode": {
          "languageId": "r"
        }
      },
      "outputs": [],
      "source": [
        "p.dims(8, 12)\n",
        "flapro_rel[[SCENARIO_COMPON]] %>% \n",
        "    inner_join(top_n_fla, by = \"feature\") %>%\n",
        "\n",
        "    #ggplot(aes(x = reorder(feature, mean_Abundance_rel), y = value, color = Cluster_Pred)) +    \n",
        "    #geom_jitter(aes(color = Cluster_Pred), size = 0.3, alpha = 0.4, width = 0.05) +    \n",
        "    #scale_color_manual(values = FLA_CLASSES_COLORS) +    \n",
        "\n",
        "    ggplot(aes(x = reorder(feature, mean_Abundance_rel), y = value, shape = Cluster_Pred, color = Cluster_Pred)) +    \n",
        "    geom_jitter(aes(shape = Cluster_Pred), size = 1, alpha = 0.4, width = 0.05, height = 0) +    \n",
        "    scale_shape_manual(values = FLA_CLASSES_SHAPES) + \n",
        "    scale_color_manual(values = FLA_CLASSES_COLORS) +   \n",
        "\n",
        "    theme_bw() +    \n",
        "    theme(panel.border = element_rect(size = 0.1, colour = \"black\")) +\n",
        "    # disable grid\n",
        "    theme(panel.grid.major = element_blank(), panel.grid.minor = element_blank()) +\n",
        "    # disable x axis text    \n",
        "    theme(axis.text.y = element_blank()) + \n",
        "    # disable y ticks\n",
        "    theme(axis.ticks.y = element_blank()) +\n",
        "    coord_flip() +\n",
        "    labs(x = \"Flagellin cluster\", y = \"Relative abundance\") +\n",
        "    # increase size of dot in legend\n",
        "    guides(color = guide_legend(override.aes = list(size = 5))) +\n",
        "    # log scale for y\n",
        "    (if (!ADD_ADJUST_FOR_FACTORS_COMPON) scale_y_log10() else NULL)"
      ]
    },
    {
      "cell_type": "markdown",
      "id": "885efc33",
      "metadata": {
        "block_path": "notebooks/differential_analysis/notebook_generator/blocks/_shared/07_t_component_based.ipynb",
        "source_hash": "4b2559994b61a71372867b08923f16eba384d007",
        "tags": [
          "template"
        ]
      },
      "source": [
        "### Beta diversity"
      ]
    },
    {
      "cell_type": "code",
      "execution_count": null,
      "id": "55f5494f",
      "metadata": {
        "block_path": "notebooks/differential_analysis/notebook_generator/blocks/_shared/07_t_component_based.ipynb",
        "source_hash": "44f47e82ff1a16f337ffddd38d16500d34335fc3",
        "tags": [
          "template"
        ],
        "vscode": {
          "languageId": "r"
        }
      },
      "outputs": [],
      "source": [
        "flapro_rel_df = \n",
        "    flapro_rel[[SCENARIO_COMPON]] %>%          \n",
        "    select(feature, Sample, value) %>% \n",
        "    pivot_wider(names_from = \"feature\", values_from = \"value\", values_fill = 0) %>% \n",
        "    column_to_rownames(\"Sample\") %>% \n",
        "    as.data.frame\n",
        "flapro_rel_df"
      ]
    },
    {
      "cell_type": "code",
      "execution_count": null,
      "id": "af59b72f",
      "metadata": {
        "block_path": "notebooks/differential_analysis/notebook_generator/blocks/_shared/07_t_component_based.ipynb",
        "source_hash": "f24671c48bfad5e66910c838378aac5522dd8aca",
        "tags": [
          "template"
        ],
        "vscode": {
          "languageId": "r"
        }
      },
      "outputs": [],
      "source": [
        "# compute an Euclidean distance matrix from flapro_rel_df\n",
        "dist_my_rel = dist(flapro_rel_df, method = \"euclidean\")"
      ]
    },
    {
      "cell_type": "code",
      "execution_count": null,
      "id": "de1aca7c",
      "metadata": {
        "block_path": "notebooks/differential_analysis/notebook_generator/blocks/_shared/07_t_component_based.ipynb",
        "source_hash": "a6835a11f89059feab673b898c114c858c1d3c30",
        "tags": [
          "template"
        ],
        "vscode": {
          "languageId": "r"
        }
      },
      "outputs": [],
      "source": [
        "# identify outliers based on the distance matrix\n",
        "dist_my_rel_mat = as.matrix(dist_my_rel)\n",
        "# Compute mean or median distance for each sample\n",
        "mean_distances = rowMeans(dist_my_rel_mat)\n",
        "median_distances = apply(dist_my_rel_mat, 1, median)\n",
        "\n",
        "# Identify outliers using a threshold (e.g., X standard deviations from the mean)\n",
        "threshold = mean(mean_distances) + REL_N_SIGMA_REL_OUTLIERS * sd(mean_distances)\n",
        "outliers = which(mean_distances > threshold)\n",
        "\n",
        "# Results\n",
        "sort(names(outliers))\n",
        "length(outliers)"
      ]
    },
    {
      "cell_type": "code",
      "execution_count": null,
      "id": "f13475ec",
      "metadata": {
        "block_path": "notebooks/differential_analysis/notebook_generator/blocks/_shared/07_t_component_based.ipynb",
        "source_hash": "62e56708587db85bbaa80811c2918c873b0af01a",
        "tags": [
          "template"
        ],
        "vscode": {
          "languageId": "r"
        }
      },
      "outputs": [],
      "source": [
        "# remove outliers from dist_my_rel, a dist object\n",
        "if(length(outliers)) {\n",
        "    dist_my_rel_mat = dist_my_rel_mat[-outliers, -outliers]\n",
        "    dist_my_rel = as.dist(dist_my_rel_mat)\n",
        "    dim(dist_my_rel)\n",
        "    flapro_rel_df_noOut = flapro_rel_df[-outliers,]\n",
        "} else {\n",
        "    flapro_rel_df_noOut = flapro_rel_df\n",
        "}\n",
        "dim(flapro_rel_df_noOut)"
      ]
    },
    {
      "cell_type": "markdown",
      "id": "0ce2e273",
      "metadata": {
        "block_path": "notebooks/differential_analysis/notebook_generator/blocks/_shared/07_t_component_based.ipynb",
        "source_hash": "5d2aeac3d238d87786048068d783e0a59cb5e9d9",
        "tags": [
          "template"
        ]
      },
      "source": [
        "### PCoA biplot (rel.)"
      ]
    },
    {
      "cell_type": "code",
      "execution_count": null,
      "id": "95bb70d3",
      "metadata": {
        "block_path": "notebooks/differential_analysis/notebook_generator/blocks/_shared/07_t_component_based.ipynb",
        "source_hash": "8545f0e0d135c5408e0d242eb42cb99329a23832",
        "tags": [
          "template"
        ],
        "vscode": {
          "languageId": "r"
        }
      },
      "outputs": [],
      "source": [
        "# do PCoA\n",
        "pcoa_res_rel = ape::pcoa(dist_my_rel)\n",
        "\n",
        "# get the percentage of variance explained by top PCs\n",
        "pve = round(pcoa_res_rel$values$Relative_eig[1:3] * 100, 1) \n",
        "# concatenate those values to PC1 and PC2\n",
        "pve = paste0(\"PC\", 1:3, \" (\", pve, \"%)\")\n",
        "names(pve) = paste0(\"PC\", 1:3)\n",
        "\n",
        "# Extract PCoA coordinates for plotting\n",
        "pcoa_scores = data.frame(pcoa_res_rel$vectors)\n",
        "# rename all columns of pcoa_scores to PC1, PC2, PC3 and so on\n",
        "colnames(pcoa_scores) = gsub(colnames(pcoa_scores), pattern = \"Axis.\", replacement = \"PC\")\n",
        "#pcoa_scores\n",
        "\n",
        "# Generalized computation of feature contributions for 3 PCs\n",
        "num_pcs = 3  # Number of PCs to consider\n",
        "feature_contributions = as.data.frame(\n",
        "  do.call(cbind, lapply(1:num_pcs, function(pc) {\n",
        "    apply(flapro_rel_df_noOut, 2, function(feature) suppressWarnings(cor(feature, pcoa_scores[[paste0(\"PC\", pc)]])))\n",
        "  }))\n",
        ")\n",
        "colnames(feature_contributions) = paste0(\"PC\", 1:num_pcs)  # Name the columns\n",
        "feature_contributions$Feature = colnames(flapro_rel_df_noOut)  # Add feature names\n",
        "\n",
        "# Scale the feature contributions for visualization (optional)\n",
        "feature_contributions = feature_contributions %>%\n",
        "  mutate(across(starts_with(\"PC\"), ~ .x * BIPLOT_ARROW_SCALING[[SCENARIO_COMPON]]))\n",
        "\n",
        "# Compute magnitude of contributions and retain the top 5 features\n",
        "feature_contributions = feature_contributions %>%\n",
        "  rowwise() %>%\n",
        "  mutate(Magnitude = sqrt(sum(c_across(starts_with(\"PC\"))^2))) %>%\n",
        "  ungroup() %>%\n",
        "  arrange(desc(Magnitude)) %>%\n",
        "  slice(1:REL_N_FEATURES_BIPLOT)  # Keep top features\n",
        "feature_contributions\n",
        "\n",
        "pcoa_vis = pcoa_scores %>% rownames_to_column(\"Sample\") %>% \n",
        "    inner_join(meta_samples, by = \"Sample\")\n",
        "#pcoa_vis"
      ]
    },
    {
      "cell_type": "code",
      "execution_count": null,
      "id": "a4a02dbc",
      "metadata": {
        "block_path": "notebooks/differential_analysis/notebook_generator/blocks/_shared/07_t_component_based.ipynb",
        "source_hash": "afd97f929b8653625450adc086f23f4a569d9e36",
        "tags": [
          "template"
        ],
        "vscode": {
          "languageId": "r"
        }
      },
      "outputs": [],
      "source": [
        "# join meta to the feature_contributions\n",
        "feature_contributions = feature_contributions %>% \n",
        "    inner_join(meta_fla_clus, by = c(\"Feature\" = \"FlaCluster\")) %>%     \n",
        "    mutate(Cluster_Species_trimmed = ifelse(\t\t\n",
        "\t\t\tstr_detect(Cluster_Species, \";\"),\t\t\t\n",
        "\t\t\tpaste0(str_extract(Cluster_Species, \"^[^;]+\"), \"+\"),\n",
        "\t\t\tCluster_Species)\t\t\n",
        "\t) %>%\t\n",
        "    mutate(Feature_ext = paste(Feature, \"\\n\", Cluster_Species_trimmed, sep = \"\"))  %>% \n",
        "\tselect(-Cluster_Species, -Cluster_Species_trimmed)\n",
        "feature_contributions"
      ]
    },
    {
      "cell_type": "code",
      "execution_count": null,
      "id": "3433af18",
      "metadata": {
        "block_path": "notebooks/differential_analysis/notebook_generator/blocks/_shared/07_t_component_based.ipynb",
        "source_hash": "bf6b44e98577ff27ba9de0054d2511c58626475c",
        "tags": [
          "template"
        ],
        "vscode": {
          "languageId": "r"
        }
      },
      "outputs": [],
      "source": [
        "# biplot function\n",
        "create_pcoa_biplot = function(pcoa_vis, feature_contributions, x_axis, y_axis, pve, color_var, scale_color = scale_color_manual(values = COHORT_COLORS)) {\n",
        "  # Ensure the axis names are valid\n",
        "  if (!(x_axis %in% colnames(pcoa_vis)) | !(y_axis %in% colnames(pcoa_vis))) {\n",
        "    stop(\"Specified x_axis or y_axis is not in the pcoa_vis data.\")\n",
        "  }\n",
        "  if (!(x_axis %in% colnames(feature_contributions)) | !(y_axis %in% colnames(feature_contributions))) {\n",
        "    stop(\"Specified x_axis or y_axis is not in the feature_contributions data.\")\n",
        "  }\n",
        "\n",
        "  # Create biplot\n",
        "  ggplot() +\n",
        "    # Sample points\n",
        "    geom_point(data = pcoa_vis, aes_string(x = x_axis, y = y_axis, color = color_var), size = 0.5) +    \n",
        "\n",
        "    ## Sample labels\n",
        "    (if (BIPLOT_LABELS_SAMPLES) geom_text_repel(data = pcoa_vis, aes_string(x = x_axis, y = y_axis, label = \"Sample\"), size = 2, color = \"#888888\", segment.size = 0.1) else NULL) + \n",
        "        \n",
        "    # X and Y labels for explained variance\n",
        "    xlab(pve[x_axis]) +\n",
        "    ylab(pve[y_axis]) +   \n",
        "    # Theme and color scale\n",
        "    theme_classic() + \n",
        "    scale_color +    \n",
        "    # Increase bullet size in legend\n",
        "    guides(color = guide_legend(override.aes = list(size = 4))) +\n",
        "\n",
        "   # Feature arrows\n",
        "    geom_segment(\n",
        "      data = feature_contributions, \n",
        "      aes_string(x = 0, y = 0, xend = x_axis, yend = y_axis , \n",
        "        linetype = \"Cluster_Pred\"\n",
        "        ), \n",
        "      arrow = arrow(length = unit(0.2, \"cm\"), type = \"closed\", angle = 15),      \n",
        "      size = 0.2, color = \"#888888\"\n",
        "    ) +\n",
        "    # Feature labels\n",
        "    geom_text(\n",
        "      data = feature_contributions, \n",
        "      aes_string(x = x_axis, y = y_axis, label = \"Feature_ext\"), \n",
        "      vjust = \"center\", hjust = \"middle\", color = \"black\", size = 2\n",
        "    ) +\n",
        "    scale_linetype_manual(\n",
        "      values = c(\"active\" = \"solid\", \"mixed\" = \"longdash\", \"silent\" = \"dashed\", \"not_defined\" = \"dotted\"),\n",
        "      name = \"Cluster_Pred\"\n",
        "    ) \n",
        "}\n",
        "\n",
        "p.dims(15, 8)\n",
        "#p.dims(5, 10)\n",
        "# PC1-2:\n",
        "p1 = create_pcoa_biplot(pcoa_vis, feature_contributions, \"PC1\", \"PC2\", pve, \"Group\")\n",
        "# PC1-3:\n",
        "p2 = create_pcoa_biplot(pcoa_vis, feature_contributions, \"PC1\", \"PC3\", pve, \"Group\")\n",
        "\n",
        "# plot them next to each other\n",
        "p = ggarrange(p1, p2, ncol = 2, common.legend = TRUE, legend = \"bottom\")\n",
        "annotate_figure(p, top = text_grob(SCENARIO_COMPON))"
      ]
    },
    {
      "cell_type": "markdown",
      "id": "a5b517e0",
      "metadata": {
        "block_path": "notebooks/differential_analysis/notebook_generator/blocks/_shared/07_t_component_based.ipynb",
        "source_hash": "8b88fa08981e68412a4f34f65ac4195978615b18",
        "tags": [
          "template"
        ]
      },
      "source": [
        "### Stat: summarized Fla features"
      ]
    },
    {
      "cell_type": "code",
      "execution_count": null,
      "id": "865621b5",
      "metadata": {
        "block_path": "notebooks/differential_analysis/notebook_generator/blocks/_shared/07_t_component_based.ipynb",
        "source_hash": "ba64e7c83c29bbea2dfd5a3735d65b14f52cd565",
        "vscode": {
          "languageId": "r"
        }
      },
      "outputs": [],
      "source": [
        "# init a list to store the tables to go to a multisheet xlsx\n",
        "df_list_stats_compon_results = list()"
      ]
    },
    {
      "cell_type": "code",
      "execution_count": null,
      "id": "0581ab61",
      "metadata": {
        "block_path": "notebooks/differential_analysis/notebook_generator/blocks/_shared/07_t_component_based.ipynb",
        "source_hash": "8d1d61ae4fbb1ed16f99c327948381acac967b92",
        "tags": [
          "template"
        ],
        "vscode": {
          "languageId": "r"
        }
      },
      "outputs": [],
      "source": [
        "lm_in = rbind(        \n",
        "        flapro_rel_total,                \n",
        "        flapro_rel_Silent_Active_ratio) %>%\n",
        "    inner_join(meta_samples, by = \"Sample\") %>%\n",
        "    filter(Group %in% GROUPS_TO_COMPARE)\n",
        "lm_in"
      ]
    },
    {
      "cell_type": "code",
      "execution_count": null,
      "id": "d6c08dec",
      "metadata": {
        "block_path": "notebooks/differential_analysis/notebook_generator/blocks/_shared/07_t_component_based.ipynb",
        "source_hash": "f9649cf224e3c2762e806f799506349bbe49f507",
        "tags": [
          "template"
        ],
        "vscode": {
          "languageId": "r"
        }
      },
      "outputs": [],
      "source": [
        "if(REPEAT_MEAS_COMPON) {\n",
        "    lm_res = do_lmer_tidy(lm_in, rel_model_formula, arg_response_col = \"value\", arg_feature_col = \"feature\") %>% \n",
        "        select(-effect, -group)\n",
        "} else {\n",
        "    lm_res = do_lm_tidy(lm_in, rel_model_formula, arg_response_col = \"value\", arg_feature_col = \"feature\")\n",
        "}\n",
        "df.dims(50)    \n",
        "lm_res #%>% filter(term == sel_factor_coef) %>% filter(p.value < 0.1)\n",
        "df.dims(5)    "
      ]
    },
    {
      "cell_type": "code",
      "execution_count": null,
      "id": "097293cd",
      "metadata": {
        "block_path": "notebooks/differential_analysis/notebook_generator/blocks/_shared/07_t_component_based.ipynb",
        "source_hash": "cfc8dab0fba09a76cb38545ffe273ac6b40f04d1",
        "tags": [
          "template"
        ],
        "vscode": {
          "languageId": "r"
        }
      },
      "outputs": [],
      "source": [
        "df.dims(50)    \n",
        "lm_res %>% filter(term == sel_factor_coef) %>% filter(p.value < 0.1)\n",
        "df.dims(5)    \n",
        "\n",
        "## save the results to file\n",
        "tmp_sheet_name = paste0(\"SumFts_\", SCENARIO_COMPON, \"_\", GROUPS_SUFFIX, \"_\", sel_factor_coef)\n",
        "if(nchar(tmp_sheet_name) > 31) {\n",
        "\tprint(\"Warning: xlsx sheet name too long! Reducing to 31 leading symbols.\")\n",
        "\ttmp_sheet_name = substr(tmp_sheet_name, 0, 31)\n",
        "\tprint(tmp_sheet_name)\n",
        "}\n",
        "df_list_stats_compon_results[[tmp_sheet_name]] = lm_res %>% filter(term == sel_factor_coef) %>% filter(p.value < 0.1)\n"
      ]
    },
    {
      "cell_type": "markdown",
      "id": "41402df3",
      "metadata": {
        "block_path": "notebooks/differential_analysis/notebook_generator/blocks/_shared/07_t_component_based.ipynb",
        "source_hash": "d14409e151461d68fea7ae934ff3b546a2dcf497",
        "tags": [
          "template"
        ]
      },
      "source": [
        "### Stat: alpha diversity"
      ]
    },
    {
      "cell_type": "code",
      "execution_count": null,
      "id": "caff82e1",
      "metadata": {
        "block_path": "notebooks/differential_analysis/notebook_generator/blocks/_shared/07_t_component_based.ipynb",
        "source_hash": "2da2c4cb870145eab233b5cb263dd3b4e4be5dad",
        "tags": [
          "template"
        ],
        "vscode": {
          "languageId": "r"
        }
      },
      "outputs": [],
      "source": [
        "if(SCENARIO_COMPON != \"MTX_MGX_ratio\") {\n",
        "    lm_in = flapro_alpha %>%\n",
        "        inner_join(meta_samples, by = \"Sample\") %>%\n",
        "        filter(Group %in% GROUPS_TO_COMPARE)\n",
        "    lm_in\n",
        "}"
      ]
    },
    {
      "cell_type": "code",
      "execution_count": null,
      "id": "72365524",
      "metadata": {
        "block_path": "notebooks/differential_analysis/notebook_generator/blocks/_shared/07_t_component_based.ipynb",
        "source_hash": "329d7c1a36b1c9a3ada746b595281f125187fc86",
        "tags": [
          "template"
        ],
        "vscode": {
          "languageId": "r"
        }
      },
      "outputs": [],
      "source": [
        "if(SCENARIO_COMPON != \"MTX_MGX_ratio\") {\n",
        "    if(REPEAT_MEAS_COMPON) {\n",
        "        lm_res = do_lmer_tidy(lm_in, rel_model_formula, arg_response_col = \"value\", arg_feature_col = \"feature\") %>% \n",
        "        select(-effect, -group)\n",
        "    } else {\n",
        "        lm_res = do_lm_tidy(lm_in, rel_model_formula, arg_response_col = \"value\", arg_feature_col = \"feature\")\n",
        "    }\n",
        "    df.dims(50)    \n",
        "    print(lm_res %>% filter(p.value < 0.1))\n",
        "    df.dims(5)    \n",
        "\n",
        "    # save the results to file\n",
        "    tmp_sheet_name = paste0(\"FAlph_\", SCENARIO_COMPON, \"_\", GROUPS_SUFFIX, \"_\", sel_factor_coef)\n",
        "    if(nchar(tmp_sheet_name) > 31) {\n",
        "        print(\"Warning: xlsx sheet name too long! Reducing to 31 leading symbols.\")\n",
        "        tmp_sheet_name = substr(tmp_sheet_name, 0, 31)\n",
        "        print(tmp_sheet_name)\n",
        "    }\n",
        "    df_list_stats_compon_results[[tmp_sheet_name]] = lm_res %>% filter(p.value < 0.1)\n",
        "}"
      ]
    },
    {
      "cell_type": "markdown",
      "id": "3b18b52c",
      "metadata": {
        "block_path": "notebooks/differential_analysis/notebook_generator/blocks/_shared/07_t_component_based.ipynb",
        "source_hash": "4b86895111c584b0f8cd62281eebbae25595be60",
        "tags": [
          "template"
        ]
      },
      "source": [
        "### Stat: fla clusters (over flapro_rel_MAJ)"
      ]
    },
    {
      "cell_type": "markdown",
      "id": "05021704",
      "metadata": {
        "block_path": "notebooks/differential_analysis/notebook_generator/blocks/_shared/07_t_component_based.ipynb",
        "source_hash": "ca4a0fe0492240a47d7b912ae96b7a57ce640021",
        "tags": [
          "template"
        ]
      },
      "source": [
        "#### Linear model, all factors"
      ]
    },
    {
      "cell_type": "code",
      "execution_count": null,
      "id": "3d5e80d1",
      "metadata": {
        "block_path": "notebooks/differential_analysis/notebook_generator/blocks/_shared/07_t_component_based.ipynb",
        "source_hash": "a50516ce6b7052812d732d23152c67a3c9444723",
        "tags": [
          "template"
        ],
        "vscode": {
          "languageId": "r"
        }
      },
      "outputs": [],
      "source": [
        "lm_in = flapro_rel_maj_log %>% \n",
        "    inner_join(meta_samples, by = \"Sample\") %>% \n",
        "    # subset to selected groups    \n",
        "    filter(Group %in% GROUPS_TO_COMPARE)\n",
        "lm_in"
      ]
    },
    {
      "cell_type": "code",
      "execution_count": null,
      "id": "41758a7c",
      "metadata": {
        "block_path": "notebooks/differential_analysis/notebook_generator/blocks/_shared/07_t_component_based.ipynb",
        "source_hash": "804aa7d5acab55abeeb7376e3139c1ad5a22c471",
        "tags": [
          "template"
        ],
        "vscode": {
          "languageId": "r"
        }
      },
      "outputs": [],
      "source": [
        "if(REPEAT_MEAS_COMPON) {\n",
        "    lm_res = do_lmer_tidy(lm_in, rel_model_formula, arg_response_col = \"value\", arg_feature_col = \"feature\") %>% \n",
        "        select(-effect, -group)\n",
        "} else {\n",
        "    lm_res = do_lm_tidy(lm_in, rel_model_formula, arg_response_col = \"value\", arg_feature_col = \"feature\")\n",
        "}\n",
        "df.dims(50)    \n",
        "lm_res %>% filter(p.value < 0.1)\n",
        "df.dims(5)    "
      ]
    },
    {
      "cell_type": "code",
      "execution_count": null,
      "id": "5fc449dc",
      "metadata": {
        "block_path": "notebooks/differential_analysis/notebook_generator/blocks/_shared/07_t_component_based.ipynb",
        "source_hash": "369d534bebd7109408f54435877bcfd5850e0842",
        "tags": [
          "template"
        ],
        "vscode": {
          "languageId": "r"
        }
      },
      "outputs": [],
      "source": [
        "lm_res_sel_factor = lm_res %>% \n",
        "    filter(term == sel_factor_coef) %>%\n",
        "    inner_join(meta_fla_clus, by = c(\"feature\" = \"FlaCluster\")) %>% \n",
        "    mutate(p.adj = p.adjust(p.value, method = \"fdr\"))\n",
        "df.dims(50) \n",
        "lm_res_sel_factor_s = lm_res_sel_factor %>% \n",
        "    ##filter(p.value < 0.1)\n",
        "    filter(p.adj < 0.1) \n",
        "lm_res_sel_factor_s\n",
        "df.dims(5)"
      ]
    },
    {
      "cell_type": "code",
      "execution_count": null,
      "id": "b80d38f8",
      "metadata": {
        "block_path": "notebooks/differential_analysis/notebook_generator/blocks/_shared/07_t_component_based.ipynb",
        "source_hash": "9a2614c216485dbf77a3c1c703351f48b3edd4fa",
        "tags": [
          "template"
        ],
        "vscode": {
          "languageId": "r"
        }
      },
      "outputs": [],
      "source": [
        "# save the results to file\n",
        "tmp_sheet_name = paste0(\"FC_\", SCENARIO_COMPON, \"_\", GROUPS_SUFFIX, \"_\", sel_factor_coef)\n",
        "if(nchar(tmp_sheet_name) > 31) {\n",
        "\tprint(\"Warning: xlsx sheet name too long! Reducing to 31 leading symbols.\")\n",
        "\ttmp_sheet_name = substr(tmp_sheet_name, 0, 31)\n",
        "\tprint(tmp_sheet_name)\n",
        "}\n",
        "df_list_stats_compon_results[[tmp_sheet_name]] = lm_res_sel_factor"
      ]
    },
    {
      "cell_type": "code",
      "execution_count": null,
      "id": "330d291a",
      "metadata": {
        "block_path": "notebooks/differential_analysis/notebook_generator/blocks/_shared/07_t_component_based.ipynb",
        "source_hash": "81d3d24e8038a25fb238597b66f8d27bffa518b7",
        "tags": [
          "template"
        ],
        "vscode": {
          "languageId": "r"
        }
      },
      "outputs": [],
      "source": [
        "num_finds = nrow(lm_res_sel_factor_s)\n",
        "num_finds\n",
        "num_per_row = 5\n",
        "\n",
        "my_w = min(13, 13 * (num_finds / num_per_row))\n",
        "my_w\n",
        "my_h = 3 * ceiling(num_finds / num_per_row)\n",
        "my_h\n",
        "\n",
        "p.dims(my_w, my_h) \n",
        "ttt = flapro_rel_maj_log %>% \t\n",
        "\tinner_join(lm_res_sel_factor_s, by = \"feature\") %>% \t\n",
        "\tinner_join(meta_samples, by = \"Sample\") %>% \n",
        "\tmutate(sign_estimate = factor(sign(estimate))) %>% \t\t\n",
        "\tmutate(Cluster_Species_trimmed = ifelse(\t\t\n",
        "\t\t\tstr_detect(Cluster_Species, \";\"),\t\t\t\n",
        "\t\t\tpaste0(str_extract(Cluster_Species, \"^[^;]+\"), \"+\"),\n",
        "\t\t\tCluster_Species)\t\t\n",
        "\t) %>%\n",
        "\tmutate(FlaCluster_ext = paste(feature, \"\\n\", Cluster_Species_trimmed, \"\\n\", Cluster_Pred, sep = \"\")) %>% \n",
        "    # subset to groups    \n",
        "    filter(Group %in% GROUPS_TO_COMPARE)\n",
        "#ttt\n",
        "\n",
        "if(nrow(ttt) > 0) {\n",
        "\tggplot(ttt, aes(y = value, x = Group)) +\t\t\n",
        "\t\t## log scale y\n",
        "\t\t#scale_y_log10() +\n",
        "\t\tgeom_boxplot(width = 0.1) +\n",
        "\t\tgeom_violin(color=\"#888888\", alpha=0.1, size=0.5) +\n",
        "\t\tgeom_jitter(aes(color = sign_estimate), alpha=0.1, size=3, width=0.3, height = 0) +\n",
        "\t\tscale_color_manual(values = c(\"-1\" = \"blue\", \"1\" = \"red\")) +\n",
        "\t\tfacet_wrap(~FlaCluster_ext, ncol = num_per_row, scales = \"free\") +\t\t\t\n",
        "\t\ttheme_bw() +\t\t\n",
        "\t\t# no grid\n",
        "\t\ttheme(panel.grid.major = element_blank(), panel.grid.minor = element_blank()) +\n",
        "\t\t# no grey fill for facet\n",
        "\t\ttheme(strip.background = element_blank()) +\n",
        "\t\t# no legend\n",
        "\t\ttheme(legend.position = \"none\") +\n",
        "\n",
        "\t\t# y axis title: Abundance\n",
        "\t\tylab(\"Relative abundance (log10)\")\n",
        "}"
      ]
    },
    {
      "cell_type": "markdown",
      "id": "7014315e",
      "metadata": {
        "block_path": "notebooks/differential_analysis/notebook_generator/blocks/_shared/07_t_component_based.ipynb",
        "source_hash": "bb2cd97d5ff49036cc69d4837fd1f891289dfcac",
        "tags": [
          "template"
        ]
      },
      "source": [
        "#### Wilcoxon (only performed when there are 2 clinical groups selected)"
      ]
    },
    {
      "cell_type": "code",
      "execution_count": null,
      "id": "12e4217b",
      "metadata": {
        "block_path": "notebooks/differential_analysis/notebook_generator/blocks/_shared/07_t_component_based.ipynb",
        "source_hash": "9ea353fd818e3599b12886c691130b93b266267a",
        "tags": [
          "template"
        ],
        "vscode": {
          "languageId": "r"
        }
      },
      "outputs": [],
      "source": [
        "# Perform Wilcoxon test for each flagellin between the groups (without discarding the outliers)\n",
        "wil_in = flapro_rel[[SCENARIO_COMPON]] %>% \n",
        "    inner_join(meta_samples %>% select(Sample, Group), by = \"Sample\") %>% \n",
        "    # subset to selected groups    \n",
        "    filter(Group %in% GROUPS_TO_COMPARE)\n",
        "\n",
        "#go_wilcox = length(GROUPS_TO_COMPARE) == 2\n",
        "go_wilcox = FALSE\n",
        "\n",
        "if(go_wilcox) {\n",
        "    wilcox_results = wil_in %>%            \n",
        "        group_by(FlaCluster) %>%\n",
        "        summarise(\n",
        "            p_value = wilcox.test(Abundance_rel ~ Group)$p.value,\n",
        "            .groups = 'drop'\n",
        "        ) %>% \n",
        "        arrange(p_value) %>% \n",
        "        # adjust p-values\n",
        "        mutate(p_value_adj = p.adjust(p_value, method = \"BH\"))\n",
        "    #wilcox_results\n",
        "\n",
        "    wilcox_results = wilcox_results %>% \n",
        "        inner_join(meta_fla_clus, by = \"FlaCluster\") %>% \n",
        "        filter(p_value_adj < 0.1) %>% \n",
        "        #select(Flagellin_ID, Genus, Species, p_value, p_value_adj) %>% \n",
        "        arrange(p_value_adj)\n",
        "}\n",
        "if(go_wilcox) {\n",
        "    df.dims(100)\n",
        "    print(wilcox_results)\n",
        "    df.dims(5)\n",
        "}"
      ]
    },
    {
      "cell_type": "code",
      "execution_count": null,
      "id": "c4dc3706",
      "metadata": {
        "block_path": "notebooks/differential_analysis/notebook_generator/blocks/_shared/07_t_component_based.ipynb",
        "source_hash": "5f81eb983ddbb69976e04d8f316a9407bf027de1",
        "tags": [
          "template"
        ],
        "vscode": {
          "languageId": "r"
        }
      },
      "outputs": [],
      "source": [
        "if(go_wilcox) {\n",
        "\tif(nrow(wilcox_results) > 0) {\n",
        "\t\tp.dims(6, 6)\n",
        "\n",
        "\t\tttt = flapro_rel %>% \t\n",
        "\t\t\tsemi_join(wilcox_results, by = \"FlaCluster\") %>% \t\n",
        "\t\t\tinner_join(meta_samples, by = \"Sample\") %>% \t\t\n",
        "\t\t\t# subset to groups\n",
        "\t\t\tfilter(Group %in% GROUPS_TO_COMPARE)\n",
        "\t\t#ttt\n",
        "\n",
        "\t\tif(nrow(ttt) > 0) {\n",
        "\t\t\tggplot(ttt, aes(y = Abundance_rel, x = Group)) +\t\t\n",
        "\t\t\t\t# log scale y\n",
        "\t\t\t\t(if (!ADD_ADJUST_FOR_FACTORS_COMPON) scale_y_log10() else NULL) + \n",
        "\t\t\t\tgeom_boxplot(width = 0.1) +\n",
        "\t\t\t\tgeom_violin(color=\"#888888\", alpha=0.1, size=0.5) +\n",
        "\t\t\t\tgeom_jitter(color=\"green\", alpha=0.2, size=3, width=0.3) +\n",
        "\t\t\t\tfacet_wrap(~FlaCluster) +\t\n",
        "\t\t\t\ttheme_bw()\t\n",
        "\t\t}\n",
        "\t}\n",
        "}"
      ]
    },
    {
      "cell_type": "code",
      "execution_count": null,
      "id": "8baaa9f1",
      "metadata": {
        "block_path": "notebooks/differential_analysis/notebook_generator/blocks/_shared/07_t_component_based.ipynb",
        "source_hash": "ae027c6c6f5595c0d35ddbc03c090d5e878dc723",
        "vscode": {
          "languageId": "r"
        }
      },
      "outputs": [],
      "source": [
        "# write the stat. results into a multi-sheet xls, with auto column width\n",
        "openxlsx::write.xlsx(df_list_stats_compon_results, out_stat_compon_xlsx_file, colWidths=\"auto\")"
      ]
    },
    {
      "cell_type": "markdown",
      "id": "7c3b3085",
      "metadata": {
        "block_path": "notebooks/differential_analysis/notebook_generator/blocks/_shared/08_t_composition_based.ipynb",
        "source_hash": "a612584e761d408b2fd73f2aeef6b361f8e1c161"
      },
      "source": [
        "## Compositional analysis (available for MTX or MGX, not their ratio)"
      ]
    },
    {
      "cell_type": "markdown",
      "id": "b1e07c1d",
      "metadata": {
        "block_path": "notebooks/differential_analysis/notebook_generator/blocks/_shared/08_t_composition_based.ipynb",
        "source_hash": "11e75a3b6103fb5f5265136d34185d2942a4703a"
      },
      "source": [
        "### Init normalized abundance and CLR "
      ]
    },
    {
      "cell_type": "code",
      "execution_count": null,
      "id": "028fd11c",
      "metadata": {
        "block_path": "notebooks/differential_analysis/notebook_generator/blocks/_shared/08_t_composition_based.ipynb",
        "source_hash": "bd1b66bfb5ffab4a859973c78b2b06e09d148541",
        "vscode": {
          "languageId": "r"
        }
      },
      "outputs": [],
      "source": [
        "# prepare abundance data\n",
        "abundance_my = cmultRepl2(t(countData))\n",
        "clr_my = log(abundance_my) - rowMeans(log(abundance_my)) # CLR transformation\n",
        "dim(abundance_my)"
      ]
    },
    {
      "cell_type": "code",
      "execution_count": null,
      "id": "458e1b24",
      "metadata": {
        "block_path": "notebooks/differential_analysis/notebook_generator/blocks/_shared/08_t_composition_based.ipynb",
        "source_hash": "50fbae17e6dd1234c3bc51e0860a03e5b2e0bc10",
        "vscode": {
          "languageId": "r"
        }
      },
      "outputs": [],
      "source": [
        "clr_my_long = clr_my %>% rownames_to_column(\"Sample\") %>%\n",
        "    pivot_longer(cols = -c(\"Sample\"), names_to = \"feature\", values_to = \"value\") \n",
        "clr_my_long"
      ]
    },
    {
      "cell_type": "code",
      "execution_count": null,
      "id": "7265ea6e",
      "metadata": {
        "block_path": "notebooks/differential_analysis/notebook_generator/blocks/_shared/08_t_composition_based.ipynb",
        "source_hash": "d7bc364562f21e51449d50c3ae202c06e04413f6",
        "vscode": {
          "languageId": "r"
        }
      },
      "outputs": [],
      "source": [
        "# adjust compositional data for factor(s) - via residuals\n",
        "if(ADD_ADJUST_FOR_FACTORS_NB) {\n",
        "    clr_my_long = adjust_via_residuals(meta_samples, clr_my_long, ADD_ADJUST_FOR)\n",
        "    clr_my = clr_my_long %>% pivot_wider(names_from = \"feature\", values_from = \"value\") %>% \n",
        "        column_to_rownames(\"Sample\") %>% \n",
        "        as.data.frame()\n",
        "    # adjust abundance_my accordingly\n",
        "    abundance_my = inverse_clr(clr_my)\n",
        "}"
      ]
    },
    {
      "cell_type": "markdown",
      "id": "1dc00bd3",
      "metadata": {
        "block_path": "notebooks/differential_analysis/notebook_generator/blocks/_shared/08_t_composition_based.ipynb",
        "source_hash": "1f474303d6404c635131a505ba524036f0aa709e"
      },
      "source": [
        "### PCoA (Aitchison)"
      ]
    },
    {
      "cell_type": "code",
      "execution_count": null,
      "id": "72bd5d9e",
      "metadata": {
        "block_path": "notebooks/differential_analysis/notebook_generator/blocks/_shared/08_t_composition_based.ipynb",
        "source_hash": "b2bf830d180c460808bcd18cfedb01268a957b40",
        "vscode": {
          "languageId": "r"
        }
      },
      "outputs": [],
      "source": [
        "# compute an Euclidean distance matrix from clr_my\n",
        "dist_my = dist(clr_my, method = \"euclidean\")\n",
        "\n",
        "pcoa_res = ape::pcoa(dist_my)\n",
        "pve = round(pcoa_res$values$Relative_eig[1:3] * 100, 1) \n",
        "# concatenate those values to PC1 and PC2\n",
        "pve = paste0(\"PC\", 1:3, \" (\", pve, \"%)\")\n",
        "\n",
        "# plot a principal coordinate analysis\n",
        "pcoa_my = cmdscale(dist_my, k = 3)\n",
        "pcoa_my = as.data.frame(pcoa_my) %>% \n",
        "    rename(PCo1 = V1, PCo2 = V2, PCo3 = V3) #%>%\n",
        "\t#mutate(Sample = rownames(pcoa$points))\n",
        "pcoa_my = cbind(pcoa_my, meta_samples_NB)\n",
        "\n",
        "p.dims(9, 3)\n",
        "# plot PC1-2 and PC2-3 next to each other\n",
        "# PC1-2:\n",
        "p1 = ggplot(pcoa_my, aes(x = PCo1, y = PCo2, color = Group)) + \n",
        "  geom_point(size = 2) +  \n",
        "  xlab(pve[1]) +\n",
        "  ylab(pve[2]) +   \n",
        "  theme_classic() + \n",
        "  scale_color_manual(values = COHORT_COLORS) +\n",
        "  # increase bullets size in legend\n",
        "  guides(color = guide_legend(override.aes = list(size = 4)))\n",
        "#p1\n",
        "\n",
        "# PC1-3:\n",
        "p2 = ggplot(pcoa_my, aes(x = PCo1, y = PCo3, color = Group)) + \n",
        "  geom_point(size = 2) +  \n",
        "  xlab(pve[1]) +\n",
        "  ylab(pve[3]) +   \n",
        "  theme_classic() +  \n",
        "  scale_color_manual(values = COHORT_COLORS) +\n",
        "  # increase bullets size in legend\n",
        "  guides(color = guide_legend(override.aes = list(size = 4)))\n",
        "#p2\n",
        "# plot p1 and p2 next to each other\n",
        "gridExtra::grid.arrange(p1, p2, ncol=2)"
      ]
    },
    {
      "cell_type": "markdown",
      "id": "175ec543",
      "metadata": {
        "block_path": "notebooks/differential_analysis/notebook_generator/blocks/_shared/08_t_composition_based.ipynb",
        "source_hash": "b16dcfdb6fee85f6ad07c0c5175ddc17adcec381"
      },
      "source": [
        "### save a copy so that we can later compute the NB for the full set of samples"
      ]
    },
    {
      "cell_type": "code",
      "execution_count": null,
      "id": "9c172ca0",
      "metadata": {
        "block_path": "notebooks/differential_analysis/notebook_generator/blocks/_shared/08_t_composition_based.ipynb",
        "source_hash": "9b985c6deb0d7ab388edf54fbd73b6a3df98d641",
        "vscode": {
          "languageId": "r"
        }
      },
      "outputs": [],
      "source": [
        "countData_full = countData\n",
        "meta_samples_full = meta_samples\n",
        "abundance_my_full = abundance_my\n",
        "clr_my_full = clr_my"
      ]
    },
    {
      "cell_type": "markdown",
      "id": "73a3ba99",
      "metadata": {
        "block_path": "notebooks/differential_analysis/notebook_generator/blocks/_shared/08_t_composition_based.ipynb",
        "source_hash": "aeb11702c23a9eddc02d3566003cbce4d46f078f"
      },
      "source": [
        "### Create filter #2 for samples"
      ]
    },
    {
      "cell_type": "code",
      "execution_count": null,
      "id": "d6a42729",
      "metadata": {
        "block_path": "notebooks/differential_analysis/notebook_generator/blocks/_shared/08_t_composition_based.ipynb",
        "source_hash": "7bbdc108a198dc0c1f5ebff902a203a98d452397",
        "vscode": {
          "languageId": "r"
        }
      },
      "outputs": [],
      "source": [
        "to_leave2 = meta_samples_NB %>% \t\n",
        "\n",
        "\tfilter(Group %in% GROUPS_TO_COMPARE) %>% \n",
        "\n",
        "\tselect(Sample) %>% pull\n",
        "\n",
        "length(to_leave2)"
      ]
    },
    {
      "cell_type": "markdown",
      "id": "cf3fdf27",
      "metadata": {
        "block_path": "notebooks/differential_analysis/notebook_generator/blocks/_shared/08_t_composition_based.ipynb",
        "source_hash": "2a133124172c28e8941d83a9f8701821f771aa3e"
      },
      "source": [
        "### generate a filtering preview (might visualize pre- and post-filtering data here)"
      ]
    },
    {
      "cell_type": "code",
      "execution_count": null,
      "id": "af51386f",
      "metadata": {
        "block_path": "notebooks/differential_analysis/notebook_generator/blocks/_shared/08_t_composition_based.ipynb",
        "source_hash": "7b8dbcf77f621c928e734a7b87ace4286a829275",
        "vscode": {
          "languageId": "r"
        }
      },
      "outputs": [],
      "source": [
        "meta_samples_preview = meta_samples_NB %>% filter(Sample %in% to_leave2)\n",
        "nrow(meta_samples_preview)\n",
        "\n",
        "meta_samples_preview %>% select(Group) %>% table()"
      ]
    },
    {
      "cell_type": "code",
      "execution_count": null,
      "id": "e567b91b",
      "metadata": {
        "block_path": "notebooks/differential_analysis/notebook_generator/blocks/_shared/08_t_composition_based.ipynb",
        "source_hash": "b6b7c4602468a4fd74108076a8e0286fb90ca841",
        "vscode": {
          "languageId": "r"
        }
      },
      "outputs": [],
      "source": [
        "length(to_leave2)\n",
        "#setdiff(to_leave2, colnames(countData))"
      ]
    },
    {
      "cell_type": "code",
      "execution_count": null,
      "id": "bc431aad",
      "metadata": {
        "block_path": "notebooks/differential_analysis/notebook_generator/blocks/_shared/08_t_composition_based.ipynb",
        "source_hash": "2651bec73cc48e0eb1ef95a5732a32bbd87cfe83",
        "vscode": {
          "languageId": "r"
        }
      },
      "outputs": [],
      "source": [
        "countData_preview = countData[, sort(to_leave2)]"
      ]
    },
    {
      "cell_type": "markdown",
      "id": "13ffa947",
      "metadata": {
        "block_path": "notebooks/differential_analysis/notebook_generator/blocks/_shared/08_t_composition_based.ipynb",
        "source_hash": "3a615aaef0f47f8d667bef7e260c5926abe87a24"
      },
      "source": [
        "### apply the filter #2"
      ]
    },
    {
      "cell_type": "code",
      "execution_count": null,
      "id": "f903b78c",
      "metadata": {
        "block_path": "notebooks/differential_analysis/notebook_generator/blocks/_shared/08_t_composition_based.ipynb",
        "source_hash": "10a1fcc6c1ee7739bb933443a241f16c4c84c89c",
        "vscode": {
          "languageId": "r"
        }
      },
      "outputs": [],
      "source": [
        "countData = countData_preview\n",
        "meta_samples = meta_samples_preview\n",
        "abundance_my = abundance_my[sort(colnames(countData)),] \n",
        "clr_my = clr_my[sort(colnames(countData_preview)),]\n",
        "\n",
        "\n",
        "# meta_samples: drop the non-presented factor levels\n",
        "meta_samples$Group = droplevels(meta_samples$Group)"
      ]
    },
    {
      "cell_type": "code",
      "execution_count": null,
      "id": "310f8b61",
      "metadata": {
        "block_path": "notebooks/differential_analysis/notebook_generator/blocks/_shared/08_t_composition_based.ipynb",
        "source_hash": "77edd34eb760770d3f69c62fe33a3f9d085cc35b",
        "vscode": {
          "languageId": "r"
        }
      },
      "outputs": [],
      "source": [
        "test_that(\"countData and meta match\", {\n",
        "\texpect_equal(sort(meta_samples %>% select(Sample) %>% pull), sort(colnames(countData)))\n",
        "})"
      ]
    },
    {
      "cell_type": "markdown",
      "id": "3e4c3316",
      "metadata": {
        "block_path": "notebooks/differential_analysis/notebook_generator/blocks/_shared/08_t_composition_based.ipynb",
        "source_hash": "90f4287a66d73bf350c198eddd2b63a512ba356e"
      },
      "source": [
        "### weiter"
      ]
    },
    {
      "cell_type": "code",
      "execution_count": null,
      "id": "c26af6c2",
      "metadata": {
        "block_path": "notebooks/differential_analysis/notebook_generator/blocks/_shared/08_t_composition_based.ipynb",
        "source_hash": "1e2d6ef51850907ad749ed5a99dd38ca812ab3d5",
        "vscode": {
          "languageId": "r"
        }
      },
      "outputs": [],
      "source": [
        "# prepare a dataframe version of meta_by_sample and sort it by Sample\n",
        "meta_df = data.frame(meta_samples %>% column_to_rownames(\"Sample\")) \n",
        "#meta_df = meta_df[order(rownames(meta_df)),]\n",
        "meta_df"
      ]
    },
    {
      "cell_type": "code",
      "execution_count": null,
      "id": "9d5a9290",
      "metadata": {
        "block_path": "notebooks/differential_analysis/notebook_generator/blocks/_shared/08_t_composition_based.ipynb",
        "source_hash": "329f3b4b460c2c500361e86dcb67e7b37b44777c",
        "vscode": {
          "languageId": "r"
        }
      },
      "outputs": [],
      "source": [
        "test_that(\"meta_df and matrices have the same samples in the same order\", {\n",
        "\texpect_equal(rownames(meta_df), rownames(clr_my))\t\n",
        "})"
      ]
    },
    {
      "cell_type": "code",
      "execution_count": null,
      "id": "d9b18024",
      "metadata": {
        "block_path": "notebooks/differential_analysis/notebook_generator/blocks/_shared/08_t_composition_based.ipynb",
        "source_hash": "d22dd758a3bea10c9bc5e2b11d5173d97b119b7e",
        "vscode": {
          "languageId": "r"
        }
      },
      "outputs": [],
      "source": [
        "# though there was initial Fla filtering, some might have become zeroed out during the samples filtering\n",
        "# so we need to remove them.\n",
        "# get the names of the rows in countData with fewer than 5 non-zero values\n",
        "# and remove them from countData and bracken_perc\n",
        "low_features = names(which(rowSums(countData > 0) < 5))\n",
        "test_that(\"no low features\", {\n",
        "\texpect_equal(length(low_features), 0)\n",
        "})"
      ]
    },
    {
      "cell_type": "markdown",
      "id": "ef493b2e",
      "metadata": {
        "block_path": "notebooks/differential_analysis/notebook_generator/blocks/_shared/08_t_composition_based.ipynb",
        "source_hash": "f2b8d98f8e83ef0979bf9e5a1284d88ddeaf6d68"
      },
      "source": [
        "### Nearest Balance:"
      ]
    },
    {
      "cell_type": "markdown",
      "id": "55ad79e8",
      "metadata": {
        "block_path": "notebooks/differential_analysis/notebook_generator/blocks/_shared/08_t_composition_based.ipynb",
        "source_hash": "1e45cff6839470343540e150a205ef8f5451e47b"
      },
      "source": [
        "### PERMANOVA"
      ]
    },
    {
      "cell_type": "code",
      "execution_count": null,
      "id": "84db0411",
      "metadata": {
        "block_path": "notebooks/differential_analysis/notebook_generator/blocks/_shared/08_t_composition_based.ipynb",
        "source_hash": "f5d1f26227189e5fd29a6f8b99ff6c19691bdb0a",
        "vscode": {
          "languageId": "r"
        }
      },
      "outputs": [],
      "source": [
        "## check for heteroscedasticity across the factor of interest\n",
        "#anova(betadisper(dist(clr_my), meta_df$sel_factor))"
      ]
    },
    {
      "cell_type": "code",
      "execution_count": null,
      "id": "ae0a0a11",
      "metadata": {
        "block_path": "notebooks/differential_analysis/notebook_generator/blocks/_shared/08_t_composition_based.ipynb",
        "source_hash": "a346ef5a90921291dcee0439c3a302088caa3d1d",
        "vscode": {
          "languageId": "r"
        }
      },
      "outputs": [],
      "source": [
        "df.dims(8)\n",
        "adonis2(reformulate(init_permanova_formula, response = \"dist(clr_my)\"), meta_df, permutations = N_PERMANOVA, by = \"terms\")"
      ]
    },
    {
      "cell_type": "code",
      "execution_count": null,
      "id": "bbe7ee44",
      "metadata": {
        "block_path": "notebooks/differential_analysis/notebook_generator/blocks/_shared/08_t_composition_based.ipynb",
        "source_hash": "d9f1251d4f1debd1eb48314659c9c9d0c612fa38",
        "vscode": {
          "languageId": "r"
        }
      },
      "outputs": [],
      "source": [
        "adonis2(reformulate(lm_nb_formula, response = \"dist(clr_my)\"), meta_df, permutations = N_PERMANOVA, by = \"terms\")"
      ]
    },
    {
      "cell_type": "code",
      "execution_count": null,
      "id": "ca206b55",
      "metadata": {
        "block_path": "notebooks/differential_analysis/notebook_generator/blocks/_shared/08_t_composition_based.ipynb",
        "source_hash": "70ab66a1e942fcf3b5ae089a0194f195fd14c251",
        "vscode": {
          "languageId": "r"
        }
      },
      "outputs": [],
      "source": [
        "coef_oa_bacs = do_clr_lm_get_fac_coeffs(lm_nb_formula, clr_my, meta_df, sel_factor_coef)\n",
        "coef_oa_bacs"
      ]
    },
    {
      "cell_type": "markdown",
      "id": "71f6c5fd",
      "metadata": {
        "block_path": "notebooks/differential_analysis/notebook_generator/blocks/_shared/08_t_composition_based.ipynb",
        "source_hash": "f896077876ec2a23a51d48de759a9836f491c64a"
      },
      "source": [
        "### Prepare splits for cross-validation"
      ]
    },
    {
      "cell_type": "code",
      "execution_count": null,
      "id": "4947e2a0",
      "metadata": {
        "block_path": "notebooks/differential_analysis/notebook_generator/blocks/_shared/08_t_composition_based.ipynb",
        "source_hash": "07250e87ad7a8a5d7284ab5d0b7ea85666d03ebc",
        "vscode": {
          "languageId": "r"
        }
      },
      "outputs": [],
      "source": [
        "if(!REPEAT_MEAS_NB) {\n",
        "    # Option A: default way: balanced by the factor of interest\n",
        "    splits = caret::createDataPartition(times = n_sim, y = meta_df[[sel_factor]], p = train_prop)\n",
        "} else {\n",
        "    # Option B: custom way: in each split, select 1 random time point per participant (and the test set is the rest - hence multiple time points - but we don't use it, so it's fine)\n",
        "    splits = vector(mode = \"list\", n_sim)\n",
        "    tmp_hashes = list()\n",
        "    for(i in 1:n_sim) {    \n",
        "        # the way below produces a single random time point per participant\n",
        "        # different across the iterations\n",
        "        subset_meta_df = meta_df %>% \n",
        "            mutate(rownum = row_number()) %>%\n",
        "            dplyr::slice_sample(n = 1, by = !!sym(REPEAT_MEAS_FACTOR)) %>%\n",
        "            dplyr::ungroup()\n",
        "        cur_tmp_hash = digest::digest(subset_meta_df)\n",
        "        #print(cur_tmp_hash)    \n",
        "        tmp_hashes[[i]] = cur_tmp_hash\n",
        "        #print(subset_meta_df)\n",
        "        \n",
        "        one_subset_split = caret::createDataPartition(times = 1, y = subset_meta_df[[sel_factor]], p = 1)   \n",
        "        splits[[i]] = as.vector(unlist(subset_meta_df[unlist(one_subset_split), \"rownum\"]))\n",
        "    }\n",
        "    # test that the randomization really worked across the iterations\n",
        "    test_that(\"randomization across iterations\", {\n",
        "        expect_equal(length(unique(tmp_hashes)), n_sim)\n",
        "    })\n",
        "    names(splits) = paste(\"Resample\", 1:n_sim, sep = \"\")\n",
        "}"
      ]
    },
    {
      "cell_type": "markdown",
      "id": "4de94310",
      "metadata": {
        "block_path": "notebooks/differential_analysis/notebook_generator/blocks/_shared/08_t_composition_based.ipynb",
        "source_hash": "bcc3728720417f2b57c97fecd5952a5d177c6cf0"
      },
      "source": [
        "### Parallel NB generation via cross-validations"
      ]
    },
    {
      "cell_type": "code",
      "execution_count": null,
      "id": "a2a43cd5",
      "metadata": {
        "block_path": "notebooks/differential_analysis/notebook_generator/blocks/_shared/08_t_composition_based.ipynb",
        "source_hash": "3f4d383d32867327c6124a36d0976f4692e73771",
        "vscode": {
          "languageId": "r"
        }
      },
      "outputs": [],
      "source": [
        "nb_list = parallel_run_nb(lm_nb_formula, sel_factor_coef, clr_my, meta_df, splits, n_sim, num_rparallel_cores)"
      ]
    },
    {
      "cell_type": "code",
      "execution_count": null,
      "id": "c7800382",
      "metadata": {
        "block_path": "notebooks/differential_analysis/notebook_generator/blocks/_shared/08_t_composition_based.ipynb",
        "source_hash": "96e6fba7b638a88fbc9e9d3eccd84b54b4b133f2",
        "vscode": {
          "languageId": "r"
        }
      },
      "outputs": [],
      "source": [
        "# in a repetitive measures case: PERMANOVA within a 1-sample-per-subject subsets \n",
        "# and then compare the generated p-values distribution to the significance threshold\n",
        "if(REPEAT_MEAS_NB) {\n",
        "    pvs_perm = c()\n",
        "    for(i in 1:n_sim) {\n",
        "        split = splits[[i]]    \n",
        "        cur_perm = adonis2(reformulate(init_permanova_formula, response = \"dist(clr_my[split,])\"), meta_df[split,,drop=F], permutations = N_PERMANOVA, by = \"terms\")\n",
        "        pvs_perm[i] = cur_perm[sel_factor, \"Pr(>F)\"]       \n",
        "    }\n",
        "    print(paste0(\"median p: \", median(pvs_perm)))\n",
        "    print(paste0(\"sd p: \", sd(pvs_perm)))\n",
        "    # compare the distribution with the significance threshold    \n",
        "    print(wilcox.test(pvs_perm, mu = 0.1, alternative = \"greater\"))\n",
        "}"
      ]
    },
    {
      "cell_type": "markdown",
      "id": "cb01ab82",
      "metadata": {
        "block_path": "notebooks/differential_analysis/notebook_generator/blocks/_shared/08_t_composition_based.ipynb",
        "source_hash": "e29b4d9222211234b0b6f4720ebfc52f2cfd6efd"
      },
      "source": [
        "### Process outputs of NB"
      ]
    },
    {
      "cell_type": "code",
      "execution_count": null,
      "id": "d38c14de",
      "metadata": {
        "block_path": "notebooks/differential_analysis/notebook_generator/blocks/_shared/08_t_composition_based.ipynb",
        "source_hash": "ea75d39a87d882d585821eac80f724edb1bf4dd3",
        "vscode": {
          "languageId": "r"
        }
      },
      "outputs": [],
      "source": [
        "res = aggregate_balance_iterations(nb_list, reproducibility_threshold)\n",
        "#res\n",
        "sbp_iters = res$sbp_iters\n",
        "sbp_consensus  = res$sbp_consensus"
      ]
    },
    {
      "cell_type": "code",
      "execution_count": null,
      "id": "c236c45b",
      "metadata": {
        "block_path": "notebooks/differential_analysis/notebook_generator/blocks/_shared/08_t_composition_based.ipynb",
        "source_hash": "6fae84bc70690c219ef7ab30e20eb30c6e589608",
        "vscode": {
          "languageId": "r"
        }
      },
      "outputs": [],
      "source": [
        "nb = format_consensus_balance(sbp_consensus)\n",
        "nb"
      ]
    },
    {
      "cell_type": "code",
      "execution_count": null,
      "id": "a3530343",
      "metadata": {
        "block_path": "notebooks/differential_analysis/notebook_generator/blocks/_shared/08_t_composition_based.ipynb",
        "source_hash": "83a24bcf31f38d87fecb561149bfda1dbaabdb37",
        "vscode": {
          "languageId": "r"
        }
      },
      "outputs": [],
      "source": [
        "balance_size(nb)"
      ]
    },
    {
      "cell_type": "code",
      "execution_count": null,
      "id": "1440e845",
      "metadata": {
        "block_path": "notebooks/differential_analysis/notebook_generator/blocks/_shared/08_t_composition_based.ipynb",
        "source_hash": "3a8f4e4c3fc2080c4f6daf415a6ab149daca29e9",
        "vscode": {
          "languageId": "r"
        }
      },
      "outputs": [],
      "source": [
        "# compute the consensus balance values for each sample \n",
        "nb_vals = compute_balance(abundance_my, nb)\n",
        "#nb_vals\n",
        "\n",
        "# link metadata to the balance values\n",
        "nb_vals_meta = nb_vals %>% inner_join(meta_samples, by = \"Sample\")\n",
        "nb_vals_meta"
      ]
    },
    {
      "cell_type": "markdown",
      "id": "4ade074d",
      "metadata": {
        "block_path": "notebooks/differential_analysis/notebook_generator/blocks/_shared/08_t_composition_based.ipynb",
        "source_hash": "5e7784a26f6169aafa30abb61d6564af82171df1"
      },
      "source": [
        "### Selected taxa within the balance: check out"
      ]
    },
    {
      "cell_type": "code",
      "execution_count": null,
      "id": "760730ed",
      "metadata": {
        "block_path": "notebooks/differential_analysis/notebook_generator/blocks/_shared/08_t_composition_based.ipynb",
        "source_hash": "d37cb6cc536bea0d4fa178816707b9bdcdf0a1ba",
        "vscode": {
          "languageId": "r"
        }
      },
      "outputs": [],
      "source": [
        "df.dims(20)\n",
        "sbp_iters %>% filter(taxName %like% \"APC11219_1\")\n",
        "df.dims(5)"
      ]
    },
    {
      "cell_type": "markdown",
      "id": "f38361cf",
      "metadata": {
        "block_path": "notebooks/differential_analysis/notebook_generator/blocks/_shared/08_t_composition_based.ipynb",
        "source_hash": "0b49b1602735fd24978b77f68d565382d2fd2b35"
      },
      "source": [
        "### Plot the balance values against the factors"
      ]
    },
    {
      "cell_type": "code",
      "execution_count": null,
      "id": "741ce799",
      "metadata": {
        "block_path": "notebooks/differential_analysis/notebook_generator/blocks/_shared/08_t_composition_based.ipynb",
        "source_hash": "e36501802ea4968e159d6058f6132e5960617a21",
        "vscode": {
          "languageId": "r"
        }
      },
      "outputs": [],
      "source": [
        "# Plot the relation between the balance values and continuous factor\n",
        "p.dims(4,3)\n",
        "ggplot(nb_vals_meta, aes(x = as.factor(!!sym(sel_factor)), y = NB_Value)) + \n",
        "\tgeom_violin() +\n",
        "\tgeom_boxplot(width = 0.2) +\n",
        "\tgeom_jitter(color=\"red\", alpha=0.2, size=3, width=0.2) +\n",
        "\t#geom_point(color=\"red\", alpha=0.2, size=3) +\n",
        "\t\n",
        "\t#geom_smooth(method = \"lm\", se = FALSE) +\n",
        "\t#geom_text(size = 1.5) +\n",
        "\tstat_smooth(method = \"loess\", se = FALSE) +\n",
        "\tlabs(x = sel_factor, y = \"Nearest balance\") + theme(legend.position = \"none\") +\t\n",
        "\ttheme_bw()"
      ]
    },
    {
      "cell_type": "code",
      "execution_count": null,
      "id": "8a913f62",
      "metadata": {
        "block_path": "notebooks/differential_analysis/notebook_generator/blocks/_shared/08_t_composition_based.ipynb",
        "source_hash": "bfdd00bc44382a9a81e1faf799c3287ccf4d4b6c",
        "vscode": {
          "languageId": "r"
        }
      },
      "outputs": [],
      "source": [
        "# Plot the relation between the balance values and continuous factor\n",
        "p.dims(4,3)\n",
        "ggplot(nb_vals_meta, aes(x = Group, y = NB_Value)) + \n",
        "\t#geom_boxplot() +\n",
        "    geom_violin(color=\"grey\", alpha=0.7, size=0.5) +\n",
        "\tgeom_boxplot(color=\"black\", alpha=1, size=0.5, width = 0.3) +\n",
        "\tgeom_jitter(color=\"red\", alpha=0.3, size=2, width=0.2) +\n",
        "\t\n",
        "\t\n",
        "\t#geom_smooth(method = \"lm\", se = FALSE) +\n",
        "\t#geom_text(size = 1.5) +\n",
        "\tstat_smooth(method = \"loess\", se = FALSE) +\n",
        "\tlabs(x = \"Group\", y = \"Balance values\") + theme(legend.position = \"none\") +\t\n",
        "\ttheme_bw()"
      ]
    },
    {
      "cell_type": "code",
      "execution_count": null,
      "id": "e6566e7c",
      "metadata": {
        "block_path": "notebooks/differential_analysis/notebook_generator/blocks/_shared/08_t_composition_based.ipynb",
        "source_hash": "b50d6d057e7b6d4cb7e36907718f91032dae55b7",
        "vscode": {
          "languageId": "r"
        }
      },
      "outputs": [],
      "source": [
        "# do regression\n",
        "nb_vals_meta %>% dplyr::do(broom::tidy(lm(reformulate(sel_factor, response = \"NB_Value\"), .)))\n"
      ]
    },
    {
      "cell_type": "markdown",
      "id": "df1cc70e",
      "metadata": {
        "block_path": "notebooks/differential_analysis/notebook_generator/blocks/_shared/08_t_composition_based.ipynb",
        "source_hash": "413ec029ec5a5fcbdc63bf3963df9b637188aa70"
      },
      "source": [
        "### go on preparing the balance"
      ]
    },
    {
      "cell_type": "code",
      "execution_count": null,
      "id": "87a21399",
      "metadata": {
        "block_path": "notebooks/differential_analysis/notebook_generator/blocks/_shared/08_t_composition_based.ipynb",
        "source_hash": "9bf0aa5d3c407cfd648dd5a512e4dc9e83d7ebf5",
        "vscode": {
          "languageId": "r"
        }
      },
      "outputs": [],
      "source": [
        "# join sbp_consensus_reprod with coef_oa_bacs\n",
        "nb_reprod_coef = join_coefs_and_sbp_reprod(get_sbp_consensus_with_reprod(sbp_iters), coef_oa_bacs)\n",
        "\n",
        "df.dims(20)\n",
        "nb_reprod_coef %>% arrange(desc(reprod))\n",
        "df.dims(5)"
      ]
    },
    {
      "cell_type": "code",
      "execution_count": null,
      "id": "f48190f5",
      "metadata": {
        "block_path": "notebooks/differential_analysis/notebook_generator/blocks/_shared/08_t_composition_based.ipynb",
        "source_hash": "2f3155897c9e790e0b47cafd691b342dde9a9d31",
        "vscode": {
          "languageId": "r"
        }
      },
      "outputs": [],
      "source": [
        "# add features info\n",
        "nb_reprod_coef = nb_reprod_coef %>% \t\n",
        "\tinner_join(meta_fla_clus, by = c(\"taxName\" = \"FlaCluster\")) %>% \n",
        "\tmutate(Cluster_Species_trimmed = ifelse(\t\t\n",
        "\t\t\tstr_detect(Cluster_Species, \";\"),\t\t\t\n",
        "\t\t\tpaste0(str_extract(Cluster_Species, \"^[^;]+\"), \"+\"),\n",
        "\t\t\tCluster_Species)\t\t\n",
        "\t) %>%\n",
        "\tmutate(taxName_ext = paste(taxName, Cluster_Species_trimmed, sep = \"; \"))\n",
        "nb_reprod_coef"
      ]
    },
    {
      "cell_type": "markdown",
      "id": "011748b8",
      "metadata": {
        "block_path": "notebooks/differential_analysis/notebook_generator/blocks/_shared/08_t_composition_based.ipynb",
        "source_hash": "c3fa8c74b35a2105623c2e125b117c4d97f3c42a"
      },
      "source": [
        "### Coefficients for each taxon in NB: plot"
      ]
    },
    {
      "cell_type": "code",
      "execution_count": null,
      "id": "e4079633",
      "metadata": {
        "block_path": "notebooks/differential_analysis/notebook_generator/blocks/_shared/08_t_composition_based.ipynb",
        "source_hash": "8aab1179ca4e6fce46dd8721b9e3fa06aed8ac77",
        "vscode": {
          "languageId": "r"
        }
      },
      "outputs": [],
      "source": [
        "p.dims(10,5)\n",
        "# draw horizontal barplots of the coefficient for each taxName\n",
        "pic = \n",
        "ggplot(nb_reprod_coef, aes(x = lm_coef, y = reorder(taxName_ext, lm_coef), fill = Cluster_Exp)) +\t\n",
        "\t#geom_bar(stat = \"identity\", linewidth = 0.2, position = \"dodge\") +\n",
        "\tgeom_bar(stat = \"identity\", linewidth = 0.2) +\n",
        "\ttheme_bw() +\n",
        "\tscale_alpha_continuous(range = c(0.1, 1)) +\t\n",
        "\ttheme(axis.text = element_text(size = 6)) +\t\n",
        "\tlabs(x = \"CLR LM coefficient\", y = \"\") + \t\n",
        "\t# rotate labels\n",
        "\ttheme(axis.text.x = element_text(angle = 60, hjust = 1), \n",
        "\t\tplot.margin = margin(l = 20)) +\n",
        "\t# rotate the plot 90 degrees\n",
        "\tcoord_flip() + \n",
        "\t# set a palette for the fill\n",
        "\tscale_fill_simpsons() +\t\n",
        "\t#scale_fill_ucscgb() +\n",
        "\t#scale_fill_igv() +\n",
        "\t\n",
        "\t#scale_fill_manual(values = all_fams_pal) +\n",
        "\n",
        "\t# legend text 10 \n",
        "\ttheme(legend.text = element_text(size = 8))\n",
        "pic"
      ]
    },
    {
      "cell_type": "code",
      "execution_count": null,
      "id": "6db17716",
      "metadata": {
        "block_path": "notebooks/differential_analysis/notebook_generator/blocks/_shared/08_t_composition_based.ipynb",
        "source_hash": "f3fbe7b42e6cba5855115a212c9731a5b77a768a",
        "vscode": {
          "languageId": "r"
        }
      },
      "outputs": [],
      "source": [
        "#p.dims(10,5)\n",
        "p.dims(8, 5)\n",
        "# draw horizontal barplots of the coefficient for each taxName\n",
        "pic = \n",
        "ggplot(nb_reprod_coef, aes(x = lm_coef, y = reorder(taxName_ext, lm_coef), fill = Cluster_Pred)) +\t\n",
        "#ggplot(nb_reprod_coef, aes(x = lm_coef, y = reorder(taxName, lm_coef), fill = Family)) +\t\n",
        "#ggplot(nb_reprod_coef, aes(x = lm_coef, y = reorder(taxName, lm_coef), fill = Experimental)) +\t# none?..\n",
        "\t#geom_bar(stat = \"identity\", linewidth = 0.2, position = \"dodge\") +\n",
        "\tgeom_bar(stat = \"identity\", linewidth = 0.2) +\n",
        "\ttheme_bw() +\n",
        "\tscale_alpha_continuous(range = c(0.1, 1)) +\t\n",
        "\ttheme(axis.text = element_text(size = 6)) +\t\n",
        "\tlabs(x = \"CLR LM coefficient\", y = \"\") + \t\n",
        "\t# rotate labels\n",
        "\ttheme(axis.text.x = element_text(angle = 60, hjust = 1), \n",
        "\t\tplot.margin = margin(l = 20)) +\n",
        "\t# rotate the plot 90 degrees\n",
        "\tcoord_flip() + \n",
        "\t# set a palette for the fill\n",
        "\t#scale_fill_simpsons() +\t\n",
        "\t#scale_fill_ucscgb() +\n",
        "\t#scale_fill_igv() +\n",
        "\tscale_fill_manual(values = FLA_CLASSES_COLORS) +\n",
        "\t\n",
        "\t#scale_fill_manual(values = all_fams_pal) +\n",
        "\n",
        "\t# legend text 10 \n",
        "\ttheme(legend.text = element_text(size = 8))\n",
        "pic\n"
      ]
    },
    {
      "cell_type": "code",
      "execution_count": null,
      "id": "b225045d",
      "metadata": {
        "block_path": "notebooks/differential_analysis/notebook_generator/blocks/_shared/08_t_composition_based.ipynb",
        "source_hash": "ff0df7358196683a91f0c71cd492873d55ca606f",
        "vscode": {
          "languageId": "r"
        }
      },
      "outputs": [],
      "source": [
        "p.dims(9,5)\n",
        "# draw horizontal barplots of the coefficient for each taxName\n",
        "pic = \n",
        "ggplot(nb_reprod_coef, aes(x = lm_coef, y = reorder(taxName_ext, lm_coef), fill = Cluster_Family)) +\t\n",
        "\t#geom_bar(stat = \"identity\", linewidth = 0.2, position = \"dodge\") +\n",
        "\tgeom_bar(stat = \"identity\", linewidth = 0.2) +\n",
        "\ttheme_bw() +\t\n",
        "\tlabs(x = \"Taxon coefficient\", y = \"\") + \t\n",
        "\tcoord_flip() + \n",
        "\t\n",
        "\ttheme(\n",
        "\t\t\t## legend (text), OR\t\t\n",
        "\t\t\tlegend.text = element_text(size = 10), legend.position = \"right\",\n",
        "\t\t\t#legend.text = element_text(size = 10), legend.position = \"bottom\",\n",
        "\t\t\t# legend OFF\n",
        "\t\t\t#legend.position = \"none\",\n",
        "\n",
        "\t\t\t#panel.border = element_blank(),\n",
        "\t\t\tpanel.grid.major = element_blank(),\n",
        "\t\t\tpanel.grid.minor = element_blank(),\n",
        "\t\t\taxis.line = element_line(colour = \"black\", linewidth = 0),\n",
        "\t\t\taxis.ticks = element_line(colour = \"black\", linewidth = 0.1),\n",
        "\t\t\tplot.title = element_text(hjust = 0.5, face = \"bold\"),\n",
        "\n",
        "\t\t\tstrip.background = element_blank(),\n",
        "\t\t\tstrip.text.x = element_blank(),\n",
        "\t\t\tpanel.border = element_rect(colour = \"black\", linewidth = 1),\n",
        "\n",
        "\t\t\t#axis.text = element_text(size = 10),\n",
        "\n",
        "\t\t\taxis.text.x = element_text(size = 8, color = \"black\",\n",
        "\t\t\t\t## enable tilted labels\n",
        "\t\t\t\t# default:\n",
        "\t\t\t\tangle = 60, \n",
        "\t\t\t\t# for MAGs (labels are longer)\n",
        "\t\t\t\t#angle = 70, \n",
        "\t\t\t\thjust = 1), \n",
        "\t\t\tplot.margin = margin(r = 5, l = 40),\n",
        "\n",
        "\t\t\t# or disable labels\n",
        "\t\t\t#axis.text.x = element_blank(), \n",
        "\t\t\t#plot.margin = margin(l = 20)\t\t\t\n",
        "\n",
        "\t\t\taxis.text.y = element_text(size = 10, color = \"black\"),\n",
        "\t\t\taxis.title.x = element_text(size = 12, face = \"bold\", color = \"black\"),\n",
        "\t\t\taxis.title.y = element_text(size = 12, face = \"bold\", color = \"black\")\t\t\t\n",
        "\t\t) +\n",
        "\n",
        "\tscale_fill_igv()\t\n",
        "\t\n",
        "pic\n"
      ]
    },
    {
      "cell_type": "code",
      "execution_count": null,
      "id": "870cd922",
      "metadata": {
        "block_path": "notebooks/differential_analysis/notebook_generator/blocks/_shared/08_t_composition_based.ipynb",
        "source_hash": "174b75baea3dbc4e22d58be6b5aa671e8f7af78c",
        "vscode": {
          "languageId": "r"
        }
      },
      "outputs": [],
      "source": [
        "fig_maker = function(fac, prof, tax_level) {\n",
        "\n",
        "\tpic = ggplot(list_nb_reprod_coef %>% filter(factor == fac, profiling == prof, taxonomic_level == tax_level), aes(x = lm_coef, y = reorder(taxName_ext, lm_coef), fill = Family)) +\t\t\t\n",
        "\t\t#geom_bar(stat = \"identity\", width = 1) +\n",
        "\t\tgeom_bar(stat = \"identity\") +\n",
        "\n",
        "\t\ttheme_bw() +\t\t\n",
        "\t\t\n",
        "\t\ttheme(axis.text = element_text(size = 10)) +\t\n",
        "\t\tlabs(x = \"Taxon coefficient\", y = \"\") + \t\n",
        "\t\t# rotate labels\n",
        "\t\ttheme(\n",
        "\t\t\t## enable tilted labels\n",
        "\t\t\taxis.text.x = element_text(size = 7, \n",
        "\n",
        "\t\t\t\t# default:\n",
        "\t\t\t\t#angle = 60, \n",
        "\t\t\t\t# for MAGs (labels are longer)\n",
        "\t\t\t\tangle = 70, \n",
        "\n",
        "\t\t\t\thjust = 1), \n",
        "\t\t\tplot.margin = margin(l = 40)\n",
        "\n",
        "\t\t\t# or disable labels\n",
        "\t\t\t#axis.text.x = element_blank(), \n",
        "\t\t\t#plot.margin = margin(l = 20)\n",
        "\t\t\t) +\n",
        "\n",
        "\t\t# This line can be toggled on/off:\t\t\t\n",
        "\t\tggtitle(qfactors_plots_n_tables_inv[[fac]]) +\t\t\t\t\n",
        "\n",
        "\t\t# rotate the plot 90 degrees\n",
        "\t\tcoord_flip() + \n",
        "\n",
        "\t\t# set a palette for the fill\t\t\n",
        "\t\t#scale_fill_manual(values = all_fams_pal) +\n",
        "\t\tscale_fill_manual(values = all_fams_pal, breaks = names(all_fams_pal)) +\n",
        "\n",
        "\t\t## legend (text), OR\t\t\n",
        "\t\t#theme(legend.text = element_text(size = 8), legend.position = \"right\") +\n",
        "\t\t#theme(legend.text = element_text(size = 8), legend.position = \"bottom\") +\n",
        "\t\t# legend OFF\n",
        "\t\ttheme(legend.position = \"none\") +\n",
        "\n",
        "\t\ttheme(\n",
        "\t\t\t#panel.border = element_blank(),\n",
        "\t\t\tpanel.grid.major = element_blank(),\n",
        "\t\t\tpanel.grid.minor = element_blank(),\n",
        "\t\t\taxis.line = element_line(colour = \"black\", linewidth = 0),\n",
        "\t\t\taxis.ticks = element_line(colour = \"black\", linewidth = 0.1),\n",
        "\t\t\tplot.title = element_text(hjust = 0.5, face = \"bold\"),\n",
        "\n",
        "\t\t\tstrip.background = element_blank(),\n",
        "\t\t\tstrip.text.x = element_blank(),\n",
        "\t\t\tpanel.border = element_rect(colour = \"black\", linewidth = 1),\n",
        "\n",
        "\t\t\taxis.text.x = element_text(size = 8, color = \"black\"),\n",
        "\t\t\taxis.text.y = element_text(size = 9, face = \"bold\", color = \"black\"),\n",
        "\t\t\taxis.title.x = element_text(size = 10, face = \"bold\", color = \"black\"),\n",
        "\t\t\taxis.title.y = element_text(size = 10, face = \"bold\", color = \"black\")\n",
        "\t\t\t\n",
        "\t\t\t)\n",
        "\t\n",
        "\t#pic\n",
        "}"
      ]
    },
    {
      "cell_type": "code",
      "execution_count": null,
      "id": "66d445c7",
      "metadata": {
        "block_path": "notebooks/differential_analysis/notebook_generator/blocks/_shared/08_t_composition_based.ipynb",
        "source_hash": "b2c1baebad7daa30630ec938b45f74a28a4b5022",
        "vscode": {
          "languageId": "r"
        }
      },
      "outputs": [],
      "source": [
        "p.dims(10, 5)\n",
        "\n",
        "ttt = flapro_rel[[SCENARIO_NB]] %>% \n",
        "\tinner_join(nb_reprod_coef, by = c(\"feature\" = \"taxName\")) %>% \n",
        "\tselect(feature, Sample, value, b1, Cluster_Species, Cluster_Pred) %>%\n",
        "\tinner_join(meta_samples_NB, by = \"Sample\")  %>% \n",
        "\tmutate(Association = ifelse(b1 > 0, \"positive\", \"negative\")) %>% \n",
        "\n",
        "\tmutate(Cluster_Species_trimmed = ifelse(\t\t\n",
        "\t\t\tstr_detect(Cluster_Species, \";\"),\t\t\t\n",
        "\t\t\tpaste0(str_extract(Cluster_Species, \"^[^;]+\"), \"+\"),\n",
        "\t\t\tCluster_Species)\t\t\n",
        "\t) %>%\n",
        "\tmutate(FlaCluster_ext = paste(feature, \"\\n\", Cluster_Species_trimmed, \"\\n\", Cluster_Pred, sep = \"\"))\t\n",
        "\t#mutate(FlaCluster_ext = paste(FlaCluster, \"\\n\", Cluster_Species, \"\\n\", Cluster_Pred_v3, sep = \"\")) \n",
        "ttt\n",
        "\n",
        "ggplot(ttt, aes(y = value, x = Group, color = Association)) +\t\t\n",
        "\t# log scale y\n",
        "\t(if (!ADD_ADJUST_FOR_FACTORS_COMPON) scale_y_log10() else NULL) + \n",
        "\tlabs(y = \"Abundance (log10)\") +\t\n",
        "\tgeom_boxplot(width = 0.1) +\n",
        "\tgeom_violin(color=\"#888888\", alpha=0.1, size=0.5) +\n",
        "\tgeom_jitter(alpha=0.1, size=3, width=0.3) +\n",
        "\tfacet_wrap(~FlaCluster_ext, ncol = 4) +\t\n",
        "\tscale_color_manual(values = c(\"negative\" = \"blue\", \"positive\" = \"red\")) +\n",
        "\ttheme_bw()\t"
      ]
    },
    {
      "cell_type": "markdown",
      "id": "f55c24f6",
      "metadata": {
        "block_path": "notebooks/differential_analysis/notebook_generator/blocks/_shared/08_t_composition_based.ipynb",
        "source_hash": "979b85be2d90dd2a7d50c40ac35e74779725a294"
      },
      "source": [
        "### Compute the NB for the full dataset\n",
        "Meaningful if the above analysis was conducted for a subset of the samples."
      ]
    },
    {
      "cell_type": "code",
      "execution_count": null,
      "id": "718480c4",
      "metadata": {
        "block_path": "notebooks/differential_analysis/notebook_generator/blocks/_shared/08_t_composition_based.ipynb",
        "source_hash": "3f7d6fffdf8e24663dc6975619bf07b57826c1aa",
        "vscode": {
          "languageId": "r"
        }
      },
      "outputs": [],
      "source": [
        "# compute the consensus balance values for each sample \n",
        "nb_vals_full = compute_balance(abundance_my_full, nb)\n",
        "dim(nb_vals_full)\n",
        "nb_vals_meta_full = nb_vals_full %>% inner_join(meta_samples_full, by = \"Sample\")\n",
        "nb_vals_meta_full"
      ]
    },
    {
      "cell_type": "code",
      "execution_count": null,
      "id": "bedaf09c",
      "metadata": {
        "block_path": "notebooks/differential_analysis/notebook_generator/blocks/_shared/08_t_composition_based.ipynb",
        "source_hash": "07532d93a08c2a809768ae09b6404b2fdb623669",
        "vscode": {
          "languageId": "r"
        }
      },
      "outputs": [],
      "source": [
        "p.dims(8, 4)\n",
        "ggplot(nb_vals_meta_full, aes(x = as.factor(!!sym(sel_factor)), y = NB_Value)) + \n",
        "    geom_boxplot(width = 0.3) +\n",
        "    geom_jitter(aes(color = as.factor(!!sym(sel_factor))), alpha=0.7, size=2, width=0.3, height = 0) +\n",
        "    #facet_grid(. ~ !!sym(sel_factor)) +\n",
        "    #geom_point(color=\"red\", alpha=0.2, size=3) +\n",
        "    #geom_smooth(method = \"lm\", se = FALSE) +\t\n",
        "    #geom_text(size = 1.5) +\n",
        "    #stat_smooth(method = \"loess\", se = FALSE) +\n",
        "    labs(x = sel_factor, y = \"Nearest balance\") + theme(legend.position = \"none\") +\t\n",
        "    scale_color_futurama() +\t\n",
        "    \n",
        "    # y tick and y axis label every 1\n",
        "    scale_y_continuous(breaks = scales::pretty_breaks(n = 10)) +\t\n",
        "    theme_bw()"
      ]
    },
    {
      "cell_type": "markdown",
      "id": "5a8db7db",
      "metadata": {
        "block_path": "notebooks/differential_analysis/notebook_generator/blocks/IBD/09_per_subject.ipynb",
        "source_hash": "5b5c9a2f3553e98f186f2c53182a041ad8e8966b"
      },
      "source": [
        "# Per-subject balance"
      ]
    },
    {
      "cell_type": "code",
      "execution_count": null,
      "id": "73921a53",
      "metadata": {
        "block_path": "notebooks/differential_analysis/notebook_generator/blocks/IBD/09_per_subject.ipynb",
        "source_hash": "566fa526c78cde15dee0a5de2028d16e29adee88",
        "vscode": {
          "languageId": "r"
        }
      },
      "outputs": [],
      "source": [
        "to_plot = nb_vals_meta_full %>% \n",
        "        mutate(Participant_ID = factor(Participant_ID, \n",
        "            levels = sample(unique(Participant_ID[order(Group)])))) %>% \n",
        "        mutate(sample_num_seq = paste0(Group, \"_\", Participant_ID, \"_\", week_num)) \n",
        "to_plot"
      ]
    },
    {
      "cell_type": "code",
      "execution_count": null,
      "id": "320664b3",
      "metadata": {
        "block_path": "notebooks/differential_analysis/notebook_generator/blocks/IBD/09_per_subject.ipynb",
        "source_hash": "2d3d8e732b4d79db75e41f279b93918fac18a963",
        "vscode": {
          "languageId": "r"
        }
      },
      "outputs": [],
      "source": [
        "p.dims(14, 14)\n",
        "ggplot(to_plot,        \n",
        "        #aes(x = as.factor(!!sym(sel_factor)), y = NB_Value)) + \n",
        "        aes(x = sample_num_seq, y = NB_Value)) +        \n",
        "    geom_point(aes(color = Participant_ID), alpha=0.7, size=2, width=0.3, height = 0) +    \n",
        "    facet_wrap(~ Group, nrow = 3, scales = \"free\" ) +\n",
        "    #geom_point(color=\"red\", alpha=0.2, size=3) +\n",
        "    #geom_smooth(method = \"lm\", se = FALSE) +\t\n",
        "    #geom_text(size = 1.5) +\n",
        "    #stat_smooth(method = \"loess\", se = FALSE) +\n",
        "    labs(x = sel_factor, y = \"Nearest balance\") + theme(legend.position = \"none\") +\t\n",
        "    # shuffle the default ggplot palette\n",
        "    \n",
        "\n",
        "\n",
        "    #scale_color_futurama() +\t\n",
        "    theme_bw() +\n",
        "    # no grid\n",
        "    theme(panel.grid.major = element_blank(), panel.grid.minor = element_blank()) +\n",
        "    # no X axis labels\n",
        "    theme(axis.text.x = element_blank())    \n",
        "    "
      ]
    },
    {
      "cell_type": "code",
      "execution_count": null,
      "id": "4f1ad7a8",
      "metadata": {
        "block_path": "notebooks/differential_analysis/notebook_generator/blocks/IBD/09_per_subject.ipynb",
        "source_hash": "53e7ab72fff29ce2258bfe5287becc256461cdfc",
        "vscode": {
          "languageId": "r"
        }
      },
      "outputs": [],
      "source": [
        "p.dims(12, 8)\n",
        "ggplot(to_plot,        \n",
        "        #aes(x = as.factor(!!sym(sel_factor)), y = NB_Value)) + \n",
        "        aes(x = week_num, y = NB_Value, group = Participant_ID)) +            \n",
        "    geom_line(alpha=0.7, size=0.3, height = 0) +    \n",
        "    facet_wrap(~ Group, nrow = 3, scales = \"free\" ) +\n",
        "    geom_point(color=\"red\", alpha=0.6, size=2) +\n",
        "    #geom_smooth(method = \"lm\", se = FALSE) +\t\n",
        "    #geom_text(size = 1.5) +\n",
        "    #stat_smooth(method = \"loess\", se = FALSE) +\n",
        "    labs(x = sel_factor, y = \"Nearest balance\") + theme(legend.position = \"none\") +\t\n",
        "    #scale_color_futurama() +\t\n",
        "    theme_bw() +\n",
        "    # no grid\n",
        "    theme(panel.grid.major = element_blank(), panel.grid.minor = element_blank())"
      ]
    },
    {
      "cell_type": "code",
      "execution_count": null,
      "id": "b860326d",
      "metadata": {
        "block_path": "notebooks/differential_analysis/notebook_generator/blocks/IBD/09_per_subject.ipynb",
        "source_hash": "0a98ec3dda8b45e229da9bedc338e27d00c42383",
        "vscode": {
          "languageId": "r"
        }
      },
      "outputs": [],
      "source": []
    }
  ],
  "metadata": {
    "kernelspec": {
      "display_name": "R",
      "language": "R",
      "name": "ir"
    },
    "language_info": {
      "codemirror_mode": "r",
      "file_extension": ".r",
      "mimetype": "text/x-r-source",
      "name": "R",
      "pygments_lexer": "r",
      "version": "4.2.2"
    }
  },
  "nbformat": 4,
  "nbformat_minor": 2
}
