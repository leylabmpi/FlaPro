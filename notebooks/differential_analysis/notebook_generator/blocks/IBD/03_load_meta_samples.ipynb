{
 "cells": [
  {
   "cell_type": "markdown",
   "metadata": {},
   "source": [
    "## [ps] meta - samples"
   ]
  },
  {
   "cell_type": "code",
   "execution_count": null,
   "metadata": {
    "vscode": {
     "languageId": "r"
    }
   },
   "outputs": [],
   "source": [
    "meta_samples = lapply(AVAILABLE_OMICS, function(x) {\n",
    "    read_tsv(meta_samples_file[[x]], col_names = TRUE) %>%     \n",
    "        rename(Participant_ID = \"Participant.ID\", Internal_BioSample_ID = \"sample_alias_nodif\", Sample = \"run_accession\", Group = \"diagnosis\")\n",
    "}) %>% setNames(AVAILABLE_OMICS)"
   ]
  },
  {
   "cell_type": "code",
   "execution_count": null,
   "metadata": {
    "vscode": {
     "languageId": "r"
    }
   },
   "outputs": [],
   "source": [
    "hmp_metadata_original = read_csv(hmp_metadata_original_file, col_names = TRUE) %>% \n",
    "    rename(Participant_ID = \"Participant ID\", Age = \"consent_age\", Sex = \"sex\")        \n",
    "hmp_metadata_original"
   ]
  }
 ],
 "metadata": {
  "kernelspec": {
   "display_name": "R",
   "language": "R",
   "name": "ir"
  },
  "language_info": {
   "codemirror_mode": "r",
   "file_extension": ".r",
   "mimetype": "text/x-r-source",
   "name": "R",
   "pygments_lexer": "r",
   "version": "4.2.2"
  }
 },
 "nbformat": 4,
 "nbformat_minor": 2
}
