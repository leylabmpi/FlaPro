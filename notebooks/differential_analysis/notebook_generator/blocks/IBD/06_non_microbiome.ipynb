{
 "cells": [
  {
   "cell_type": "markdown",
   "id": "98ae35ca",
   "metadata": {
    "vscode": {
     "languageId": "r"
    }
   },
   "source": [
    "## [ps] Non-microbiome basics"
   ]
  },
  {
   "cell_type": "code",
   "execution_count": null,
   "id": "6bf02c27",
   "metadata": {
    "block_path": "blocks/_shared/01_load_libs.ipynb",
    "vscode": {
     "languageId": "r"
    }
   },
   "outputs": [],
   "source": [
    "# NONE"
   ]
  }
 ],
 "metadata": {
  "language_info": {
   "name": "python"
  }
 },
 "nbformat": 4,
 "nbformat_minor": 5
}
