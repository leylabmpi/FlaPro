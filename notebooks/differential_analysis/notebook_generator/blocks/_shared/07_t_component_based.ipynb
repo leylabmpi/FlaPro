{
  "cells": [
    {
      "cell_type": "markdown",
      "id": "4bb83801",
      "metadata": {
        "tags": [
          "template"
        ]
      },
      "source": [
        "## Component-wise (flapro_REL)\n",
        "over metagenome-coverage normalized relative abundance "
      ]
    },
    {
      "cell_type": "code",
      "execution_count": {},
      "id": "56a266d8",
      "metadata": {
        "tags": [
          "template"
        ],
        "vscode": {
          "languageId": "r"
        }
      },
      "outputs": [],
      "source": [
        "flapro_rel[[SCENARIO_COMPON]] %>% inner_join(meta_samples, by = \"Sample\") %>% \n",
        "    select(Sample, Group) %>%\n",
        "    distinct() %>%\n",
        "    select(Group) %>%\n",
        "    table()"
      ]
    },
    {
      "cell_type": "markdown",
      "id": "70c9e3b9",
      "metadata": {
        "tags": [
          "template"
        ]
      },
      "source": [
        "### summarized Fla measures per sample"
      ]
    },
    {
      "cell_type": "code",
      "execution_count": {},
      "id": "79250bc8",
      "metadata": {
        "vscode": {
          "languageId": "r"
        }
      },
      "outputs": [],
      "source": [
        "# compute total *relative* fla counts per sample\n",
        "flapro_rel_total_all = flapro_rel[[SCENARIO_COMPON]] %>% \n",
        "        group_by(Sample) %>% \n",
        "        summarise(sum_rel_abund = sum(value)) %>% \n",
        "        ungroup() %>%        \n",
        "        rename(value = \"sum_rel_abund\") %>% \n",
        "        mutate(feature = \"sum_rel_abund_F_all\") %>%         \n",
        "        #inner_join(meta_samples, by = \"Sample\") %>%      \n",
        "        arrange(Sample)\n",
        "flapro_rel_total_all\n",
        "\n",
        "# save to file\n",
        "write_tsv(flapro_rel_total_all %>% pivot_wider(names_from = feature, values_from = value), file.path(PROJ_OUTPUT_DIR, paste0(\"flapro_rel_total_all_\", SCENARIO_COMPON, \".tsv\")))"
      ]
    },
    {
      "cell_type": "code",
      "execution_count": {},
      "id": "f4ad270c",
      "metadata": {
        "tags": [
          "template"
        ],
        "vscode": {
          "languageId": "r"
        }
      },
      "outputs": [],
      "source": [
        "flapro_rel[[SCENARIO_COMPON]] %>% \n",
        "    inner_join(meta_fla_clus, by = c(\"feature\" = \"FlaCluster\")) %>%\n",
        "    select(feature, Cluster_Pred) %>% \n",
        "    distinct() %>% \n",
        "    select(Cluster_Pred) %>% \n",
        "    table()"
      ]
    },
    {
      "cell_type": "code",
      "execution_count": {},
      "id": "a1fd0cfa",
      "metadata": {
        "block_path": "notebooks/differential_analysis/notebook_generator/blocks/_shared/07_t_component_based.ipynb",
        "source_hash": "44b400de594792678121d9b3cdd655e01b57cc69",
        "tags": [
          "template"
        ],
        "vscode": {
          "languageId": "r"
        }
      },
      "outputs": [],
      "source": [
        "# compute total *relative* fla counts per sample, stratified by Cluster_Pred\n",
        "flapro_rel_total_by_Cluster_Pred = \n",
        "    flapro_rel[[SCENARIO_COMPON]] %>% \n",
        "    inner_join(meta_fla_clus, by = c(\"feature\" = \"FlaCluster\")) %>%     \n",
        "    group_by(Sample, Cluster_Pred) %>% \n",
        "    summarise(value = sum(value)) %>%    \n",
        "    #mutate(feature = \"sum_rel_abund\") %>%\n",
        "    mutate(feature = paste0(\"sum_rel_abund\", \"_F_\", Cluster_Pred)) %>%    \n",
        "    ungroup() %>%     \n",
        "    select(-Cluster_Pred) %>%\n",
        "    #inner_join(meta_samples, by = \"Sample\") %>% \n",
        "    arrange(Sample)    \n",
        "flapro_rel_total_by_Cluster_Pred \n",
        "\n",
        "# save to file\n",
        "write_tsv(flapro_rel_total_by_Cluster_Pred %>% pivot_wider(names_from = feature, values_from = value), file.path(PROJ_OUTPUT_DIR, paste0(\"flapro_rel_total_by_Cluster_Pred_\", SCENARIO_COMPON, \".tsv\")))"
      ]
    },
    {
      "cell_type": "code",
      "execution_count": {},
      "id": "cd592a49",
      "metadata": {
        "vscode": {
          "languageId": "r"
        }
      },
      "outputs": [],
      "source": [
        "flapro_rel_total_by_Cluster_Pred  %>% filter(value > 0)\n",
        "\n",
        "flapro_rel_total_by_Cluster_Pred %>% inner_join(meta_samples, by = \"Sample\") %>% \n",
        "    select(Sample, Group) %>%\n",
        "    distinct() %>%\n",
        "    select(Group) %>%\n",
        "    table()"
      ]
    },
    {
      "cell_type": "code",
      "execution_count": {},
      "id": "bcc485e5",
      "metadata": {
        "vscode": {
          "languageId": "r"
        }
      },
      "outputs": [],
      "source": [
        "flapro_rel_total = rbind(flapro_rel_total_all, flapro_rel_total_by_Cluster_Pred)\n",
        "flapro_rel_total"
      ]
    },
    {
      "cell_type": "code",
      "execution_count": {},
      "id": "4c15a18d",
      "metadata": {
        "tags": [
          "template"
        ],
        "vscode": {
          "languageId": "r"
        }
      },
      "outputs": [],
      "source": [
        "samples_with_zero_Active = flapro_rel_total_by_Cluster_Pred %>% \n",
        "    filter(value == 0 & feature == \"sum_rel_abund_F_active\") %>%\n",
        "    select(Sample)\n",
        "samples_with_zero_Active"
      ]
    },
    {
      "cell_type": "code",
      "execution_count": {},
      "id": "9f4290e7",
      "metadata": {
        "block_path": "notebooks/differential_analysis/notebook_generator/blocks/_shared/07_t_component_based.ipynb",
        "source_hash": "cdc89dff8c7d40233562d09c0bf5b72a1d06f6e5",
        "tags": [
          "template"
        ],
        "vscode": {
          "languageId": "r"
        }
      },
      "outputs": [],
      "source": [
        "# for each Sample, compute the ratio of Abundance_rel between Silent and Active\n",
        "flapro_rel_Silent_Active_ratio = \n",
        "    flapro_rel_total_by_Cluster_Pred %>% \n",
        "    separate(feature, into = c(\"feature\", \"Cluster_Pred\"), sep = \"_F_\") %>%\n",
        "    # there are not more than a few samples with 0 Active rel abund, so just remove them\n",
        "    anti_join(samples_with_zero_Active, by = \"Sample\") %>%\n",
        "    group_by(Sample) %>%    \n",
        "    mutate(ratio_silent_active = value[Cluster_Pred == \"silent\"] / value[Cluster_Pred == \"active\"]) %>%\n",
        "    ungroup() %>%\n",
        "    arrange(desc(ratio_silent_active)) %>% \n",
        "    select(-value, -Cluster_Pred) %>% \n",
        "    distinct() %>% \n",
        "    mutate(feature = \"ratio_silent_active\") %>% \n",
        "    rename(value = \"ratio_silent_active\")\n",
        "flapro_rel_Silent_Active_ratio\n",
        "\n",
        "# save to file\n",
        "write_tsv(flapro_rel_Silent_Active_ratio %>% pivot_wider(names_from = feature, values_from = value), file.path(PROJ_OUTPUT_DIR, paste0(\"flapro_rel_Silent_Active_ratio_\", SCENARIO_COMPON, \".tsv\")))"
      ]
    },
    {
      "cell_type": "code",
      "execution_count": {},
      "id": "cde32c22",
      "metadata": {
        "tags": [
          "template"
        ],
        "vscode": {
          "languageId": "r"
        }
      },
      "outputs": [],
      "source": [
        "## for modeling, merge 2 columns into 1 to form a feature name\n",
        "##flapro_rel_total_by_Cluster_Pred_for_lm = \n",
        "#flapro_rel_total_by_Cluster_Pred = flapro_rel_total_by_Cluster_Pred %>%\n",
        "#    mutate(feature = paste0(feature, \"_F_\", Cluster_Pred)) %>% \n",
        "#    select(-Cluster_Pred)"
      ]
    },
    {
      "cell_type": "markdown",
      "id": "02e1a9a7",
      "metadata": {
        "tags": [
          "template"
        ]
      },
      "source": [
        "### adjust features for Age - via residuals"
      ]
    },
    {
      "cell_type": "code",
      "execution_count": {},
      "id": "fa46f32a",
      "metadata": {
        "block_path": "notebooks/differential_analysis/notebook_generator/blocks/_shared/07_t_component_based.ipynb",
        "source_hash": "082b3005eda91f4ad07a2a6fe5034fb5ed807f94",
        "tags": [
          "template"
        ],
        "vscode": {
          "languageId": "r"
        }
      },
      "outputs": [],
      "source": [
        "if(ADD_ADJUST_FOR_FACTORS_COMPON) {\n",
        "    flapro_rel[[SCENARIO_COMPON]] = adjust_via_residuals(meta_samples, flapro_rel[[SCENARIO_COMPON]], ADD_ADJUST_FOR)\n",
        "    flapro_rel_maj = adjust_via_residuals(meta_samples, flapro_rel_maj, ADD_ADJUST_FOR)\n",
        "    flapro_rel_maj_log = adjust_via_residuals(meta_samples, flapro_rel_maj_log, ADD_ADJUST_FOR)\n",
        "    flapro_rel_total = adjust_via_residuals(meta_samples, flapro_rel_total, ADD_ADJUST_FOR)\n",
        "    if(SCENARIO_COMPON != \"MTX_MGX_ratio\") {\n",
        "        flapro_alpha = adjust_via_residuals(meta_samples, flapro_alpha, ADD_ADJUST_FOR)\n",
        "    }    \n",
        "    flapro_rel_Silent_Active_ratio = adjust_via_residuals(meta_samples, flapro_rel_Silent_Active_ratio, ADD_ADJUST_FOR)    \n",
        "}"
      ]
    },
    {
      "cell_type": "code",
      "execution_count": {},
      "id": "592ad174",
      "metadata": {
        "tags": [
          "template"
        ],
        "vscode": {
          "languageId": "r"
        }
      },
      "outputs": [],
      "source": [
        "#flapro_rel_total_by_Cluster_Pred = flapro_rel_total_by_Cluster_Pred_for_lm %>%\n",
        "#    separate(feature, into = c(\"feature\", \"Cluster_Pred\"), sep = \"_F_\")"
      ]
    },
    {
      "cell_type": "markdown",
      "id": "ebeec6a9",
      "metadata": {
        "tags": [
          "template"
        ]
      },
      "source": [
        "### viz summarized measures"
      ]
    },
    {
      "cell_type": "code",
      "execution_count": {},
      "id": "cece0837",
      "metadata": {
        "vscode": {
          "languageId": "r"
        }
      },
      "outputs": [],
      "source": [
        "if(SCENARIO_COMPON != \"MTX_MGX_ratio\") {\n",
        "    flapro_alpha_to_plot = flapro_alpha %>% separate(feature, into = c(\"feature\", \"Cluster_Pred\"), sep = \"_F_\")\n",
        "    #flapro_alpha_to_plot\n",
        "}"
      ]
    },
    {
      "cell_type": "code",
      "execution_count": {},
      "id": "fa355894",
      "metadata": {
        "vscode": {
          "languageId": "r"
        }
      },
      "outputs": [],
      "source": [
        "if(SCENARIO_COMPON != \"MTX_MGX_ratio\") {\n",
        "    p1a = flapro_alpha_to_plot %>% \n",
        "        inner_join(meta_samples, by = \"Sample\") %>%\n",
        "        filter(Cluster_Pred %in% c(\"all\")) %>% \n",
        "        mutate(Cluster_Pred = factor(Cluster_Pred, levels = c(\"all\", \"active\", \"silent\", \"mixed\", \"not_defined\"))) %>%\n",
        "        ggplot(aes(x = Group, y = value, fill = Group)) +    \n",
        "        ## log10 scale\n",
        "        (if (!ADD_ADJUST_FOR_FACTORS_COMPON) scale_y_log10() else NULL) + \n",
        "        geom_violin() +\n",
        "        geom_boxplot(width = 0.2, fill = \"white\") +\n",
        "        geom_jitter(width = 0.3, height = 0, alpha = 0.2, size = 0.9, color = \"#000000\") + \n",
        "        theme_bw() +    \n",
        "        facet_wrap( ~ feature, scales = \"free_y\") +\n",
        "        scale_fill_manual(values = COHORT_COLORS) +\n",
        "        # no grid\n",
        "        theme(panel.grid.major = element_blank(), panel.grid.minor = element_blank()) +        \n",
        "        ylab(\"Flagellome alpha diversity\") +\n",
        "        # legend off\n",
        "        theme(legend.position = \"none\") +\n",
        "        (if (!REPEAT_MEAS_COMPON) \n",
        "        # Pairwise Wilcoxon test with significance annotations\n",
        "        stat_compare_means(comparisons = STAT_PLOT_CMP,                        \n",
        "                                    method = \"wilcox.test\", label = \"p.format\", \n",
        "                                    vjust = 0.1, size = 2, step.increase = 0.09)\n",
        "        else NULL)\n",
        "\n",
        "    p1b = flapro_alpha_to_plot %>% \n",
        "        inner_join(meta_samples, by = \"Sample\") %>%\n",
        "        mutate(Cluster_Pred = factor(Cluster_Pred, levels = c(\"all\", \"active\", \"silent\", \"mixed\", \"not_defined\"))) %>%\n",
        "        ggplot(aes(x = Group, y = value, fill = Group)) +    \n",
        "        ## log10 scale\n",
        "        (if (!ADD_ADJUST_FOR_FACTORS_COMPON) scale_y_log10() else NULL) + \n",
        "        geom_violin() +\n",
        "        geom_boxplot(width = 0.2, fill = \"white\") +\n",
        "        geom_jitter(width = 0.3, height = 0, alpha = 0.2, size = 0.9, color = \"#000000\") + \n",
        "        theme_bw() +    \n",
        "        facet_grid(Cluster_Pred ~ feature, scales = \"free_y\") +\n",
        "        scale_fill_manual(values = COHORT_COLORS) +\n",
        "        # no grid\n",
        "        theme(panel.grid.major = element_blank(), panel.grid.minor = element_blank()) +        \n",
        "        ylab(\"Flagellome alpha diversity\") +\n",
        "        # legend off\n",
        "        theme(legend.position = \"none\") +\n",
        "        (if (!REPEAT_MEAS_COMPON) \n",
        "        # Pairwise Wilcoxon test with significance annotations\n",
        "        stat_compare_means(comparisons = STAT_PLOT_CMP,                        \n",
        "                                    method = \"wilcox.test\", label = \"p.format\", \n",
        "                                    vjust = 0.1, size = 2, step.increase = 0.09)\n",
        "        else NULL)\n",
        "\n",
        "    p1c = flapro_alpha_to_plot %>% \n",
        "        inner_join(meta_samples, by = \"Sample\") %>%\n",
        "        filter(Cluster_Pred %in% c(\"all\", \"active\", \"silent\")) %>% \n",
        "        mutate(Cluster_Pred = factor(Cluster_Pred, levels = c(\"all\", \"active\", \"silent\", \"mixed\", \"not_defined\"))) %>%\n",
        "        ggplot(aes(x = Group, y = value, fill = Group)) +    \n",
        "        ## log10 scale\n",
        "        (if (!ADD_ADJUST_FOR_FACTORS_COMPON) scale_y_log10() else NULL) + \n",
        "        geom_violin() +\n",
        "        geom_boxplot(width = 0.2, fill = \"white\") +\n",
        "        geom_jitter(width = 0.3, height = 0, alpha = 0.2, size = 0.9, color = \"#000000\") + \n",
        "        theme_bw() +    \n",
        "        facet_grid(Cluster_Pred ~ feature, scales = \"free_y\") +\n",
        "        scale_fill_manual(values = COHORT_COLORS) +\n",
        "        # no grid\n",
        "        theme(panel.grid.major = element_blank(), panel.grid.minor = element_blank()) +        \n",
        "        ylab(\"Flagellome alpha diversity\") +\n",
        "        # legend off\n",
        "        theme(legend.position = \"none\") +\n",
        "        (if (!REPEAT_MEAS_COMPON) \n",
        "        # Pairwise Wilcoxon test with significance annotations\n",
        "        stat_compare_means(comparisons = STAT_PLOT_CMP,                        \n",
        "                                    method = \"wilcox.test\", label = \"p.format\", \n",
        "                                    vjust = 0.1, size = 2, step.increase = 0.09)\n",
        "        else NULL)        \n",
        "}"
      ]
    },
    {
      "cell_type": "code",
      "execution_count": {},
      "id": "93023d1c",
      "metadata": {
        "vscode": {
          "languageId": "r"
        }
      },
      "outputs": [],
      "source": [
        "if(SCENARIO_COMPON != \"MTX_MGX_ratio\") {\n",
        "    p.dims(8, 3)\n",
        "    p = ggarrange(p1a, ncol = 1)\n",
        "    plot(annotate_figure(p, top = text_grob(SCENARIO_COMPON)))\n",
        "}"
      ]
    },
    {
      "cell_type": "code",
      "execution_count": {},
      "id": "65a1d39e",
      "metadata": {
        "vscode": {
          "languageId": "r"
        }
      },
      "outputs": [],
      "source": [
        "if(SCENARIO_COMPON != \"MTX_MGX_ratio\") {\n",
        "    p.dims(8, 15)\n",
        "    p = ggarrange(p1b, ncol = 1)\n",
        "    plot(annotate_figure(p, top = text_grob(SCENARIO_COMPON)))\n",
        "}"
      ]
    },
    {
      "cell_type": "code",
      "execution_count": {},
      "id": "de562406",
      "metadata": {
        "vscode": {
          "languageId": "r"
        }
      },
      "outputs": [],
      "source": [
        "if(SCENARIO_COMPON != \"MTX_MGX_ratio\") {\n",
        "    p.dims(8, 7.5)\n",
        "    p = ggarrange(p1c, ncol = 1)\n",
        "    plot(annotate_figure(p, top = text_grob(SCENARIO_COMPON)))\n",
        "}"
      ]
    },
    {
      "cell_type": "code",
      "execution_count": {},
      "id": "dabe07b0",
      "metadata": {
        "vscode": {
          "languageId": "r"
        }
      },
      "outputs": [],
      "source": [
        "flapro_rel_total_to_plot = flapro_rel_total %>% separate(feature, into = c(\"feature\", \"Cluster_Pred\"), sep = \"_F_\")"
      ]
    },
    {
      "cell_type": "code",
      "execution_count": {},
      "id": "96754d6c",
      "metadata": {
        "block_path": "notebooks/differential_analysis/notebook_generator/blocks/_shared/07_t_component_based.ipynb",
        "source_hash": "5a5ce5faec60caa11c16311174e28386bf24c0a4",
        "tags": [
          "template"
        ],
        "vscode": {
          "languageId": "r"
        }
      },
      "outputs": [],
      "source": [
        "# compare total relative fla counts across the groups\n",
        "p1 = flapro_rel_total_to_plot %>% inner_join(meta_samples, by = \"Sample\") %>%\n",
        "    mutate(Cluster_Pred = factor(Cluster_Pred, levels = c(\"all\", \"active\", \"silent\", \"mixed\", \"not_defined\"))) %>%\n",
        "    ggplot(aes(x = Group, y = value, fill = Group)) +\n",
        "    # log10 scale\n",
        "    (if (!ADD_ADJUST_FOR_FACTORS_COMPON) scale_y_log10() else NULL) + \n",
        "    geom_violin() +\n",
        "    geom_boxplot(width = 0.3, fill = \"white\") +\n",
        "    geom_jitter(width = 0.3, height = 0, alpha = 0.2, size = 0.9, color = \"#000000\") +    \n",
        "    theme_bw() +\n",
        "    facet_wrap(~Cluster_Pred, ncol = 5) +\n",
        "    scale_fill_manual(values = COHORT_COLORS) +\n",
        "    # no grid\n",
        "\ttheme(panel.grid.major = element_blank(), panel.grid.minor = element_blank()) +\n",
        "    # y axis title: Abundance\n",
        "\tylab(\"Flagellome rel. abundance\") +\n",
        "    # legend off\n",
        "    theme(legend.position = \"none\") +\n",
        "    (if (!REPEAT_MEAS_COMPON) \n",
        "    # Pairwise Wilcoxon test with significance annotations\n",
        "    stat_compare_means(comparisons = STAT_PLOT_CMP,                        \n",
        "                                method = \"wilcox.test\", label = \"p.format\", \n",
        "                                vjust = 0.1, size = 2, step.increase = 0.07)\n",
        "    else NULL)\n",
        "\n",
        "p1b = flapro_rel_total_to_plot %>% inner_join(meta_samples, by = \"Sample\") %>%\n",
        "    mutate(Cluster_Pred = factor(Cluster_Pred, levels = c(\"_all\", \"active\", \"silent\", \"mixed\", \"not_defined\"))) %>%\n",
        "    filter(Cluster_Pred %in% c(\"active\", \"silent\")) %>% \n",
        "    ggplot(aes(x = Group, y = value, fill = Group)) +\n",
        "    # log10 scale\n",
        "    (if (!ADD_ADJUST_FOR_FACTORS_COMPON) scale_y_log10() else NULL) + \n",
        "    geom_violin() +\n",
        "    geom_boxplot(width = 0.3, fill = \"white\") +\n",
        "    geom_jitter(width = 0.3, height = 0, alpha = 0.2, size = 0.9, color = \"#000000\") +    \n",
        "    theme_bw() +\n",
        "    facet_wrap(~Cluster_Pred, ncol = 2) +\n",
        "    scale_fill_manual(values = COHORT_COLORS) +\n",
        "    # no grid\n",
        "\ttheme(panel.grid.major = element_blank(), panel.grid.minor = element_blank()) +\n",
        "    # y axis title: Abundance\n",
        "\tylab(\"Flagellome rel. abundance\") +\n",
        "    # legend off\n",
        "    theme(legend.position = \"none\") +\n",
        "    (if (!REPEAT_MEAS_COMPON) \n",
        "    # Pairwise Wilcoxon test with significance annotations\n",
        "    stat_compare_means(comparisons = STAT_PLOT_CMP,                        \n",
        "                                method = \"wilcox.test\", label = \"p.format\", \n",
        "                                vjust = 0.1, size = 2, step.increase = 0.07)\n",
        "    else NULL)\n"
      ]
    },
    {
      "cell_type": "code",
      "execution_count": {},
      "id": "b8f7e922",
      "metadata": {
        "vscode": {
          "languageId": "r"
        }
      },
      "outputs": [],
      "source": [
        "p.dims(5.2, 3)\n",
        "p = ggarrange(p1b, ncol = 1)\n",
        "annotate_figure(p, top = text_grob(SCENARIO_COMPON))\n",
        "\n",
        "p.dims(12, 3)\n",
        "p = ggarrange(p1, ncol = 1)\n",
        "annotate_figure(p, top = text_grob(SCENARIO_COMPON))"
      ]
    },
    {
      "cell_type": "code",
      "execution_count": {},
      "id": "3c57cd45",
      "metadata": {
        "block_path": "notebooks/differential_analysis/notebook_generator/blocks/_shared/07_t_component_based.ipynb",
        "source_hash": "72fd55b46e3722d42fab4532fc41ba99374d4289",
        "tags": [
          "template"
        ],
        "vscode": {
          "languageId": "r"
        }
      },
      "outputs": [],
      "source": [
        "p1 = flapro_rel_Silent_Active_ratio %>% inner_join(meta_samples, by = \"Sample\") %>%\n",
        "    ggplot(aes(x = Group, y = value, fill = Group)) +\n",
        "    ## log10 scale\n",
        "    (if (!ADD_ADJUST_FOR_FACTORS_COMPON) scale_y_log10() else NULL) + \n",
        "    geom_violin() +\n",
        "    geom_boxplot(width = 0.2, fill = \"white\") +\n",
        "    geom_jitter(width = 0.3, height = 0, alpha = 0.2, size = 0.9, color = \"#000000\") +    \n",
        "    theme_bw() +    \n",
        "    scale_fill_manual(values = COHORT_COLORS) +\n",
        "    # no grid\n",
        "\ttheme(panel.grid.major = element_blank(), panel.grid.minor = element_blank()) +\n",
        "\tylab(\"Silent/Active abundance ratio\") +    \n",
        "    # legend off\n",
        "    theme(legend.position = \"none\") +\n",
        "    (if (!REPEAT_MEAS_COMPON) \n",
        "    # Pairwise Wilcoxon test with significance annotations\n",
        "    stat_compare_means(comparisons = STAT_PLOT_CMP,                        \n",
        "                                method = \"wilcox.test\", label = \"p.format\", \n",
        "                                vjust = 0.1, size = 2, step.increase = 0.07)\n",
        "    else NULL)\n"
      ]
    },
    {
      "cell_type": "code",
      "execution_count": {},
      "id": "2b49eb62",
      "metadata": {
        "block_path": "notebooks/differential_analysis/notebook_generator/blocks/_shared/07_t_component_based.ipynb",
        "source_hash": "f36f4954c85cefd054c33640c4d83d97c6c8a4a7",
        "tags": [
          "template"
        ],
        "vscode": {
          "languageId": "r"
        }
      },
      "outputs": [],
      "source": [
        "p.dims(3.5, 3.5)\n",
        "p = ggarrange(p1, ncol = 1)\n",
        "annotate_figure(p, top = text_grob(SCENARIO_COMPON))"
      ]
    },
    {
      "cell_type": "markdown",
      "id": "7d24f574",
      "metadata": {
        "tags": [
          "template"
        ]
      },
      "source": [
        "### Top Fla"
      ]
    },
    {
      "cell_type": "code",
      "execution_count": {},
      "id": "f11cae76",
      "metadata": {
        "tags": [
          "template"
        ],
        "vscode": {
          "languageId": "r"
        }
      },
      "outputs": [],
      "source": [
        "check_full(flapro_rel[[SCENARIO_COMPON]], \"feature\")"
      ]
    },
    {
      "cell_type": "code",
      "execution_count": {},
      "id": "d5aea674",
      "metadata": {
        "tags": [
          "template"
        ],
        "vscode": {
          "languageId": "r"
        }
      },
      "outputs": [],
      "source": [
        "# flapro_rel: boxplot the abundance per Fla in the order of median decreasing\n",
        "top_n_fla = \n",
        "    flapro_rel[[SCENARIO_COMPON]] %>%\n",
        "    mutate(mean_Abundance_rel = mean(value), .by = \"feature\") %>%    \n",
        "    select(feature, mean_Abundance_rel) %>% \n",
        "    distinct() %>%         \n",
        "    inner_join(meta_fla_clus, by = c(\"feature\" = \"FlaCluster\")) %>%    \n",
        "    arrange(desc(mean_Abundance_rel)) %>%\n",
        "    filter(mean_Abundance_rel > 0) %>%\n",
        "    head(200) \n",
        "top_n_fla"
      ]
    },
    {
      "cell_type": "code",
      "execution_count": {},
      "id": "683429e5",
      "metadata": {
        "block_path": "notebooks/differential_analysis/notebook_generator/blocks/_shared/07_t_component_based.ipynb",
        "source_hash": "2928f1f687fe28f1970853480595bc0d7647de0a",
        "tags": [
          "template"
        ],
        "vscode": {
          "languageId": "r"
        }
      },
      "outputs": [],
      "source": [
        "p.dims(8, 12)\n",
        "flapro_rel[[SCENARIO_COMPON]] %>% \n",
        "    inner_join(top_n_fla, by = \"feature\") %>%\n",
        "    \n",
        "    #ggplot(aes(x = reorder(feature, mean_Abundance_rel), y = value, color = Cluster_Exp)) +    \n",
        "    #geom_jitter(aes(color = Cluster_Exp), size = 0.5, alpha = 0.4, width = 0.05) +    \n",
        "    #scale_color_manual(values = FLA_CLASSES_COLORS) +    \n",
        "\n",
        "    #ggplot(aes(x = reorder(feature, mean_Abundance_rel), y = value, shape = Cluster_Exp)) +    \n",
        "    #geom_jitter(aes(shape = Cluster_Exp), size = 1, alpha = 0.4, width = 0.05, height = 0) +    \n",
        "    #scale_shape_manual(values = FLA_CLASSES_SHAPES) +    \n",
        "\n",
        "    ggplot(aes(x = reorder(feature, mean_Abundance_rel), y = value, shape = Cluster_Exp, color = Cluster_Exp)) +    \n",
        "    geom_jitter(aes(shape = Cluster_Exp), size = 1, alpha = 0.4, width = 0.05, height = 0) +    \n",
        "    scale_shape_manual(values = FLA_CLASSES_SHAPES) + \n",
        "    scale_color_manual(values = FLA_CLASSES_COLORS) +   \n",
        "\n",
        "    theme_bw() +    \n",
        "    theme(panel.border = element_rect(size = 0.1, colour = \"black\")) +\n",
        "    # disable grid\n",
        "    theme(panel.grid.major = element_blank(), panel.grid.minor = element_blank()) +\n",
        "    # disable x axis text    \n",
        "    theme(axis.text.y = element_blank()) + \n",
        "    # disable y ticks\n",
        "    theme(axis.ticks.y = element_blank()) +\n",
        "    coord_flip() +\n",
        "    labs(x = \"Flagellin cluster\", y = \"Relative abundance\") +\n",
        "    # increase size of dot in legend\n",
        "    guides(color = guide_legend(override.aes = list(size = 5))) +\n",
        "    # log scale for y\n",
        "    (if (!ADD_ADJUST_FOR_FACTORS_COMPON) scale_y_log10() else NULL)"
      ]
    },
    {
      "cell_type": "code",
      "execution_count": {},
      "id": "d68a4422",
      "metadata": {
        "block_path": "notebooks/differential_analysis/notebook_generator/blocks/_shared/07_t_component_based.ipynb",
        "source_hash": "d12dceb98e8877723bebca8985fe04bbee036396",
        "tags": [
          "template"
        ],
        "vscode": {
          "languageId": "r"
        }
      },
      "outputs": [],
      "source": [
        "p.dims(8, 12)\n",
        "flapro_rel[[SCENARIO_COMPON]] %>% \n",
        "    inner_join(top_n_fla, by = \"feature\") %>%\n",
        "\n",
        "    #ggplot(aes(x = reorder(feature, mean_Abundance_rel), y = value, color = Cluster_Pred)) +    \n",
        "    #geom_jitter(aes(color = Cluster_Pred), size = 0.3, alpha = 0.4, width = 0.05) +    \n",
        "    #scale_color_manual(values = FLA_CLASSES_COLORS) +    \n",
        "\n",
        "    ggplot(aes(x = reorder(feature, mean_Abundance_rel), y = value, shape = Cluster_Pred, color = Cluster_Pred)) +    \n",
        "    geom_jitter(aes(shape = Cluster_Pred), size = 1, alpha = 0.4, width = 0.05, height = 0) +    \n",
        "    scale_shape_manual(values = FLA_CLASSES_SHAPES) + \n",
        "    scale_color_manual(values = FLA_CLASSES_COLORS) +   \n",
        "\n",
        "    theme_bw() +    \n",
        "    theme(panel.border = element_rect(size = 0.1, colour = \"black\")) +\n",
        "    # disable grid\n",
        "    theme(panel.grid.major = element_blank(), panel.grid.minor = element_blank()) +\n",
        "    # disable x axis text    \n",
        "    theme(axis.text.y = element_blank()) + \n",
        "    # disable y ticks\n",
        "    theme(axis.ticks.y = element_blank()) +\n",
        "    coord_flip() +\n",
        "    labs(x = \"Flagellin cluster\", y = \"Relative abundance\") +\n",
        "    # increase size of dot in legend\n",
        "    guides(color = guide_legend(override.aes = list(size = 5))) +\n",
        "    # log scale for y\n",
        "    (if (!ADD_ADJUST_FOR_FACTORS_COMPON) scale_y_log10() else NULL)"
      ]
    },
    {
      "cell_type": "markdown",
      "id": "885efc33",
      "metadata": {
        "tags": [
          "template"
        ]
      },
      "source": [
        "### Beta diversity"
      ]
    },
    {
      "cell_type": "code",
      "execution_count": {},
      "id": "55f5494f",
      "metadata": {
        "tags": [
          "template"
        ],
        "vscode": {
          "languageId": "r"
        }
      },
      "outputs": [],
      "source": [
        "flapro_rel_df = \n",
        "    flapro_rel[[SCENARIO_COMPON]] %>%          \n",
        "    select(feature, Sample, value) %>% \n",
        "    pivot_wider(names_from = \"feature\", values_from = \"value\", values_fill = 0) %>% \n",
        "    column_to_rownames(\"Sample\") %>% \n",
        "    as.data.frame\n",
        "flapro_rel_df"
      ]
    },
    {
      "cell_type": "code",
      "execution_count": {},
      "id": "af59b72f",
      "metadata": {
        "tags": [
          "template"
        ],
        "vscode": {
          "languageId": "r"
        }
      },
      "outputs": [],
      "source": [
        "# compute an Euclidean distance matrix from flapro_rel_df\n",
        "dist_my_rel = dist(flapro_rel_df, method = \"euclidean\")"
      ]
    },
    {
      "cell_type": "code",
      "execution_count": {},
      "id": "de1aca7c",
      "metadata": {
        "tags": [
          "template"
        ],
        "vscode": {
          "languageId": "r"
        }
      },
      "outputs": [],
      "source": [
        "# identify outliers based on the distance matrix\n",
        "dist_my_rel_mat = as.matrix(dist_my_rel)\n",
        "# Compute mean or median distance for each sample\n",
        "mean_distances = rowMeans(dist_my_rel_mat)\n",
        "median_distances = apply(dist_my_rel_mat, 1, median)\n",
        "\n",
        "# Identify outliers using a threshold (e.g., X standard deviations from the mean)\n",
        "threshold = mean(mean_distances) + REL_N_SIGMA_REL_OUTLIERS * sd(mean_distances)\n",
        "outliers = which(mean_distances > threshold)\n",
        "\n",
        "# Results\n",
        "sort(names(outliers))\n",
        "length(outliers)"
      ]
    },
    {
      "cell_type": "code",
      "execution_count": {},
      "id": "f13475ec",
      "metadata": {
        "tags": [
          "template"
        ],
        "vscode": {
          "languageId": "r"
        }
      },
      "outputs": [],
      "source": [
        "# remove outliers from dist_my_rel, a dist object\n",
        "if(length(outliers)) {\n",
        "    dist_my_rel_mat = dist_my_rel_mat[-outliers, -outliers]\n",
        "    dist_my_rel = as.dist(dist_my_rel_mat)\n",
        "    dim(dist_my_rel)\n",
        "    flapro_rel_df_noOut = flapro_rel_df[-outliers,]\n",
        "} else {\n",
        "    flapro_rel_df_noOut = flapro_rel_df\n",
        "}\n",
        "dim(flapro_rel_df_noOut)"
      ]
    },
    {
      "cell_type": "markdown",
      "id": "0ce2e273",
      "metadata": {
        "tags": [
          "template"
        ]
      },
      "source": [
        "### PCoA biplot (rel.)"
      ]
    },
    {
      "cell_type": "code",
      "execution_count": {},
      "id": "95bb70d3",
      "metadata": {
        "tags": [
          "template"
        ],
        "vscode": {
          "languageId": "r"
        }
      },
      "outputs": [],
      "source": [
        "# do PCoA\n",
        "pcoa_res_rel = ape::pcoa(dist_my_rel)\n",
        "\n",
        "# get the percentage of variance explained by top PCs\n",
        "pve = round(pcoa_res_rel$values$Relative_eig[1:3] * 100, 1) \n",
        "# concatenate those values to PC1 and PC2\n",
        "pve = paste0(\"PC\", 1:3, \" (\", pve, \"%)\")\n",
        "names(pve) = paste0(\"PC\", 1:3)\n",
        "\n",
        "# Extract PCoA coordinates for plotting\n",
        "pcoa_scores = data.frame(pcoa_res_rel$vectors)\n",
        "# rename all columns of pcoa_scores to PC1, PC2, PC3 and so on\n",
        "colnames(pcoa_scores) = gsub(colnames(pcoa_scores), pattern = \"Axis.\", replacement = \"PC\")\n",
        "#pcoa_scores\n",
        "\n",
        "# Generalized computation of feature contributions for 3 PCs\n",
        "num_pcs = 3  # Number of PCs to consider\n",
        "feature_contributions = as.data.frame(\n",
        "  do.call(cbind, lapply(1:num_pcs, function(pc) {\n",
        "    apply(flapro_rel_df_noOut, 2, function(feature) suppressWarnings(cor(feature, pcoa_scores[[paste0(\"PC\", pc)]])))\n",
        "  }))\n",
        ")\n",
        "colnames(feature_contributions) = paste0(\"PC\", 1:num_pcs)  # Name the columns\n",
        "feature_contributions$Feature = colnames(flapro_rel_df_noOut)  # Add feature names\n",
        "\n",
        "# Scale the feature contributions for visualization (optional)\n",
        "feature_contributions = feature_contributions %>%\n",
        "  mutate(across(starts_with(\"PC\"), ~ .x * BIPLOT_ARROW_SCALING[[SCENARIO_COMPON]]))\n",
        "\n",
        "# Compute magnitude of contributions and retain the top 5 features\n",
        "feature_contributions = feature_contributions %>%\n",
        "  rowwise() %>%\n",
        "  mutate(Magnitude = sqrt(sum(c_across(starts_with(\"PC\"))^2))) %>%\n",
        "  ungroup() %>%\n",
        "  arrange(desc(Magnitude)) %>%\n",
        "  slice(1:REL_N_FEATURES_BIPLOT)  # Keep top features\n",
        "feature_contributions\n",
        "\n",
        "pcoa_vis = pcoa_scores %>% rownames_to_column(\"Sample\") %>% \n",
        "    inner_join(meta_samples, by = \"Sample\")\n",
        "#pcoa_vis"
      ]
    },
    {
      "cell_type": "code",
      "execution_count": {},
      "id": "a4a02dbc",
      "metadata": {
        "tags": [
          "template"
        ],
        "vscode": {
          "languageId": "r"
        }
      },
      "outputs": [],
      "source": [
        "# join meta to the feature_contributions\n",
        "feature_contributions = feature_contributions %>% \n",
        "    inner_join(meta_fla_clus, by = c(\"Feature\" = \"FlaCluster\")) %>%     \n",
        "    mutate(Cluster_Species_trimmed = ifelse(\t\t\n",
        "\t\t\tstr_detect(Cluster_Species, \";\"),\t\t\t\n",
        "\t\t\tpaste0(str_extract(Cluster_Species, \"^[^;]+\"), \"+\"),\n",
        "\t\t\tCluster_Species)\t\t\n",
        "\t) %>%\t\n",
        "    mutate(Feature_ext = paste(Feature, \"\\n\", Cluster_Species_trimmed, sep = \"\"))  %>% \n",
        "\tselect(-Cluster_Species, -Cluster_Species_trimmed)\n",
        "feature_contributions"
      ]
    },
    {
      "cell_type": "code",
      "execution_count": {},
      "id": "3433af18",
      "metadata": {
        "block_path": "notebooks/differential_analysis/notebook_generator/blocks/_shared/07_t_component_based.ipynb",
        "source_hash": "0d119dae98b96c0eb0815e4d6fdc3ee58f7aff4c",
        "tags": [
          "template"
        ],
        "vscode": {
          "languageId": "r"
        }
      },
      "outputs": [],
      "source": [
        "# biplot function\n",
        "create_pcoa_biplot = function(pcoa_vis, feature_contributions, x_axis, y_axis, pve, color_var, scale_color = scale_color_manual(values = COHORT_COLORS)) {\n",
        "  # Ensure the axis names are valid\n",
        "  if (!(x_axis %in% colnames(pcoa_vis)) | !(y_axis %in% colnames(pcoa_vis))) {\n",
        "    stop(\"Specified x_axis or y_axis is not in the pcoa_vis data.\")\n",
        "  }\n",
        "  if (!(x_axis %in% colnames(feature_contributions)) | !(y_axis %in% colnames(feature_contributions))) {\n",
        "    stop(\"Specified x_axis or y_axis is not in the feature_contributions data.\")\n",
        "  }\n",
        "\n",
        "  # Create biplot\n",
        "  ggplot() +\n",
        "    # Sample points\n",
        "    geom_point(data = pcoa_vis, aes_string(x = x_axis, y = y_axis, color = color_var), size = 0.5) +    \n",
        "\n",
        "    ## Sample labels\n",
        "    (if (BIPLOT_LABELS_SAMPLES) geom_text_repel(data = pcoa_vis, aes_string(x = x_axis, y = y_axis, label = \"Sample\"), size = 2, color = \"#888888\", segment.size = 0.1) else NULL) + \n",
        "        \n",
        "    # X and Y labels for explained variance\n",
        "    xlab(pve[x_axis]) +\n",
        "    ylab(pve[y_axis]) +   \n",
        "    # Theme and color scale\n",
        "    theme_classic() + \n",
        "    scale_color +    \n",
        "    # Increase bullet size in legend\n",
        "    guides(color = guide_legend(override.aes = list(size = 4))) +\n",
        "\n",
        "   # Feature arrows\n",
        "    geom_segment(\n",
        "      data = feature_contributions, \n",
        "      aes_string(x = 0, y = 0, xend = x_axis, yend = y_axis , \n",
        "        linetype = \"Cluster_Pred\"\n",
        "        ), \n",
        "      arrow = arrow(length = unit(0.2, \"cm\"), type = \"closed\", angle = 15),      \n",
        "      size = 0.2, color = \"#888888\"\n",
        "    ) +\n",
        "    # Feature labels\n",
        "    geom_text(\n",
        "      data = feature_contributions, \n",
        "      aes_string(x = x_axis, y = y_axis, label = \"Feature_ext\"), \n",
        "      vjust = \"center\", hjust = \"middle\", color = \"black\", size = 2\n",
        "    ) +\n",
        "    scale_linetype_manual(\n",
        "      values = c(\"active\" = \"solid\", \"mixed\" = \"longdash\", \"silent\" = \"dashed\", \"not_defined\" = \"dotted\"),\n",
        "      name = \"Cluster_Pred\"\n",
        "    ) \n",
        "}\n",
        "\n",
        "p.dims(15, 8)\n",
        "#p.dims(5, 10)\n",
        "# PC1-2:\n",
        "p1 = create_pcoa_biplot(pcoa_vis, feature_contributions, \"PC1\", \"PC2\", pve, \"Group\")\n",
        "# PC1-3:\n",
        "p2 = create_pcoa_biplot(pcoa_vis, feature_contributions, \"PC1\", \"PC3\", pve, \"Group\")\n",
        "\n",
        "# plot them next to each other\n",
        "p = ggarrange(p1, p2, ncol = 2, common.legend = TRUE, legend = \"bottom\")\n",
        "annotate_figure(p, top = text_grob(SCENARIO_COMPON))"
      ]
    },
    {
      "cell_type": "markdown",
      "id": "a5b517e0",
      "metadata": {
        "tags": [
          "template"
        ]
      },
      "source": [
        "### Stat: summarized Fla features"
      ]
    },
    {
      "cell_type": "code",
      "execution_count": {},
      "id": "865621b5",
      "metadata": {
        "block_path": "notebooks/differential_analysis/notebook_generator/blocks/_shared/07_t_component_based.ipynb",
        "source_hash": "3a21ca5a6099f803485259c41e952c01fe74c90f",
        "vscode": {
          "languageId": "r"
        }
      },
      "outputs": [],
      "source": [
        "# init a list to store the tables to go to a multisheet xlsx\n",
        "df_list_stats_compon_results = list()"
      ]
    },
    {
      "cell_type": "code",
      "execution_count": {},
      "id": "0581ab61",
      "metadata": {
        "tags": [
          "template"
        ],
        "vscode": {
          "languageId": "r"
        }
      },
      "outputs": [],
      "source": [
        "lm_in = rbind(        \n",
        "        flapro_rel_total,                \n",
        "        flapro_rel_Silent_Active_ratio) %>%\n",
        "    inner_join(meta_samples, by = \"Sample\") %>%\n",
        "    filter(Group %in% GROUPS_TO_COMPARE)\n",
        "lm_in"
      ]
    },
    {
      "cell_type": "code",
      "execution_count": {},
      "id": "d6c08dec",
      "metadata": {
        "block_path": "notebooks/differential_analysis/notebook_generator/blocks/_shared/07_t_component_based.ipynb",
        "source_hash": "64b01d2160282d300c4e5dc2861e25697ea5454f",
        "tags": [
          "template"
        ],
        "vscode": {
          "languageId": "r"
        }
      },
      "outputs": [],
      "source": [
        "if(REPEAT_MEAS_COMPON) {\n",
        "    lm_res = do_lmer_tidy(lm_in, rel_model_formula, arg_response_col = \"value\", arg_feature_col = \"feature\") %>% \n",
        "        select(-effect, -group)\n",
        "} else {\n",
        "    lm_res = do_lm_tidy(lm_in, rel_model_formula, arg_response_col = \"value\", arg_feature_col = \"feature\")\n",
        "}\n",
        "df.dims(50)    \n",
        "lm_res #%>% filter(term == sel_factor_coef) %>% filter(p.value < 0.1)\n",
        "df.dims(5)    "
      ]
    },
    {
      "cell_type": "code",
      "execution_count": {},
      "id": "097293cd",
      "metadata": {
        "block_path": "notebooks/differential_analysis/notebook_generator/blocks/_shared/07_t_component_based.ipynb",
        "source_hash": "54b461879f3a955dbb11e5cf4744b51f335285a3",
        "tags": [
          "template"
        ],
        "vscode": {
          "languageId": "r"
        }
      },
      "outputs": [],
      "source": [
        "df.dims(50)    \n",
        "lm_res %>% filter(term == sel_factor_coef) %>% filter(p.value < 0.1)\n",
        "df.dims(5)    \n",
        "\n",
        "## save the results to file\n",
        "tmp_sheet_name = paste0(\"SumFts_\", SCENARIO_COMPON, \"_\", GROUPS_SUFFIX, \"_\", sel_factor_coef)\n",
        "if(nchar(tmp_sheet_name) > 31) {\n",
        "\tprint(\"Warning: xlsx sheet name too long! Reducing to 31 leading symbols.\")\n",
        "\ttmp_sheet_name = substr(tmp_sheet_name, 0, 31)\n",
        "\tprint(tmp_sheet_name)\n",
        "}\n",
        "df_list_stats_compon_results[[tmp_sheet_name]] = lm_res %>% filter(term == sel_factor_coef) %>% filter(p.value < 0.1)\n"
      ]
    },
    {
      "cell_type": "markdown",
      "id": "41402df3",
      "metadata": {
        "tags": [
          "template"
        ]
      },
      "source": [
        "### Stat: alpha diversity"
      ]
    },
    {
      "cell_type": "code",
      "execution_count": {},
      "id": "caff82e1",
      "metadata": {
        "block_path": "notebooks/differential_analysis/notebook_generator/blocks/_shared/07_t_component_based.ipynb",
        "source_hash": "d884cf49dc3cb939f6781c03fc0b8aa13124a6bc",
        "tags": [
          "template"
        ],
        "vscode": {
          "languageId": "r"
        }
      },
      "outputs": [],
      "source": [
        "if(SCENARIO_COMPON != \"MTX_MGX_ratio\") {\n",
        "    lm_in = flapro_alpha %>%\n",
        "        inner_join(meta_samples, by = \"Sample\") %>%\n",
        "        filter(Group %in% GROUPS_TO_COMPARE)\n",
        "    lm_in\n",
        "}"
      ]
    },
    {
      "cell_type": "code",
      "execution_count": {},
      "id": "72365524",
      "metadata": {
        "block_path": "notebooks/differential_analysis/notebook_generator/blocks/_shared/07_t_component_based.ipynb",
        "source_hash": "8a2a7087f87ab2e6f8e0dcfe9a5a87bb0f172b13",
        "tags": [
          "template"
        ],
        "vscode": {
          "languageId": "r"
        }
      },
      "outputs": [],
      "source": [
        "if(SCENARIO_COMPON != \"MTX_MGX_ratio\") {\n",
        "    if(REPEAT_MEAS_COMPON) {\n",
        "        lm_res = do_lmer_tidy(lm_in, rel_model_formula, arg_response_col = \"value\", arg_feature_col = \"feature\") %>% \n",
        "        select(-effect, -group)\n",
        "    } else {\n",
        "        lm_res = do_lm_tidy(lm_in, rel_model_formula, arg_response_col = \"value\", arg_feature_col = \"feature\")\n",
        "    }\n",
        "    df.dims(50)    \n",
        "    print(lm_res %>% filter(p.value < 0.1))\n",
        "    df.dims(5)    \n",
        "\n",
        "    # save the results to file\n",
        "    tmp_sheet_name = paste0(\"FAlph_\", SCENARIO_COMPON, \"_\", GROUPS_SUFFIX, \"_\", sel_factor_coef)\n",
        "    if(nchar(tmp_sheet_name) > 31) {\n",
        "        print(\"Warning: xlsx sheet name too long! Reducing to 31 leading symbols.\")\n",
        "        tmp_sheet_name = substr(tmp_sheet_name, 0, 31)\n",
        "        print(tmp_sheet_name)\n",
        "    }\n",
        "    df_list_stats_compon_results[[tmp_sheet_name]] = lm_res %>% filter(p.value < 0.1)\n",
        "}"
      ]
    },
    {
      "cell_type": "markdown",
      "id": "3b18b52c",
      "metadata": {
        "tags": [
          "template"
        ]
      },
      "source": [
        "### Stat: fla clusters (over flapro_rel_MAJ)"
      ]
    },
    {
      "cell_type": "markdown",
      "id": "05021704",
      "metadata": {
        "tags": [
          "template"
        ]
      },
      "source": [
        "#### Linear model, all factors"
      ]
    },
    {
      "cell_type": "code",
      "execution_count": {},
      "id": "3d5e80d1",
      "metadata": {
        "tags": [
          "template"
        ],
        "vscode": {
          "languageId": "r"
        }
      },
      "outputs": [],
      "source": [
        "lm_in = flapro_rel_maj_log %>% \n",
        "    inner_join(meta_samples, by = \"Sample\") %>% \n",
        "    # subset to selected groups    \n",
        "    filter(Group %in% GROUPS_TO_COMPARE)\n",
        "lm_in"
      ]
    },
    {
      "cell_type": "code",
      "execution_count": {},
      "id": "41758a7c",
      "metadata": {
        "block_path": "notebooks/differential_analysis/notebook_generator/blocks/_shared/07_t_component_based.ipynb",
        "source_hash": "ed44ca1769965b40525301353ebc282c46077522",
        "tags": [
          "template"
        ],
        "vscode": {
          "languageId": "r"
        }
      },
      "outputs": [],
      "source": [
        "if(REPEAT_MEAS_COMPON) {\n",
        "    lm_res = do_lmer_tidy(lm_in, rel_model_formula, arg_response_col = \"value\", arg_feature_col = \"feature\") %>% \n",
        "        select(-effect, -group)\n",
        "} else {\n",
        "    lm_res = do_lm_tidy(lm_in, rel_model_formula, arg_response_col = \"value\", arg_feature_col = \"feature\")\n",
        "}\n",
        "df.dims(50)    \n",
        "lm_res %>% filter(p.value < 0.1)\n",
        "df.dims(5)    "
      ]
    },
    {
      "cell_type": "code",
      "execution_count": {},
      "id": "5fc449dc",
      "metadata": {
        "block_path": "notebooks/differential_analysis/notebook_generator/blocks/_shared/07_t_component_based.ipynb",
        "source_hash": "6e771d84af20e96aec03076654d0fa9d8a02d280",
        "tags": [
          "template"
        ],
        "vscode": {
          "languageId": "r"
        }
      },
      "outputs": [],
      "source": [
        "lm_res_sel_factor = lm_res %>% \n",
        "    filter(term == sel_factor_coef) %>%\n",
        "    inner_join(meta_fla_clus, by = c(\"feature\" = \"FlaCluster\")) %>% \n",
        "    mutate(p.adj = p.adjust(p.value, method = \"fdr\"))\n",
        "df.dims(50) \n",
        "lm_res_sel_factor_s = lm_res_sel_factor %>% \n",
        "    ##filter(p.value < 0.1)\n",
        "    filter(p.adj < 0.1) \n",
        "lm_res_sel_factor_s\n",
        "df.dims(5)"
      ]
    },
    {
      "cell_type": "code",
      "execution_count": {},
      "id": "b80d38f8",
      "metadata": {
        "block_path": "notebooks/differential_analysis/notebook_generator/blocks/_shared/07_t_component_based.ipynb",
        "source_hash": "a475d3318892806a666fd852b9118b131eaca422",
        "tags": [
          "template"
        ],
        "vscode": {
          "languageId": "r"
        }
      },
      "outputs": [],
      "source": [
        "# save the results to file\n",
        "tmp_sheet_name = paste0(\"FC_\", SCENARIO_COMPON, \"_\", GROUPS_SUFFIX, \"_\", sel_factor_coef)\n",
        "if(nchar(tmp_sheet_name) > 31) {\n",
        "\tprint(\"Warning: xlsx sheet name too long! Reducing to 31 leading symbols.\")\n",
        "\ttmp_sheet_name = substr(tmp_sheet_name, 0, 31)\n",
        "\tprint(tmp_sheet_name)\n",
        "}\n",
        "df_list_stats_compon_results[[tmp_sheet_name]] = lm_res_sel_factor"
      ]
    },
    {
      "cell_type": "code",
      "execution_count": {},
      "id": "330d291a",
      "metadata": {
        "block_path": "notebooks/differential_analysis/notebook_generator/blocks/_shared/07_t_component_based.ipynb",
        "source_hash": "99c6871286833772e1a31c83058eaa6028a56064",
        "tags": [
          "template"
        ],
        "vscode": {
          "languageId": "r"
        }
      },
      "outputs": [],
      "source": [
        "num_finds = nrow(lm_res_sel_factor_s)\n",
        "num_finds\n",
        "num_per_row = 5\n",
        "\n",
        "my_w = min(13, 13 * (num_finds / num_per_row))\n",
        "my_w\n",
        "my_h = 3 * ceiling(num_finds / num_per_row)\n",
        "my_h\n",
        "\n",
        "p.dims(my_w, my_h) \n",
        "ttt = flapro_rel_maj_log %>% \t\n",
        "\tinner_join(lm_res_sel_factor_s, by = \"feature\") %>% \t\n",
        "\tinner_join(meta_samples, by = \"Sample\") %>% \n",
        "\tmutate(sign_estimate = factor(sign(estimate))) %>% \t\t\n",
        "\tmutate(Cluster_Species_trimmed = ifelse(\t\t\n",
        "\t\t\tstr_detect(Cluster_Species, \";\"),\t\t\t\n",
        "\t\t\tpaste0(str_extract(Cluster_Species, \"^[^;]+\"), \"+\"),\n",
        "\t\t\tCluster_Species)\t\t\n",
        "\t) %>%\n",
        "\tmutate(FlaCluster_ext = paste(feature, \"\\n\", Cluster_Species_trimmed, \"\\n\", Cluster_Pred, sep = \"\")) %>% \n",
        "    # subset to groups    \n",
        "    filter(Group %in% GROUPS_TO_COMPARE)\n",
        "#ttt\n",
        "\n",
        "if(nrow(ttt) > 0) {\n",
        "\tggplot(ttt, aes(y = value, x = Group)) +\t\t\n",
        "\t\t## log scale y\n",
        "\t\t#scale_y_log10() +\n",
        "\t\tgeom_boxplot(width = 0.1) +\n",
        "\t\tgeom_violin(color=\"#888888\", alpha=0.1, size=0.5) +\n",
        "\t\tgeom_jitter(aes(color = sign_estimate), alpha=0.1, size=3, width=0.3, height = 0) +\n",
        "\t\tscale_color_manual(values = c(\"-1\" = \"blue\", \"1\" = \"red\")) +\n",
        "\t\tfacet_wrap(~FlaCluster_ext, ncol = num_per_row, scales = \"free\") +\t\t\t\n",
        "\t\ttheme_bw() +\t\t\n",
        "\t\t# no grid\n",
        "\t\ttheme(panel.grid.major = element_blank(), panel.grid.minor = element_blank()) +\n",
        "\t\t# no grey fill for facet\n",
        "\t\ttheme(strip.background = element_blank()) +\n",
        "\t\t# no legend\n",
        "\t\ttheme(legend.position = \"none\") +\n",
        "\n",
        "\t\t# y axis title: Abundance\n",
        "\t\tylab(\"Relative abundance (log10)\")\n",
        "}"
      ]
    },
    {
      "cell_type": "markdown",
      "id": "7014315e",
      "metadata": {
        "tags": [
          "template"
        ]
      },
      "source": [
        "#### Wilcoxon (only performed when there are 2 clinical groups selected)"
      ]
    },
    {
      "cell_type": "code",
      "execution_count": {},
      "id": "12e4217b",
      "metadata": {
        "tags": [
          "template"
        ],
        "vscode": {
          "languageId": "r"
        }
      },
      "outputs": [],
      "source": [
        "# Perform Wilcoxon test for each flagellin between the groups (without discarding the outliers)\n",
        "wil_in = flapro_rel[[SCENARIO_COMPON]] %>% \n",
        "    inner_join(meta_samples %>% select(Sample, Group), by = \"Sample\") %>% \n",
        "    # subset to selected groups    \n",
        "    filter(Group %in% GROUPS_TO_COMPARE)\n",
        "\n",
        "#go_wilcox = length(GROUPS_TO_COMPARE) == 2\n",
        "go_wilcox = FALSE\n",
        "\n",
        "if(go_wilcox) {\n",
        "    wilcox_results = wil_in %>%            \n",
        "        group_by(FlaCluster) %>%\n",
        "        summarise(\n",
        "            p_value = wilcox.test(Abundance_rel ~ Group)$p.value,\n",
        "            .groups = 'drop'\n",
        "        ) %>% \n",
        "        arrange(p_value) %>% \n",
        "        # adjust p-values\n",
        "        mutate(p_value_adj = p.adjust(p_value, method = \"BH\"))\n",
        "    #wilcox_results\n",
        "\n",
        "    wilcox_results = wilcox_results %>% \n",
        "        inner_join(meta_fla_clus, by = \"FlaCluster\") %>% \n",
        "        filter(p_value_adj < 0.1) %>% \n",
        "        #select(Flagellin_ID, Genus, Species, p_value, p_value_adj) %>% \n",
        "        arrange(p_value_adj)\n",
        "}\n",
        "if(go_wilcox) {\n",
        "    df.dims(100)\n",
        "    print(wilcox_results)\n",
        "    df.dims(5)\n",
        "}"
      ]
    },
    {
      "cell_type": "code",
      "execution_count": {},
      "id": "c4dc3706",
      "metadata": {
        "tags": [
          "template"
        ],
        "vscode": {
          "languageId": "r"
        }
      },
      "outputs": [],
      "source": [
        "if(go_wilcox) {\n",
        "\tif(nrow(wilcox_results) > 0) {\n",
        "\t\tp.dims(6, 6)\n",
        "\n",
        "\t\tttt = flapro_rel %>% \t\n",
        "\t\t\tsemi_join(wilcox_results, by = \"FlaCluster\") %>% \t\n",
        "\t\t\tinner_join(meta_samples, by = \"Sample\") %>% \t\t\n",
        "\t\t\t# subset to groups\n",
        "\t\t\tfilter(Group %in% GROUPS_TO_COMPARE)\n",
        "\t\t#ttt\n",
        "\n",
        "\t\tif(nrow(ttt) > 0) {\n",
        "\t\t\tggplot(ttt, aes(y = Abundance_rel, x = Group)) +\t\t\n",
        "\t\t\t\t# log scale y\n",
        "\t\t\t\t(if (!ADD_ADJUST_FOR_FACTORS_COMPON) scale_y_log10() else NULL) + \n",
        "\t\t\t\tgeom_boxplot(width = 0.1) +\n",
        "\t\t\t\tgeom_violin(color=\"#888888\", alpha=0.1, size=0.5) +\n",
        "\t\t\t\tgeom_jitter(color=\"green\", alpha=0.2, size=3, width=0.3) +\n",
        "\t\t\t\tfacet_wrap(~FlaCluster) +\t\n",
        "\t\t\t\ttheme_bw()\t\n",
        "\t\t}\n",
        "\t}\n",
        "}"
      ]
    },
    {
      "cell_type": "code",
      "execution_count": {},
      "id": "8baaa9f1",
      "metadata": {
        "block_path": "notebooks/differential_analysis/notebook_generator/blocks/_shared/07_t_component_based.ipynb",
        "source_hash": "21eb7e7e5c2e375c8a2adc44004d51e755f583a1",
        "vscode": {
          "languageId": "r"
        }
      },
      "outputs": [],
      "source": [
        "# write the stat. results into a multi-sheet xls, with auto column width\n",
        "openxlsx::write.xlsx(df_list_stats_compon_results, out_stat_compon_xlsx_file, colWidths=\"auto\")"
      ]
    }
  ]
}
