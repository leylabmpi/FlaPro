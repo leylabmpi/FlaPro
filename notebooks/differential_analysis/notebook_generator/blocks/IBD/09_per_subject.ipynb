{
 "cells": [
  {
   "cell_type": "markdown",
   "id": "5a8db7db",
   "metadata": {},
   "source": [
    "# Per-subject balance"
   ]
  },
  {
   "cell_type": "code",
   "execution_count": null,
   "id": "73921a53",
   "metadata": {
    "vscode": {
     "languageId": "r"
    }
   },
   "outputs": [],
   "source": [
    "to_plot = nb_vals_meta_full %>% \n",
    "        mutate(Participant_ID = factor(Participant_ID, \n",
    "            levels = sample(unique(Participant_ID[order(Group)])))) %>% \n",
    "        mutate(sample_num_seq = paste0(Group, \"_\", Participant_ID, \"_\", week_num)) \n",
    "to_plot"
   ]
  },
  {
   "cell_type": "code",
   "execution_count": null,
   "id": "320664b3",
   "metadata": {
    "vscode": {
     "languageId": "r"
    }
   },
   "outputs": [],
   "source": [
    "p.dims(14, 14)\n",
    "ggplot(to_plot,        \n",
    "        #aes(x = as.factor(!!sym(sel_factor)), y = NB_Value)) + \n",
    "        aes(x = sample_num_seq, y = NB_Value)) +        \n",
    "    geom_point(aes(color = Participant_ID), alpha=0.7, size=2, width=0.3, height = 0) +    \n",
    "    facet_wrap(~ Group, nrow = 3, scales = \"free\" ) +\n",
    "    #geom_point(color=\"red\", alpha=0.2, size=3) +\n",
    "    #geom_smooth(method = \"lm\", se = FALSE) +\t\n",
    "    #geom_text(size = 1.5) +\n",
    "    #stat_smooth(method = \"loess\", se = FALSE) +\n",
    "    labs(x = sel_factor, y = \"Nearest balance\") + theme(legend.position = \"none\") +\t\n",
    "    # shuffle the default ggplot palette\n",
    "    \n",
    "\n",
    "\n",
    "    #scale_color_futurama() +\t\n",
    "    theme_bw() +\n",
    "    # no grid\n",
    "    theme(panel.grid.major = element_blank(), panel.grid.minor = element_blank()) +\n",
    "    # no X axis labels\n",
    "    theme(axis.text.x = element_blank())    \n",
    "    "
   ]
  },
  {
   "cell_type": "code",
   "execution_count": null,
   "id": "4f1ad7a8",
   "metadata": {
    "vscode": {
     "languageId": "r"
    }
   },
   "outputs": [],
   "source": [
    "p.dims(12, 8)\n",
    "ggplot(to_plot,        \n",
    "        #aes(x = as.factor(!!sym(sel_factor)), y = NB_Value)) + \n",
    "        aes(x = week_num, y = NB_Value, group = Participant_ID)) +            \n",
    "    geom_line(alpha=0.7, size=0.3, height = 0) +    \n",
    "    facet_wrap(~ Group, nrow = 3, scales = \"free\" ) +\n",
    "    geom_point(color=\"red\", alpha=0.6, size=2) +\n",
    "    #geom_smooth(method = \"lm\", se = FALSE) +\t\n",
    "    #geom_text(size = 1.5) +\n",
    "    #stat_smooth(method = \"loess\", se = FALSE) +\n",
    "    labs(x = sel_factor, y = \"Nearest balance\") + theme(legend.position = \"none\") +\t\n",
    "    #scale_color_futurama() +\t\n",
    "    theme_bw() +\n",
    "    # no grid\n",
    "    theme(panel.grid.major = element_blank(), panel.grid.minor = element_blank())"
   ]
  },
  {
   "cell_type": "code",
   "execution_count": null,
   "id": "b860326d",
   "metadata": {
    "vscode": {
     "languageId": "r"
    }
   },
   "outputs": [],
   "source": []
  }
 ],
 "metadata": {
  "language_info": {
   "name": "python"
  }
 },
 "nbformat": 4,
 "nbformat_minor": 5
}
