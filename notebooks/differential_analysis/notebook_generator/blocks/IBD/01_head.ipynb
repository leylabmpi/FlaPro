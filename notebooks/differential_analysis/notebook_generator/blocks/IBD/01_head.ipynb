{
  "cells": [
    {
      "cell_type": "markdown",
      "metadata": {},
      "source": [
        "# Goal\n",
        "\n",
        "* Flagellome analysis based on FlaPro results: HMP2 IBD dataset.\n"
      ]
    },
    {
      "cell_type": "markdown",
      "metadata": {},
      "source": [
        "# Var"
      ]
    },
    {
      "cell_type": "code",
      "execution_count": {},
      "metadata": {
        "block_path": "notebooks/differential_analysis/notebook_generator/blocks/IBD/01_head.ipynb",
        "source_hash": "efa824dca6f5593ed866fb2c0fd0591dd7930427",
        "vscode": {
          "languageId": "r"
        }
      },
      "outputs": [],
      "source": [
        "work_dir = '/ebio/abt3_projects2/human_fla_profiling/atyakht/human-fla-profiling/'\n",
        "PROJECT_TAG = \"IBD\"\n",
        "\n",
        "AVAILABLE_OMICS = c(\"MGX\", \"MTX\")\n",
        "#AVAILABLE_OMICS = c(\"MTX\")\n",
        "\n",
        "DO_MTX_MGX_ratio = TRUE\n",
        "\n",
        "# - scenario for the Component-base analysis, 3 options:\n",
        "#SCENARIO_COMPON = \"MGX\" # - metagenomics (MGX, meta-DNA); OR\n",
        "#SCENARIO_COMPON = \"MTX\" # - metatranscriptomics (MTX, meta-RNA)\n",
        "SCENARIO_COMPON = \"MTX_MGX_ratio\" # - metatranscriptomics (MTX, meta-RNA) / metagenomics (MGX, meta-DNA) ratio\n",
        "\n",
        "# - scenario for the Compositional analysis (Nearest Balance), 2 options:\n",
        "#SCENARIO_NB = \"MGX\"\n",
        "SCENARIO_NB = \"MTX\"\n",
        "\n",
        "# flagellome profiles data and meta-data files\n",
        "flapro_file = list()\n",
        "coverage_file = list()\n",
        "\n",
        "# DB v. C4 (Feb 2025):\n",
        "flapro_file[[\"MGX\"]] = file.path(work_dir, \"data/IBD/merged_realcounts_MGX.txt\")\n",
        "coverage_file[[\"MGX\"]] = file.path(work_dir, \"data/IBD/full_hmp_mgx_readcount.txt\")\n",
        "\n",
        "flapro_file[[\"MTX\"]] = file.path(work_dir, \"data/IBD/merged_realcounts_MTX.txt\")\n",
        "coverage_file[[\"MTX\"]] = file.path(work_dir, \"data/IBD/full_hmp_mtx_readcount.txt\")\n",
        "\n",
        "# meta-data\n",
        "meta_samples_file = list()\n",
        "meta_samples_file[[\"MGX\"]] = file.path(work_dir, \"data/IBD/final_metadata_mgx-24-09-24.txt\")\n",
        "meta_samples_file[[\"MTX\"]] = file.path(work_dir, \"data/IBD/final_metadata_mtx-24-09-24.txt\")\n",
        "hmp_metadata_original_file = file.path(work_dir, \"data/IBD/hmp2_metadata_2018-08-20.csv\")\n",
        "\n",
        "# meta-data\n",
        "meta_fla_file = file.path(work_dir, \"data/taxonomy_cluster_repr_c4-pred3.tsv\")"
      ]
    },
    {
      "cell_type": "code",
      "execution_count": 2,
      "metadata": {
        "block_path": "notebooks/differential_analysis/notebook_generator/blocks/IBD/01_head.ipynb",
        "source_hash": "c01183449487908b1d331a08371b222996b12132",
        "vscode": {
          "languageId": "r"
        }
      },
      "outputs": [],
      "source": [
        "# sample filtering params\n",
        "MIN_FLA_READS_PER_SAMPLE = 100 #50 #30 # pre-prevalence filtering\n",
        "MIN_FLA_READS_PER_SAMPLE_ROUND_2 = 30 # post-prevalence filtering\n",
        "\n",
        "# filtering params for the relative abundance (flapro_rel)\n",
        "REL_AB_PREVALENCE_CUTOFF = 25 #30\n",
        "REL_AB_ABUND_CUTOFF = 0 #0.0001\n",
        "\n",
        "# filtering params for NB (flapro), as well as its normalized version (flapro_perc)\n",
        "PREVALENCE_CUTOFF = 30 #10\n",
        "ABUND_CUTOFF_PERC = 0 #0.0001 #0.01 #0.005\n",
        "\n",
        "# flapro_rel: coefficient of sigma for outlier detection\n",
        "# (set it to some high value like 1E6 to disable outlier filtering)\n",
        "REL_N_SIGMA_REL_OUTLIERS = 3 #0.5\n",
        "# number of features (Fla) to show in the biplot\n",
        "REL_N_FEATURES_BIPLOT = 5 #10\n",
        "\n",
        "# colors used\n",
        "FLA_CLASSES_COLORS = c(\"not_defined\" = \"#888888\", \"active\" = \"#5050ff\", \"silent\" = \"#ce3d32\", \"evader\" = \"cyan\", \"mixed\" = \"black\")\n",
        "FLA_CLASSES_SHAPES = c(\"not_defined\" = 4, \"active\" = 1, \"silent\" = 3, \"evader\" = 4, \"mixed\" = 10)\n",
        "\n",
        "# option: dedicated analysis of the Fla experimentally profiled\n",
        "EXPLORE_EXPERIMENTAL_FLA = FALSE\n",
        "\n",
        "# additionally adjust features for factors (by collecting the residuals) - \n",
        "# - for the Component-based analysis (SCENARIO_COMPON) - for the viz purposes, does not affect the LM:\n",
        "ADD_ADJUST_FOR_FACTORS_COMPON = FALSE\n",
        "# - for the Compositional analysis (SCENARIO_NB) - for the viz purposes as well the produced NB values:\n",
        "ADD_ADJUST_FOR_FACTORS_NB = TRUE\n",
        "# adjust for what:\n",
        "ADD_ADJUST_FOR = \"Age + Sex\"\n",
        "\n",
        "# Adjust this factor as needed\n",
        "BIPLOT_ARROW_SCALING = c(\"MGX\" = 5e3, \"MTX\" = 5e4, \"MTX_MGX_ratio\" = 2e3)\n",
        "# add text labels to the biplot samples?\n",
        "BIPLOT_LABELS_SAMPLES = FALSE\n",
        "\n",
        "# repeated measures present? (e.g. multiple time points per subject)\n",
        "# - for the Component-based analysis (_COMPON), to use lmer instead of lm:\n",
        "REPEAT_MEAS_COMPON = TRUE\n",
        "# - for the Compositional analysis (_NB), to generate 1-sample-per subject splits instead of common splits:\n",
        "REPEAT_MEAS_NB = TRUE\n",
        "# name of the repeated measures factor (used if flags above enabled)\n",
        "REPEAT_MEAS_FACTOR = \"Participant_ID\""
      ]
    },
    {
      "cell_type": "code",
      "execution_count": 3,
      "metadata": {
        "vscode": {
          "languageId": "r"
        }
      },
      "outputs": [],
      "source": [
        "# Nearest Balance parameters\n",
        "# cross-validation parameters:\n",
        "# threshold for reproducibility of Nearest Balance\n",
        "reproducibility_threshold = 0.8 #0.9\n",
        "\n",
        "# setting for leave-1-out\n",
        "n_sim = 100  # number of cross-validation simulations\n",
        "train_prop = 0.67 # proportion of samples to use for training (except for the case of repeated measures where it's defined customly)\n",
        "\n",
        "RANDOM_SEED = 123 # for reproducibility"
      ]
    },
    {
      "cell_type": "code",
      "execution_count": 4,
      "metadata": {
        "block_path": "notebooks/differential_analysis/notebook_generator/blocks/IBD/01_head.ipynb",
        "source_hash": "c41855c16a422d92a29cfdc9067857917987f85d",
        "vscode": {
          "languageId": "r"
        }
      },
      "outputs": [],
      "source": [
        "# clin. groups to be included in comparisons\n",
        "GROUPS_TO_COMPARE = c(\"HC\", \"UC\", \"CD\")\n",
        "#GROUPS_TO_COMPARE = c(\"HC\", \"UC\")\n",
        "#GROUPS_TO_COMPARE = c(\"HC\", \"CD\")\n",
        "\n",
        "#sel_factor = \"Group\"\n",
        "sel_factor = \"DiseaseScore\"\n",
        "\n",
        "STAT_PLOT_CMP = list(c(\"HC\", \"UC\"), c(\"HC\", \"CD\"), c(\"UC\", \"CD\"))\n",
        "COHORT_COLORS = c(\"HC\" = \"#008ea0\", \"UC\" = \"#ff6f00\", \"CD\" = \"#c71000\")"
      ]
    },
    {
      "cell_type": "code",
      "execution_count": 5,
      "metadata": {
        "vscode": {
          "languageId": "r"
        }
      },
      "outputs": [],
      "source": [
        "rel_model_formula = paste0(sel_factor, \" + Age + (1|Participant_ID)\")\n",
        "\n",
        "# initial formula for PERMANOVA (many factors)\n",
        "init_permanova_formula = paste0(sel_factor, \" + Age + Sex\")\n",
        "\n",
        "# LM formula for Nearest Balance - factors selected based on adonis2 above\n",
        "lm_nb_formula = paste0(sel_factor, \" + Age\")\n",
        "\n",
        "# select 1 factor for which we seek Nearest Balance - \n",
        "# along with the name of coef that LM give to it (might be different for categorical factors).\n",
        "if(sel_factor == \"Group\") {\n",
        "    testthat::test_that(\"two cohorts are selected\", {\n",
        "        testthat::expect_equal(length(GROUPS_TO_COMPARE), 2)\n",
        "    })\n",
        "    #sel_factor_coef = paste0(\"Group\", sort(GROUPS_TO_COMPARE, decreasing = TRUE)[1])\n",
        "    sel_factor_coef = paste0(\"Group\", GROUPS_TO_COMPARE[length(GROUPS_TO_COMPARE)])\n",
        "} else {\n",
        "    sel_factor_coef = \"DiseaseScore\"\n",
        "}\n",
        "\n",
        "#sel_factor = \"Age\"\n",
        "#sel_factor_coef = \"Age\""
      ]
    },
    {
      "cell_type": "code",
      "execution_count": 6,
      "metadata": {
        "vscode": {
          "languageId": "r"
        }
      },
      "outputs": [],
      "source": [
        "# number of permutations for PERMANOVA\n",
        "N_PERMANOVA = 999 # for testing only\n",
        "#N_PERMANOVA = 9999"
      ]
    },
    {
      "cell_type": "code",
      "execution_count": 7,
      "metadata": {
        "vscode": {
          "languageId": "r"
        }
      },
      "outputs": [],
      "source": [
        "# Set the number of CPU cores to use:\n",
        "# in the \"parallel\" lib\n",
        "num_rparallel_cores = 40"
      ]
    }
  ]
}
