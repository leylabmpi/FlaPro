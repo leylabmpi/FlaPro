{
  "cells": [
    {
      "cell_type": "markdown",
      "metadata": {
        "tags": [
          "template"
        ]
      },
      "source": [
        "## metadata - flagellins"
      ]
    },
    {
      "cell_type": "code",
      "execution_count": {},
      "metadata": {
        "block_path": "notebooks/differential_analysis/notebook_generator/blocks/_shared/05_t_preprocess_B.ipynb",
        "source_hash": "243f67cf3292753383c2af221ad852808fc820d4",
        "tags": [
          "template"
        ],
        "vscode": {
          "languageId": "r"
        }
      },
      "outputs": [],
      "source": [
        "# for those species that are not defined, we will use the genus\n",
        "# (and before - the same for genus & family)\n",
        "meta_fla = meta_fla %>% \n",
        "    mutate(Genus = ifelse(is.na(Genus), paste0(\"uncl. \", Family), Genus))\n",
        "\n",
        "meta_fla = meta_fla %>% \n",
        "    mutate(Genus = ifelse(Genus == \"-\", paste0(Family, \" gen.\"), Genus)) %>% \n",
        "    mutate(Species = ifelse(Species == \"-\", paste0(Genus, \" spp.\"), Species))"
      ]
    },
    {
      "cell_type": "code",
      "execution_count": {},
      "metadata": {
        "tags": [
          "template"
        ],
        "vscode": {
          "languageId": "r"
        }
      },
      "outputs": [],
      "source": [
        "# add a letter prefix to the Cluster\n",
        "meta_fla = meta_fla %>% mutate(FlaCluster = paste0(\"FC_\", Cluster_c4_representative)) %>% \n",
        "    select(-Cluster_c4_representative)\n",
        "meta_fla"
      ]
    },
    {
      "cell_type": "code",
      "execution_count": {},
      "metadata": {
        "block_path": "notebooks/differential_analysis/notebook_generator/blocks/_shared/05_t_preprocess_B.ipynb",
        "source_hash": "0a572bf95b70914e861feb0686d3e74c1be9a8a7",
        "tags": [
          "template"
        ],
        "vscode": {
          "languageId": "r"
        }
      },
      "outputs": [],
      "source": [
        "meta_fla %>% select(Flagellin_ID) %>% distinct() %>% nrow()\n",
        "meta_fla %>% select(FlaCluster) %>% distinct() %>% nrow()"
      ]
    },
    {
      "cell_type": "code",
      "execution_count": {},
      "metadata": {
        "tags": [
          "template"
        ],
        "vscode": {
          "languageId": "r"
        }
      },
      "outputs": [],
      "source": [
        "# prepare a per-FlaCluster version of meta_fla (with distinct())\n",
        "meta_fla_clus = meta_fla %>%  \n",
        "    #Content_of_the_cluster\tnum_fla_per_cluster\tCluster_Pred\tCluster_Exp\tCluster_Species\tCluster_Genus\tCluster_Family\tFlaCluster\n",
        "    select(FlaCluster, Cluster_Pred, Cluster_Exp, Cluster_Family, Cluster_Genus, Cluster_Species) %>%     \n",
        "    distinct()\n",
        "meta_fla_clus"
      ]
    },
    {
      "cell_type": "markdown",
      "metadata": {
        "tags": [
          "template"
        ]
      },
      "source": [
        "## sample coverage"
      ]
    },
    {
      "cell_type": "markdown",
      "metadata": {
        "tags": [
          "template"
        ]
      },
      "source": [
        "## feature matrices"
      ]
    },
    {
      "cell_type": "code",
      "execution_count": {},
      "metadata": {
        "tags": [
          "template"
        ],
        "vscode": {
          "languageId": "r"
        }
      },
      "outputs": [],
      "source": [
        "flapro = lapply(flapro, function(x) {\n",
        "    x %>% mutate(FlaCluster = paste0(\"FC_\", FlaCluster_Rep)) %>%\n",
        "        select(-FlaCluster_Rep)\n",
        "})"
      ]
    },
    {
      "cell_type": "code",
      "execution_count": {},
      "metadata": {
        "tags": [
          "template"
        ],
        "vscode": {
          "languageId": "r"
        }
      },
      "outputs": [],
      "source": [
        "# leave FlaProfiles only for those samples who have meta-data        \n",
        "flapro = lapply(AVAILABLE_OMICS, function(x) {\n",
        "    print(x)\n",
        "    y = flapro[[x]]    \n",
        "    print(y %>% unique_n('samples', Sample))\n",
        "    print(y %>% unique_n('features', FlaCluster))\n",
        "    res = y %>% filter(Sample %in% meta_samples$Sample)\n",
        "    print(y %>% unique_n('samples present in meta', Sample))\n",
        "    print(y %>% unique_n('features', FlaCluster))\n",
        "    res\n",
        "}) %>% setNames(AVAILABLE_OMICS)"
      ]
    },
    {
      "cell_type": "code",
      "execution_count": {},
      "id": "85fdfee5",
      "metadata": {
        "tags": [
          "template"
        ],
        "vscode": {
          "languageId": "r"
        }
      },
      "outputs": [],
      "source": [
        "### for saving: remove zero Fla and make a filtered meta_fla accordingly"
      ]
    },
    {
      "cell_type": "code",
      "execution_count": {},
      "id": "97dd1843",
      "metadata": {
        "tags": [
          "template"
        ],
        "vscode": {
          "languageId": "r"
        }
      },
      "outputs": [],
      "source": [
        "flapro_no_zeros = lapply(AVAILABLE_OMICS, function(x) {\n",
        "    flapro[[x]] %>% filter(Abundance > 0)\n",
        "}) %>% setNames(AVAILABLE_OMICS)\n",
        "flapro_no_zeros\n",
        "\n",
        "flapro_no_zeros_mat = lapply(AVAILABLE_OMICS, function(x) {\n",
        "    flapro_no_zeros[[x]] %>% \n",
        "        pivot_wider(names_from = Sample, values_from = Abundance, values_fill = 0) %>% \n",
        "        column_to_rownames(\"FlaCluster\") %>% \n",
        "        as.matrix()\n",
        "}) %>% setNames(AVAILABLE_OMICS)\n",
        "flapro_no_zeros_mat"
      ]
    },
    {
      "cell_type": "code",
      "execution_count": {},
      "id": "0c7113cd",
      "metadata": {
        "tags": [
          "template"
        ],
        "vscode": {
          "languageId": "r"
        }
      },
      "outputs": [],
      "source": [
        "meta_fla_no_zeros = lapply(AVAILABLE_OMICS, function(x) {\n",
        "    meta_fla %>% \n",
        "    select(FlaCluster, Cluster_Family, Cluster_Genus, Cluster_Species, Cluster_Pred, Cluster_Exp, Content_of_the_cluster) %>% \n",
        "    distinct() %>% \n",
        "    inner_join(flapro_no_zeros[[x]] %>% select(FlaCluster) %>% distinct(), by = \"FlaCluster\")\n",
        "}) %>% setNames(AVAILABLE_OMICS)\n",
        "meta_fla_no_zeros"
      ]
    },
    {
      "cell_type": "markdown",
      "metadata": {
        "tags": [
          "template"
        ]
      },
      "source": [
        "### identify the samples with 0 or very low Fla counts"
      ]
    },
    {
      "cell_type": "code",
      "execution_count": {},
      "metadata": {
        "tags": [
          "template"
        ],
        "vscode": {
          "languageId": "r"
        }
      },
      "outputs": [],
      "source": [
        "flapro_stats = lapply(AVAILABLE_OMICS, function(x) {\n",
        "    y = flapro[[x]]\n",
        "    res = y %>% \n",
        "\t    mutate(counts_per_sample = as.double(sum(Abundance)), .by = \"Sample\") %>%     \n",
        "        select(Sample, counts_per_sample) %>% distinct() %>% arrange(desc(counts_per_sample))\n",
        "\n",
        "    # histogram\n",
        "    p.dims(20,3)\n",
        "    plot(res %>% ggplot(aes(counts_per_sample)) + geom_histogram(bins = 150) + \n",
        "        ylab(\"Number of samples\") +\n",
        "        xlab(\"Number of reads per sample\") +\n",
        "        ggtitle(x) +\n",
        "        theme_minimal())\n",
        "    res\n",
        "}) %>% setNames(AVAILABLE_OMICS)"
      ]
    },
    {
      "cell_type": "code",
      "execution_count": {},
      "metadata": {
        "tags": [
          "template"
        ],
        "vscode": {
          "languageId": "r"
        }
      },
      "outputs": [],
      "source": [
        "flapro_stats = lapply(flapro_stats, function(x) {\n",
        "    x %>% inner_join(meta_samples, by = \"Sample\")\n",
        "})"
      ]
    },
    {
      "cell_type": "code",
      "execution_count": {},
      "metadata": {
        "tags": [
          "template"
        ],
        "vscode": {
          "languageId": "r"
        }
      },
      "outputs": [],
      "source": [
        "flapro = lapply(flapro, function(x) {\n",
        "\tres = x %>% \n",
        "\t\tgroup_by(Sample) %>% \n",
        "\t\tmutate(counts_per_sample = as.double(sum(Abundance))) %>% \n",
        "\t\t# for component-based branch, do NOT drop the samples with 0 or very low Fla counts (that would affect case-control!)\n",
        "\t\t###filter(counts_per_sample >= MIN_FLA_READS_PER_SAMPLE) %>% \n",
        "\t\tungroup() %>% \n",
        "\t\tarrange(desc(counts_per_sample)) %>% \n",
        "\t\trename(feature = \"FlaCluster\", value = \"Abundance\")\n",
        "\tprint(x %>% unique_n('samples', Sample))\n",
        "\tres\n",
        "})\n",
        "flapro"
      ]
    },
    {
      "cell_type": "code",
      "execution_count": {},
      "metadata": {
        "tags": [
          "template"
        ],
        "vscode": {
          "languageId": "r"
        }
      },
      "outputs": [],
      "source": [
        "lapply(flapro_stats, function(x) {\t\n",
        "    x %>% select(Sample) %>% distinct() %>% nrow()\n",
        "})"
      ]
    },
    {
      "cell_type": "code",
      "execution_count": {},
      "metadata": {
        "tags": [
          "template"
        ],
        "vscode": {
          "languageId": "r"
        }
      },
      "outputs": [],
      "source": [
        "# save the list of samples with 0 or very low Fla counts\n",
        "samples_with_low_fla = lapply(flapro_stats, function(x) {\t\n",
        "\tx %>% filter(counts_per_sample < MIN_FLA_READS_PER_SAMPLE) %>% select(Sample)\n",
        "})\n",
        "samples_with_low_fla"
      ]
    },
    {
      "cell_type": "code",
      "execution_count": {},
      "metadata": {
        "tags": [
          "template"
        ],
        "vscode": {
          "languageId": "r"
        }
      },
      "outputs": [],
      "source": [
        "# 1: percentage of Fla calculated to the total Fla reads (a helper for NB branch)\n",
        "flapro_perc = lapply(flapro, function(x) {\n",
        "    x %>% \n",
        "        group_by(Sample) %>%     \n",
        "        # for null-flagellome samples, assign 0 to Abundance_perc\n",
        "        mutate(value = ifelse(value == 0, 0, 100.0*value/counts_per_sample)) %>%         \n",
        "        select(-counts_per_sample) %>% \n",
        "        ungroup()        \n",
        "})\n",
        "flapro_perc"
      ]
    },
    {
      "cell_type": "code",
      "execution_count": {},
      "metadata": {
        "tags": [
          "template"
        ],
        "vscode": {
          "languageId": "r"
        }
      },
      "outputs": [],
      "source": [
        "# 2: relative abundance of Fla calculated relative to the metagenome coverage, not total Fla reads (used in component-based branch)\n",
        "# Its sum per sample - not 100%!\n",
        "flapro_rel = lapply(AVAILABLE_OMICS, function(x) {\n",
        "    y = flapro[[x]]\n",
        "    y %>% \n",
        "        inner_join(sample_coverage[[x]], by = \"Sample\") %>% \n",
        "        mutate(value = 1e8 * value/Reads1) %>% \n",
        "        arrange(feature, desc(value)) %>% \n",
        "        select(-counts_per_sample, -Reads1)\n",
        "        \n",
        "}) %>% setNames(AVAILABLE_OMICS)\n",
        "flapro_rel"
      ]
    },
    {
      "cell_type": "code",
      "execution_count": {},
      "id": "8c6d2b9b",
      "metadata": {
        "tags": [
          "template"
        ],
        "vscode": {
          "languageId": "r"
        }
      },
      "outputs": [],
      "source": [
        "flapro = lapply(flapro, function(x) {\n",
        "    x %>% select(-counts_per_sample) %>% ungroup()\n",
        "})\n",
        "#flapro"
      ]
    },
    {
      "cell_type": "markdown",
      "id": "d62450d6",
      "metadata": {
        "tags": [
          "template"
        ]
      },
      "source": [
        "#### heatmap of the major Fla (as per flapro_rel)"
      ]
    },
    {
      "cell_type": "code",
      "execution_count": {},
      "id": "11bb40fe",
      "metadata": {
        "tags": [
          "template"
        ],
        "vscode": {
          "languageId": "r"
        }
      },
      "outputs": [],
      "source": [
        "flapro_rel_no_zeros_mat = lapply(AVAILABLE_OMICS, function(x) {\n",
        "    flapro_rel[[x]] %>% inner_join(meta_fla_no_zeros[[x]] %>% select(FlaCluster), by = c(\"feature\" = \"FlaCluster\")) %>% \n",
        "        pivot_wider(names_from = Sample, values_from = value) %>% \n",
        "        column_to_rownames(\"feature\") %>% \n",
        "        as.matrix()\n",
        "}) %>% setNames(AVAILABLE_OMICS)\n",
        "flapro_rel_no_zeros_mat"
      ]
    },
    {
      "cell_type": "code",
      "execution_count": {},
      "id": "5eb39f0c",
      "metadata": {
        "tags": [
          "template"
        ],
        "vscode": {
          "languageId": "r"
        }
      },
      "outputs": [],
      "source": [
        "for(x in AVAILABLE_OMICS) {\n",
        "    y = flapro_rel_no_zeros_mat[[x]]   \n",
        "    p.dims(9, 5)\n",
        "    pheatmap(t(y),\n",
        "        #cluster_rows = FALSE, cluster_cols = FALSE, \n",
        "        cluster_rows = TRUE, cluster_cols = TRUE, \n",
        "        show_rownames = TRUE, show_colnames = TRUE, fontsize = 8, \n",
        "        fontsize_number = 10, fontsize_row = 7, fontsize_col = 7, number_color = \"black\",        \n",
        "        #angle_col = 45,\n",
        "        # margin around the heatmap 20\n",
        "        margins = c(20, 20),        \n",
        "        #color = colorRampPalette(c(\"blue\", \"white\", \"#ff9090\", \"red\"))(4),\n",
        "    #   legend = FALSE,\n",
        "    #   annotation_row = feature_subclasses,  # Add column annotation\n",
        "    #   annotation_names_row = FALSE,        \n",
        "    #   annotation_colors = ann_colors,  # Assign colors to subclasses\n",
        "        border_color = \"white\", \n",
        "        main = x\n",
        "    )\n",
        "}"
      ]
    },
    {
      "cell_type": "markdown",
      "id": "09d2fd85",
      "metadata": {
        "tags": [
          "template"
        ]
      },
      "source": [
        "#### save intermediate results to files"
      ]
    },
    {
      "cell_type": "code",
      "execution_count": {},
      "id": "f993254c",
      "metadata": {
        "tags": [
          "template"
        ],
        "vscode": {
          "languageId": "r"
        }
      },
      "outputs": [],
      "source": [
        "for(x in AVAILABLE_OMICS) {\n",
        "    flapro_rel_no_zeros_dump = \n",
        "        meta_fla_no_zeros[[x]] %>% inner_join(flapro_rel[[x]] %>%\n",
        "            arrange(Sample) %>% \n",
        "            pivot_wider(names_from = Sample, values_from = value), by = c(\"FlaCluster\" = \"feature\"))\n",
        "    flapro_rel_no_zeros_dump\n",
        "\n",
        "    flapro_no_zeros_dump = \n",
        "        meta_fla_no_zeros[[x]] %>% inner_join(flapro[[x]] %>%\n",
        "            arrange(Sample) %>% \n",
        "            pivot_wider(names_from = Sample, values_from = value), by = c(\"FlaCluster\" = \"feature\"))\n",
        "    flapro_no_zeros_dump\n",
        "\n",
        "    # save \n",
        "    write_tsv(flapro_rel_no_zeros_dump, file.path(PROJ_OUTPUT_DIR, paste0(\"flapro_rel_no_zeros_\", x, \".tsv\")))\n",
        "    write_tsv(flapro_no_zeros_dump, file.path(PROJ_OUTPUT_DIR, paste0(\"flapro_counts_no_zeros_\", x, \".tsv\")))\n",
        "}"
      ]
    },
    {
      "cell_type": "markdown",
      "metadata": {
        "tags": [
          "template"
        ]
      },
      "source": [
        "### flapro_rel: derive the MTX/MGX ratio and add it to this list"
      ]
    },
    {
      "cell_type": "code",
      "execution_count": {},
      "metadata": {
        "block_path": "notebooks/differential_analysis/notebook_generator/blocks/_shared/05_t_preprocess_B.ipynb",
        "source_hash": "2ffb7f9d9d8fcecedc49d9ce19a61817cda3fbb3",
        "tags": [
          "template"
        ],
        "vscode": {
          "languageId": "r"
        }
      },
      "outputs": [],
      "source": [
        "if(DO_MTX_MGX_ratio) {   \n",
        "    flapro_rel[[\"MTX_MGX_ratio\"]] = flapro_rel[[\"MGX\"]] %>% rename(Abundance_rel_MGX = value) %>% \n",
        "        inner_join(flapro_rel[[\"MTX\"]] %>% rename(Abundance_rel_MTX = value), by = c(\"Sample\", \"feature\")) %>% \n",
        "        # below are filtering steps that have a large effect:    \n",
        "        # 1: remove the features encoded in a few taxa\n",
        "\n",
        "        filter(Abundance_rel_MGX > 0) %>% \n",
        "\n",
        "        ## (don't need this, as the step 1 will do) 2: remove the features with very low MGX or MTX levels\n",
        "        #filter(Abundance_rel_MTX + Abundance_rel_MGX > 1e-10) %>% \n",
        "        mutate(Abundance_rel = Abundance_rel_MTX/Abundance_rel_MGX) %>% \n",
        "        select(Sample, feature, Abundance_rel) %>% \n",
        "        rename(value = \"Abundance_rel\")     \n",
        "    \n",
        "    # make the table full - for correct calculation of feature prevalence\n",
        "    flapro_rel[[\"MTX_MGX_ratio\"]] = flapro_rel[[\"MTX_MGX_ratio\"]] %>% \n",
        "        pivot_wider(names_from = \"feature\", values_from = \"value\", values_fill = 0) %>%\n",
        "        pivot_longer(cols = -Sample, names_to = \"feature\", values_to = \"value\") \n",
        "\n",
        "    print(flapro_rel[[\"MTX_MGX_ratio\"]])\n",
        "}"
      ]
    },
    {
      "cell_type": "markdown",
      "id": "99ba31fe",
      "metadata": {},
      "source": [
        "### Fla alpha diversity"
      ]
    },
    {
      "cell_type": "code",
      "execution_count": {},
      "id": "17684f3e",
      "metadata": {
        "block_path": "notebooks/differential_analysis/notebook_generator/blocks/_shared/05_t_preprocess_B.ipynb",
        "source_hash": "272c43987fb1811c28fda6f135da5c82b3efb171",
        "vscode": {
          "languageId": "r"
        }
      },
      "outputs": [],
      "source": [
        "if(SCENARIO_COMPON != \"MTX_MGX_ratio\") {\n",
        "    # split flapro by Cluster_Pred\n",
        "    list_flapro_by_Cluster_Pred = flapro[[SCENARIO_COMPON]] %>%\n",
        "        inner_join(meta_fla_clus, by = c(\"feature\" = \"FlaCluster\")) %>%         \n",
        "        group_split(Cluster_Pred)\n",
        "    names(list_flapro_by_Cluster_Pred) = lapply(list_flapro_by_Cluster_Pred, function(x) {\n",
        "        x %>% select(Cluster_Pred) %>% distinct() %>% pull()\n",
        "    })\n",
        "    list_flapro_by_Cluster_Pred = lapply(list_flapro_by_Cluster_Pred, function(x) { \n",
        "        x %>% select(Sample, value, feature)\n",
        "    })\n",
        "    #list_flapro_by_Cluster_Pred\n",
        "\n",
        "    # add flapro_alpha to the list under the name \"all\"\n",
        "    list_flapro_by_Cluster_Pred_and_all = c(list_flapro_by_Cluster_Pred, list(\"all\" = flapro[[SCENARIO_COMPON]]))\n",
        "    #list_flapro_by_Cluster_Pred_and_all\n",
        "}"
      ]
    },
    {
      "cell_type": "code",
      "execution_count": {},
      "id": "fc78149d",
      "metadata": {
        "vscode": {
          "languageId": "r"
        }
      },
      "outputs": [],
      "source": [
        "if(SCENARIO_COMPON != \"MTX_MGX_ratio\") {\n",
        "    list_flapro_alpha = lapply(names(list_flapro_by_Cluster_Pred_and_all), function(x) {\n",
        "        y = list_flapro_by_Cluster_Pred_and_all[[x]]\n",
        "\n",
        "        for_psq_otu_table = y %>% \n",
        "            pivot_wider(names_from = Sample, values_from = value) %>%\n",
        "            column_to_rownames(\"feature\") %>% \n",
        "            as.matrix() %>% \n",
        "            phyloseq::otu_table(taxa_are_rows = TRUE)\n",
        "        #for_psq_otu_table\n",
        "\n",
        "        for_psq_tax_table = meta_fla_clus %>% \n",
        "            column_to_rownames(\"FlaCluster\") %>% \n",
        "            as.matrix() %>% \n",
        "            phyloseq::tax_table()\n",
        "        #for_psq_tax_table\n",
        "\n",
        "        for_psq_sample_table = meta_samples %>% \n",
        "            column_to_rownames(\"Sample\") %>% \n",
        "            phyloseq::sample_data()\n",
        "        #for_psq_sample_table\n",
        "\n",
        "        # create phyloseq object\n",
        "        psq = phyloseq::phyloseq(for_psq_otu_table, for_psq_tax_table, for_psq_sample_table)\n",
        "        #psq\n",
        "\n",
        "        # compute the Fla alpha diversity\n",
        "        flapro_alpha = phyloseq::estimate_richness(psq, split = TRUE, measures = c(\"Observed\", \"Chao1\", \"Shannon\")) %>% \n",
        "            rownames_to_column(\"Sample\") %>% \n",
        "            select(-se.chao1) %>% \n",
        "            pivot_longer(cols = -Sample, names_to = \"feature\", values_to = \"value\")\n",
        "        #print(flapro_alpha)\n",
        "\n",
        "        ## save to file\n",
        "        #write_tsv(flapro_alpha %>% pivot_wider(names_from = feature, values_from = value), file.path(PROJ_OUTPUT_DIR, paste0(\"flapro_alpha_\", SCENARIO_COMPON, \".tsv\")))\n",
        "\n",
        "        flapro_alpha\n",
        "    }) %>% setNames(names(list_flapro_by_Cluster_Pred_and_all))\n",
        "}"
      ]
    },
    {
      "cell_type": "code",
      "execution_count": {},
      "id": "4347aeb4",
      "metadata": {
        "vscode": {
          "languageId": "r"
        }
      },
      "outputs": [],
      "source": [
        "if(SCENARIO_COMPON != \"MTX_MGX_ratio\") {\n",
        "    list_flapro_alpha = lapply(names(list_flapro_by_Cluster_Pred_and_all), function(x) {\n",
        "        y = list_flapro_alpha[[x]]\n",
        "        y %>% mutate(feature = paste0(feature, \"_F_\", x)) \n",
        "    }) %>% setNames(names(list_flapro_by_Cluster_Pred_and_all))\n",
        "    #list_flapro_alpha\n",
        "    # rbind the list into one tibble\n",
        "    flapro_alpha = bind_rows(list_flapro_alpha)\n",
        "    print(flapro_alpha)\n",
        "}"
      ]
    },
    {
      "cell_type": "code",
      "execution_count": {},
      "id": "43a43d01",
      "metadata": {
        "vscode": {
          "languageId": "r"
        }
      },
      "outputs": [],
      "source": [
        "if(SCENARIO_COMPON != \"MTX_MGX_ratio\") {\n",
        "    #  TODO thuink of what to save and under which name\n",
        "    ## save to file\n",
        "    ##write_tsv(flapro_alpha %>% pivot_wider(names_from = feature, values_from = value), file.path(PROJ_OUTPUT_DIR, paste0(\"flapro_alpha_\", SCENARIO_COMPON, \".tsv\")))\n",
        "}"
      ]
    },
    {
      "cell_type": "markdown",
      "id": "62953d93",
      "metadata": {},
      "source": [
        "### next thing"
      ]
    },
    {
      "cell_type": "code",
      "execution_count": {},
      "id": "b5fa9719",
      "metadata": {
        "vscode": {
          "languageId": "r"
        }
      },
      "outputs": [],
      "source": [
        "# for flapro and flapro_perc, but not for flapro_rel - filter out the samples with low total Fla\n",
        "flapro = lapply(AVAILABLE_OMICS, function(x) {\n",
        "    y = flapro[[x]]\n",
        "    res = y %>% filter(!(Sample %in% samples_with_low_fla[[x]]$Sample))\n",
        "    print(res %>% select(Sample) %>% distinct() %>% nrow())\n",
        "    res\n",
        "}) %>% setNames(AVAILABLE_OMICS)\n",
        "\n",
        "flapro_perc = lapply(AVAILABLE_OMICS, function(x) {\n",
        "    y = flapro_perc[[x]]\n",
        "    y %>% filter(!(Sample %in% samples_with_low_fla[[x]]$Sample))\n",
        "}) %>% setNames(AVAILABLE_OMICS)"
      ]
    },
    {
      "cell_type": "markdown",
      "metadata": {
        "tags": [
          "template"
        ]
      },
      "source": [
        "### prevalence filtering (flapro & flapro_perc - one way, flapro_rel -> flapro_rel_MAJ - another!)"
      ]
    },
    {
      "cell_type": "markdown",
      "metadata": {
        "tags": [
          "template"
        ]
      },
      "source": [
        "#### - flapro & flapro_perc"
      ]
    },
    {
      "cell_type": "code",
      "execution_count": {},
      "metadata": {
        "tags": [
          "template"
        ],
        "vscode": {
          "languageId": "r"
        }
      },
      "outputs": [],
      "source": [
        "# check the long tables are full (includes the same numbers of zeros as if it were wide) before computing the prevalence\n",
        "lapply(flapro_perc, check_full, arg_feature_col = \"feature\")"
      ]
    },
    {
      "cell_type": "code",
      "execution_count": {},
      "metadata": {
        "tags": [
          "template"
        ],
        "vscode": {
          "languageId": "r"
        }
      },
      "outputs": [],
      "source": [
        "flapro_perc_w_prev = lapply(flapro_perc, function(x) {\n",
        "\tx %>%\n",
        "\t\tmutate(prev = sum(value > ABUND_CUTOFF_PERC) / length(value) * 100, \n",
        "\t\t\t\t.by=c(feature)) %>% \n",
        "\t\tselect(-value, -Sample) %>%\n",
        "\t\tdistinct() %>% \n",
        "\t\tarrange(desc(prev))\n",
        "})\n",
        "flapro_perc_w_prev"
      ]
    },
    {
      "cell_type": "code",
      "execution_count": {},
      "metadata": {
        "tags": [
          "template"
        ],
        "vscode": {
          "languageId": "r"
        }
      },
      "outputs": [],
      "source": [
        "# plot a barplot of the flagellins prevalence arranged by the prevalence desc\n",
        "#p.dims(15, 10)\n",
        "p.dims(5, 8)\n",
        "tt = flapro_perc_w_prev[[SCENARIO_NB]] %>% filter(prev > PREVALENCE_CUTOFF)\n",
        "tt %>% \n",
        "    #ggplot(aes(x = reorder(FlaCluster, prev), y = prev, fill = FlaCluster)) + #Family)) + \n",
        "    \n",
        "    inner_join(meta_fla_clus, by = c(\"feature\" = \"FlaCluster\")) %>% \n",
        "        ggplot(aes(x = reorder(feature, prev), y = prev, fill = Cluster_Pred)) +     \n",
        "\n",
        "        geom_bar(stat = \"identity\") + #, color = \"black\", size = 0.1) + \n",
        "        #scale_fill_igv() +\n",
        "        scale_fill_manual(values = FLA_CLASSES_COLORS) +    \n",
        "\n",
        "        # ! The below commented line does NOT work properly    \n",
        "        ## label y axis by Family    \n",
        "        #scale_x_discrete(labels = tt$Family) +     \n",
        "\n",
        "        theme_bw() + theme(axis.text.x = element_text(angle = 90, hjust = 1)) +\n",
        "        coord_flip() +\n",
        "        labs(x = \"Flagellin cluster\", y = \"Prevalence (%)\") +\n",
        "        # smaller axis text\n",
        "        theme(axis.text.x = element_text(size = 6), axis.text.y = element_text(size = 6)) +\n",
        "        # legend - top\n",
        "        theme(legend.position = \"top\") +\n",
        "        # smaller legend\n",
        "        theme(legend.text = element_text(size = 7), legend.title = element_text(size = 7)) +\n",
        "        theme(legend.key.size = unit(0.5, \"cm\")) + \n",
        "        ggtitle(paste0(\"flapro_perc: \", SCENARIO_NB))\n",
        "\n",
        "    #flapro_perc_w_prev %>% ggplot(aes(prev)) + geom_histogram(bins = 150) + theme_minimal()"
      ]
    },
    {
      "cell_type": "code",
      "execution_count": {},
      "metadata": {
        "block_path": "notebooks/differential_analysis/notebook_generator/blocks/_shared/05_t_preprocess_B.ipynb",
        "source_hash": "a1514acf0c288d0fba58c29a5555b0bd679bf9d7",
        "tags": [
          "template"
        ],
        "vscode": {
          "languageId": "r"
        }
      },
      "outputs": [],
      "source": [
        "# FLAPRO_PERC: filtering low prevalence\n",
        "flapro_perc = lapply(flapro_perc, function(x) {  \n",
        "    print(x %>% unique_n('features before filtering', feature))\n",
        "    res = x %>% \n",
        "        mutate(prev = sum(value > ABUND_CUTOFF_PERC) / length(value) * 100, \n",
        "                .by=c(feature)) %>%\n",
        "        filter(prev > PREVALENCE_CUTOFF) %>%\n",
        "        select(-prev)\n",
        "    print(res %>% unique_n('features after filtering', feature))\n",
        "    res\n",
        "})"
      ]
    },
    {
      "cell_type": "code",
      "execution_count": {},
      "metadata": {
        "tags": [
          "template"
        ],
        "vscode": {
          "languageId": "r"
        }
      },
      "outputs": [],
      "source": [
        "# filter FLAPRO the same way as FLAPRO_PERC\n",
        "flapro = lapply(AVAILABLE_OMICS, function(x) {  \t\n",
        "\tflapro[[x]] %>% semi_join(flapro_perc[[x]], by = \"feature\")\n",
        "}) %>% setNames(AVAILABLE_OMICS)"
      ]
    },
    {
      "cell_type": "markdown",
      "metadata": {
        "tags": [
          "template"
        ]
      },
      "source": [
        "#### extra round of filtering: drop zero samples that might have appeared after the prevalence filtering"
      ]
    },
    {
      "cell_type": "code",
      "execution_count": {},
      "metadata": {
        "tags": [
          "template"
        ],
        "vscode": {
          "languageId": "r"
        }
      },
      "outputs": [],
      "source": [
        "flapro_stats2 = lapply(AVAILABLE_OMICS, function(x) {\n",
        "    flapro[[x]] %>% \n",
        "\t    mutate(counts_per_sample = as.double(sum(value)), .by = \"Sample\") %>%     \n",
        "        select(Sample, counts_per_sample) %>% distinct() %>% arrange(desc(counts_per_sample))\n",
        "}) %>% setNames(AVAILABLE_OMICS)"
      ]
    },
    {
      "cell_type": "code",
      "execution_count": {},
      "metadata": {
        "tags": [
          "template"
        ],
        "vscode": {
          "languageId": "r"
        }
      },
      "outputs": [],
      "source": [
        "samples_with_0_fla2 = lapply(flapro_stats2, function(x) {\t\n",
        "\tx %>% filter(counts_per_sample < MIN_FLA_READS_PER_SAMPLE_ROUND_2) %>% select(Sample)\n",
        "})\n",
        "samples_with_0_fla2"
      ]
    },
    {
      "cell_type": "code",
      "execution_count": {},
      "metadata": {
        "tags": [
          "template"
        ],
        "vscode": {
          "languageId": "r"
        }
      },
      "outputs": [],
      "source": [
        "# flapro and flapro_perc: round 2 filter out the samples with low total Fla\n",
        "flapro = lapply(AVAILABLE_OMICS, function(x) {\n",
        "    flapro[[x]] %>% filter(!(Sample %in% samples_with_0_fla2[[x]]$Sample))    \n",
        "}) %>% setNames(AVAILABLE_OMICS)\n",
        "\n",
        "flapro_perc = lapply(AVAILABLE_OMICS, function(x) {\n",
        "    flapro_perc[[x]] %>% filter(!(Sample %in% samples_with_0_fla2[[x]]$Sample))\n",
        "}) %>% setNames(AVAILABLE_OMICS)"
      ]
    },
    {
      "cell_type": "markdown",
      "metadata": {
        "tags": [
          "template"
        ]
      },
      "source": [
        "#### - flapro_rel ---> flapro_rel_maj"
      ]
    },
    {
      "cell_type": "code",
      "execution_count": {},
      "metadata": {
        "tags": [
          "template"
        ],
        "vscode": {
          "languageId": "r"
        }
      },
      "outputs": [],
      "source": [
        "flapro_rel[[SCENARIO_COMPON]] %>% select(feature) %>% distinct() %>% nrow()"
      ]
    },
    {
      "cell_type": "code",
      "execution_count": {},
      "metadata": {
        "block_path": "notebooks/differential_analysis/notebook_generator/blocks/_shared/05_t_preprocess_B.ipynb",
        "source_hash": "778c78294d686229b4b9e65e3ead13529b9864ab",
        "tags": [
          "template"
        ],
        "vscode": {
          "languageId": "r"
        }
      },
      "outputs": [],
      "source": [
        "flapro_rel_w_prev = \n",
        "\tflapro_rel[[SCENARIO_COMPON]] %>%\t\t\n",
        "\t\tmutate(prev = sum(value > REL_AB_ABUND_CUTOFF) / length(value) * 100, \t\t\n",
        "\t\t\t\t.by=c(feature)) %>% \n",
        "\t\tselect(-value, -Sample) %>%\n",
        "\t\tdistinct() %>% \n",
        "\t\tarrange(desc(prev))\n",
        "flapro_rel_w_prev"
      ]
    },
    {
      "cell_type": "code",
      "execution_count": {},
      "metadata": {
        "tags": [
          "template"
        ],
        "vscode": {
          "languageId": "r"
        }
      },
      "outputs": [],
      "source": [
        "# plot hist of flapro_rel_w_prev\n",
        "p.dims(8, 2)\n",
        "flapro_rel_w_prev %>% \n",
        "    ggplot(aes(prev)) + geom_histogram(bins = 150) + theme_minimal() +\n",
        "    xlab(\"Prevalence (%)\") +\n",
        "    ylab(\"Number of features\") +\n",
        "    ggtitle(SCENARIO_COMPON) +\n",
        "    # smaller axis text\n",
        "    theme(axis.text.x = element_text(size = 6), axis.text.y = element_text(size = 6)) +\n",
        "    # legend - top\n",
        "    theme(legend.position = \"top\") +\n",
        "    # smaller legend\n",
        "    theme(legend.text = element_text(size = 7), legend.title = element_text(size = 7)) +\n",
        "    theme(legend.key.size = unit(0.5, \"cm\")) + \n",
        "    scale_x_continuous(limits=c(0,100)) +\n",
        "    scale_y_continuous(limits=c(0,50))"
      ]
    },
    {
      "cell_type": "code",
      "execution_count": {},
      "metadata": {
        "block_path": "notebooks/differential_analysis/notebook_generator/blocks/_shared/05_t_preprocess_B.ipynb",
        "source_hash": "1acd400905b951966fee2bd518a51b2c01c0f6c2",
        "tags": [
          "template"
        ],
        "vscode": {
          "languageId": "r"
        }
      },
      "outputs": [],
      "source": [
        "# (OFF) for the ratio - additionally require high prevalence by MTX\n",
        "if(FALSE) {\n",
        "\tif(SCENARIO_COMPON == \"MTX_MGX_ratio\") {\n",
        "\t\tprev_by_mtx = flapro_rel[[\"MTX\"]] %>%\n",
        "\t\t\tmutate(prev_mtx = sum(value > REL_AB_ABUND_CUTOFF) / length(value) * 100, \n",
        "\t\t\t\t\t.by=c(feature)) %>% \n",
        "\t\t\tselect(-value, -Sample) %>%\n",
        "\t\t\tdistinct() %>% \n",
        "\n",
        "\t\t\tfilter(prev_mtx > REL_AB_PREVALENCE_CUTOFF) %>%\n",
        "\n",
        "\t\t\tarrange(desc(prev_mtx))\n",
        "\t\t\n",
        "\t\tprint(prev_by_mtx)\n",
        "\t\t\n",
        "\t\tflapro_rel_w_prev = flapro_rel_w_prev %>% semi_join(prev_by_mtx, by = \"feature\")\n",
        "\t}\n",
        "\n",
        "\tflapro_rel_w_prev\n",
        "}"
      ]
    },
    {
      "cell_type": "code",
      "execution_count": {},
      "metadata": {
        "tags": [
          "template"
        ],
        "vscode": {
          "languageId": "r"
        }
      },
      "outputs": [],
      "source": [
        "p.dims(5, 8)\n",
        "tt = flapro_rel_w_prev %>% filter(prev > REL_AB_PREVALENCE_CUTOFF)\n",
        "tt %>% \n",
        "    inner_join(meta_fla_clus, by = c(\"feature\" = \"FlaCluster\")) %>% \n",
        "    ggplot(aes(x = reorder(feature, prev), y = prev, fill = Cluster_Pred)) +     \n",
        "\n",
        "    geom_bar(stat = \"identity\") + #, color = \"black\", size = 0.1) + \n",
        "    scale_fill_manual(values = FLA_CLASSES_COLORS) +    \n",
        "    theme_bw() + theme(axis.text.x = element_text(angle = 90, hjust = 1)) +\n",
        "    coord_flip() +\n",
        "    labs(x = \"Flagellin cluster\", y = \"Prevalence (%)\") +\n",
        "    # smaller axis text\n",
        "    theme(axis.text.x = element_text(size = 6), axis.text.y = element_text(size = 6)) +\n",
        "    # legend - top\n",
        "    theme(legend.position = \"top\") +\n",
        "    # smaller legend\n",
        "    theme(legend.text = element_text(size = 7), legend.title = element_text(size = 7)) +\n",
        "    theme(legend.key.size = unit(0.5, \"cm\")) + \n",
        "    ggtitle(paste0(\"flapro_rel: \", SCENARIO_COMPON))    "
      ]
    },
    {
      "cell_type": "code",
      "execution_count": {},
      "metadata": {
        "block_path": "notebooks/differential_analysis/notebook_generator/blocks/_shared/05_t_preprocess_B.ipynb",
        "source_hash": "9fff94dd9babf6b6145c4893beb5a07b0d135739",
        "tags": [
          "template"
        ],
        "vscode": {
          "languageId": "r"
        }
      },
      "outputs": [],
      "source": [
        "# Filter flapro_rel using its own prevalence and abundance cutoffs, save the filtered as flapro_rel_maj\n",
        "flapro_rel_maj = \n",
        "    flapro_rel_w_prev %>%     \n",
        "    filter(prev > REL_AB_PREVALENCE_CUTOFF) %>%    \n",
        "    select(-prev)\n",
        "flapro_rel_maj %>% unique_n('features after filtering', feature)"
      ]
    },
    {
      "cell_type": "code",
      "execution_count": {},
      "metadata": {
        "tags": [
          "template"
        ],
        "vscode": {
          "languageId": "r"
        }
      },
      "outputs": [],
      "source": [
        "flapro_rel_maj = flapro_rel_maj %>% inner_join(flapro_rel[[SCENARIO_COMPON]], by = \"feature\")\n",
        "flapro_rel_maj"
      ]
    },
    {
      "cell_type": "code",
      "execution_count": {},
      "metadata": {
        "tags": [
          "template"
        ],
        "vscode": {
          "languageId": "r"
        }
      },
      "outputs": [],
      "source": [
        "flapro_rel_maj %>% inner_join(meta_fla_clus, by = c(\"feature\" = \"FlaCluster\")) %>% \n",
        "    select(feature, Cluster_Pred) %>% \n",
        "    distinct() %>% \n",
        "    select(Cluster_Pred) %>% \n",
        "    table()"
      ]
    },
    {
      "cell_type": "code",
      "execution_count": {},
      "metadata": {
        "tags": [
          "template"
        ],
        "vscode": {
          "languageId": "r"
        }
      },
      "outputs": [],
      "source": [
        "# do log transformation of the fla profiles\n",
        "flapro_rel_maj_log = flapro_rel_maj %>% \n",
        "    mutate(value = log10(value + 1))\n",
        "flapro_rel_maj_log"
      ]
    },
    {
      "cell_type": "markdown",
      "metadata": {
        "tags": [
          "template"
        ]
      },
      "source": [
        "### prep-s for NB: init countData, for the selected omic (in line with flapro and flapro_perc)"
      ]
    },
    {
      "cell_type": "code",
      "execution_count": {},
      "metadata": {
        "tags": [
          "template"
        ],
        "vscode": {
          "languageId": "r"
        }
      },
      "outputs": [],
      "source": [
        "# creating count table\n",
        "countData = \n",
        "    flapro[[SCENARIO_NB]] %>%\n",
        "    rename('sample' = Sample) %>%\n",
        "    select(sample, feature, value) %>%\n",
        "    # only leave the samples that are in the meta\n",
        "    semi_join(meta_samples, by = c(\"sample\" = \"Sample\")) %>%\n",
        "    pivot_wider(names_from = \"sample\", values_from = \"value\", values_fill=0) %>%\n",
        "    # convert countData to a data frame with name moved to rownames\n",
        "    column_to_rownames(\"feature\") %>%\n",
        "    as.data.frame\n",
        "\n",
        "# sort columns and rows alphabetically\n",
        "countData = countData[sort(rownames(countData)), sort(colnames(countData))]\n",
        "countData"
      ]
    },
    {
      "cell_type": "code",
      "execution_count": {},
      "metadata": {
        "tags": [
          "template"
        ],
        "vscode": {
          "languageId": "r"
        }
      },
      "outputs": [],
      "source": [
        "lapply(AVAILABLE_OMICS, function(x) {\n",
        "    y = flapro[[x]]\n",
        "    res = y %>% \n",
        "\t    mutate(counts_per_sample = as.double(sum(value)), .by = \"Sample\") %>%     \n",
        "        select(Sample, counts_per_sample) %>% distinct() %>% arrange(desc(counts_per_sample))\n",
        "    \n",
        "    res %>% filter(counts_per_sample == 0)\n",
        "}) %>% setNames(AVAILABLE_OMICS)"
      ]
    },
    {
      "cell_type": "code",
      "execution_count": {},
      "metadata": {
        "tags": [
          "template"
        ],
        "vscode": {
          "languageId": "r"
        }
      },
      "outputs": [],
      "source": [
        "# version of meta data table for the Compositional analysis\n",
        "meta_samples_NB = meta_samples %>% semi_join(flapro[[SCENARIO_NB]], by = \"Sample\") %>% arrange(Sample)\n",
        "meta_samples_NB"
      ]
    },
    {
      "cell_type": "code",
      "execution_count": {},
      "metadata": {
        "tags": [
          "template"
        ],
        "vscode": {
          "languageId": "r"
        }
      },
      "outputs": [],
      "source": [
        "test_that(\"flapro and meta fit\", {\n",
        "    expect_equal(colnames(countData), meta_samples_NB %>% select(Sample) %>% pull())    \n",
        "})"
      ]
    },
    {
      "cell_type": "markdown",
      "metadata": {
        "tags": [
          "template"
        ]
      },
      "source": [
        "# Analysis"
      ]
    }
  ]
}
